{
 "cells": [
  {
   "cell_type": "code",
   "metadata": {
    "ExecuteTime": {
     "end_time": "2024-05-07T08:39:54.491268Z",
     "start_time": "2024-05-07T08:39:52.113748Z"
    }
   },
   "source": [
    "import pandas as pd\n",
    "import numpy as np\n",
    "import pygad\n",
    "import random\n",
    "import copy"
   ],
   "outputs": [],
   "execution_count": 2
  },
  {
   "cell_type": "code",
   "metadata": {
    "ExecuteTime": {
     "end_time": "2024-05-07T08:39:54.500507Z",
     "start_time": "2024-05-07T08:39:54.493290Z"
    }
   },
   "source": [
    "import csv\n",
    "\n",
    "# Initialize an empty dictionary\n",
    "enginge_RUL = {}\n",
    "\n",
    "with open('RUL_consultancy_predictions_A3-2.csv', newline='') as csvfile:\n",
    "    # Create a CSV reader object with semicolon as delimiter\n",
    "    reader = csv.reader(csvfile, delimiter=';')\n",
    "    # Skip the header row\n",
    "    next(reader)\n",
    "    # Loop over each row in the CSV\n",
    "    for row in reader:\n",
    "        # Check if row has exactly 2 columns\n",
    "        if len(row) == 2:\n",
    "            enginge_RUL[int(row[1])] = int(row[0])"
   ],
   "outputs": [],
   "execution_count": 3
  },
  {
   "cell_type": "code",
   "metadata": {
    "ExecuteTime": {
     "end_time": "2024-05-07T08:39:54.510484Z",
     "start_time": "2024-05-07T08:39:54.502513Z"
    }
   },
   "source": [
    "engine_RUL_30 = {key: value for key, value in enginge_RUL.items() if value <= 30}\n",
    "engine_RUL_30"
   ],
   "outputs": [
    {
     "data": {
      "text/plain": [
       "{20: 10,\n",
       " 24: 26,\n",
       " 31: 14,\n",
       " 34: 8,\n",
       " 35: 8,\n",
       " 36: 24,\n",
       " 37: 21,\n",
       " 40: 29,\n",
       " 41: 23,\n",
       " 42: 13,\n",
       " 49: 14,\n",
       " 56: 18,\n",
       " 61: 23,\n",
       " 64: 24,\n",
       " 66: 18,\n",
       " 68: 13,\n",
       " 76: 3,\n",
       " 77: 27,\n",
       " 81: 6,\n",
       " 82: 11,\n",
       " 90: 28,\n",
       " 91: 29,\n",
       " 92: 24,\n",
       " 100: 24}"
      ]
     },
     "execution_count": 4,
     "metadata": {},
     "output_type": "execute_result"
    }
   ],
   "execution_count": 4
  },
  {
   "cell_type": "code",
   "metadata": {
    "ExecuteTime": {
     "end_time": "2024-05-07T08:39:54.520199Z",
     "start_time": "2024-05-07T08:39:54.513339Z"
    }
   },
   "source": [
    "Team_A_time = {key: 4 for key in range(1, 21)}\n",
    "Team_A_time.update({key: 3 for key in range(21, 56)})\n",
    "Team_A_time.update({key: 2 for key in range(56, 81)})\n",
    "Team_A_time.update({key: 8 for key in range(81, 101)})\n",
    "\n",
    "Team_B_time = {j : Team_A_time[j] + 1 for j in range(1, 26)}\n",
    "Team_B_time.update({j : Team_A_time[j] + 2 for j in range(26, 71)})\n",
    "Team_B_time.update({j : Team_A_time[j] + 1 for j in range(71, 101)})"
   ],
   "outputs": [],
   "execution_count": 5
  },
  {
   "cell_type": "code",
   "metadata": {
    "ExecuteTime": {
     "end_time": "2024-05-07T08:39:54.528382Z",
     "start_time": "2024-05-07T08:39:54.524211Z"
    }
   },
   "source": [
    "T1_time = Team_A_time\n",
    "T2_time = Team_B_time\n",
    "T3_time = Team_A_time\n",
    "T4_time = Team_B_time"
   ],
   "outputs": [],
   "execution_count": 6
  },
  {
   "metadata": {
    "ExecuteTime": {
     "end_time": "2024-05-07T08:39:54.534288Z",
     "start_time": "2024-05-07T08:39:54.531392Z"
    }
   },
   "cell_type": "code",
   "source": "",
   "outputs": [],
   "execution_count": 6
  },
  {
   "cell_type": "code",
   "metadata": {
    "ExecuteTime": {
     "end_time": "2024-05-07T08:39:54.541281Z",
     "start_time": "2024-05-07T08:39:54.535294Z"
    }
   },
   "source": [
    "schedule = {\"T1\":[0,5], \"T2\":{}, \"T3\":{}, \"T4\":{}}\n",
    "for i in schedule:\n",
    "    print(i)"
   ],
   "outputs": [
    {
     "name": "stdout",
     "output_type": "stream",
     "text": [
      "T1\n",
      "T2\n",
      "T3\n",
      "T4\n"
     ]
    }
   ],
   "execution_count": 7
  },
  {
   "cell_type": "code",
   "metadata": {
    "ExecuteTime": {
     "end_time": "2024-05-07T08:39:54.550054Z",
     "start_time": "2024-05-07T08:39:54.543294Z"
    }
   },
   "source": "schedule[\"T1\"]",
   "outputs": [
    {
     "data": {
      "text/plain": [
       "[0, 5]"
      ]
     },
     "execution_count": 8,
     "metadata": {},
     "output_type": "execute_result"
    }
   ],
   "execution_count": 8
  },
  {
   "cell_type": "code",
   "metadata": {
    "ExecuteTime": {
     "end_time": "2024-05-07T08:39:54.557943Z",
     "start_time": "2024-05-07T08:39:54.551912Z"
    }
   },
   "source": [
    "test = [0,2,4,5,8,6]\n",
    "index = random.randrange(len(test))\n",
    "selected_engine = test.pop(index)\n",
    "print(index)\n",
    "print(selected_engine)"
   ],
   "outputs": [
    {
     "name": "stdout",
     "output_type": "stream",
     "text": [
      "1\n",
      "2\n"
     ]
    }
   ],
   "execution_count": 9
  },
  {
   "cell_type": "code",
   "metadata": {
    "ExecuteTime": {
     "end_time": "2024-05-07T08:39:54.567301Z",
     "start_time": "2024-05-07T08:39:54.559960Z"
    }
   },
   "source": [
    "test = 1\n",
    "test += 2\n",
    "test"
   ],
   "outputs": [
    {
     "data": {
      "text/plain": [
       "3"
      ]
     },
     "execution_count": 10,
     "metadata": {},
     "output_type": "execute_result"
    }
   ],
   "execution_count": 10
  },
  {
   "cell_type": "code",
   "metadata": {
    "ExecuteTime": {
     "end_time": "2024-05-07T08:39:54.578944Z",
     "start_time": "2024-05-07T08:39:54.569829Z"
    }
   },
   "source": [
    "def calculate_team_work_time(team, engines):\n",
    "    if team in [\"T1\", \"T3\"]:\n",
    "        engine_times = Team_A_time\n",
    "    else:\n",
    "        engine_times = Team_B_time\n",
    "    \n",
    "    time = 0\n",
    "    \n",
    "    for engine in engines:\n",
    "        time += engine_times[engine]\n",
    "    \n",
    "    return time\n",
    "    \n",
    "\n",
    "def random_init(engines_RUL):\n",
    "    schedule = {\"T1\":[], \"T2\":[], \"T3\":[], \"T4\":[]}\n",
    "    \n",
    "    possible_engines = list(engines_RUL.keys())\n",
    "    possible_teams = [\"T1\", \"T2\", \"T3\", \"T4\"]\n",
    "    \n",
    "    iterations = 0 \n",
    "    \n",
    "    while possible_engines and iterations < 500:\n",
    "        index = random.randrange(4)\n",
    "        team = possible_teams[index]\n",
    "        \n",
    "        index = random.randrange(len(possible_engines))\n",
    "        selected_engine = possible_engines[index]\n",
    "        \n",
    "        temp_schedule = copy.deepcopy(schedule)\n",
    "        temp_schedule[team].append(selected_engine)\n",
    "        \n",
    "        if calculate_team_work_time(team, temp_schedule[team]) <= 30:\n",
    "            schedule = temp_schedule\n",
    "            possible_engines.remove(selected_engine)\n",
    "        iterations += 1\n",
    "\n",
    "    return schedule"
   ],
   "outputs": [],
   "execution_count": 11
  },
  {
   "cell_type": "code",
   "metadata": {
    "ExecuteTime": {
     "end_time": "2024-05-07T08:39:54.591376Z",
     "start_time": "2024-05-07T08:39:54.580957Z"
    }
   },
   "source": [
    "random_init(engine_RUL_30)"
   ],
   "outputs": [
    {
     "data": {
      "text/plain": [
       "{'T1': [35, 37, 64, 91, 76, 42, 81],\n",
       " 'T2': [56, 34, 20, 100, 36],\n",
       " 'T3': [77, 68, 90, 82, 66, 49, 40],\n",
       " 'T4': [41, 31, 61, 92, 24]}"
      ]
     },
     "execution_count": 12,
     "metadata": {},
     "output_type": "execute_result"
    }
   ],
   "execution_count": 12
  },
  {
   "cell_type": "code",
   "metadata": {
    "ExecuteTime": {
     "end_time": "2024-05-07T08:39:54.599570Z",
     "start_time": "2024-05-07T08:39:54.593384Z"
    }
   },
   "source": "print(\"T1\"+\"_time\")\n",
   "outputs": [
    {
     "name": "stdout",
     "output_type": "stream",
     "text": [
      "T1_time\n"
     ]
    }
   ],
   "execution_count": 13
  },
  {
   "metadata": {},
   "cell_type": "markdown",
   "source": "Loss Function"
  },
  {
   "metadata": {
    "ExecuteTime": {
     "end_time": "2024-05-07T08:39:54.615045Z",
     "start_time": "2024-05-07T08:39:54.603578Z"
    }
   },
   "cell_type": "code",
   "source": [
    "def engine_fix_date(schedule):\n",
    "    engine_fix = {}\n",
    "    for team in schedule:\n",
    "        days = 0\n",
    "        if team == \"T1\" or team == \"T3\":\n",
    "            time_table = Team_A_time\n",
    "        else:\n",
    "            time_table = Team_B_time\n",
    "        for engine in schedule[team]:\n",
    "            engine_fix[engine] = days\n",
    "            days = days + time_table[engine]\n",
    "            \n",
    "    return engine_fix\n",
    "\n",
    "\n",
    "initial_schedule = random_init(engine_RUL_30)\n",
    "print(initial_schedule)\n",
    "engine_cost = {}\n",
    "\n",
    "for engine in engine_RUL_30:\n",
    "    engine_cost[engine] = 8\n",
    "    \n",
    "\n",
    "\n",
    "def loss_function(schedule, engine_RUL, engine_cost):\n",
    "    loss = 0\n",
    "    fix_dates = engine_fix_date(schedule)\n",
    "    print(fix_dates)\n",
    "    print(engine_RUL)\n",
    "    for team in schedule:\n",
    "        for engine in schedule[team]:\n",
    "\n",
    "            days_late = fix_dates[engine] - engine_RUL[engine]\n",
    "            engine_loss = 0\n",
    "            if days_late > 0:\n",
    "                cost = engine_cost[engine]\n",
    "    \n",
    "                for i in range(days_late):\n",
    "                    day_loss = (cost * i)*(cost*i) # correct cost function needs to be inputted\n",
    "                    if day_loss > 250:\n",
    "                        day_loss = 250\n",
    "                    engine_loss += day_loss\n",
    "            loss += engine_loss\n",
    "        \n",
    "    return loss  \n",
    "\n",
    "loss_schedule = loss_function(initial_schedule, engine_RUL_30, engine_cost)\n",
    "print(loss_schedule)"
   ],
   "outputs": [
    {
     "name": "stdout",
     "output_type": "stream",
     "text": [
      "{'T1': [20, 91, 40, 64, 66, 76, 36, 49, 34], 'T2': [100, 37, 31, 68, 56], 'T3': [24, 90, 82, 77, 92], 'T4': [41, 61, 42, 81, 35]}\n",
      "{20: 0, 91: 4, 40: 12, 64: 15, 66: 17, 76: 19, 36: 21, 49: 24, 34: 27, 100: 0, 37: 9, 31: 14, 68: 19, 56: 23, 24: 0, 90: 3, 82: 11, 77: 19, 92: 21, 41: 0, 61: 5, 42: 9, 81: 14, 35: 23}\n",
      "{20: 10, 24: 26, 31: 14, 34: 8, 35: 8, 36: 24, 37: 21, 40: 29, 41: 23, 42: 13, 49: 14, 56: 18, 61: 23, 64: 24, 66: 18, 68: 13, 76: 3, 77: 27, 81: 6, 82: 11, 90: 28, 91: 29, 92: 24, 100: 24}\n",
      "16698\n"
     ]
    }
   ],
   "execution_count": 14
  }
 ],
 "metadata": {
  "kernelspec": {
   "display_name": ".venv",
   "language": "python",
   "name": "python3"
  },
  "language_info": {
   "codemirror_mode": {
    "name": "ipython",
    "version": 3
   },
   "file_extension": ".py",
   "mimetype": "text/x-python",
   "name": "python",
   "nbconvert_exporter": "python",
   "pygments_lexer": "ipython3",
   "version": "3.9.5"
  }
 },
 "nbformat": 4,
 "nbformat_minor": 2
}
