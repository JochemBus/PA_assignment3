{
 "cells": [
  {
   "cell_type": "code",
   "metadata": {
    "ExecuteTime": {
     "end_time": "2024-05-08T17:02:34.649996Z",
     "start_time": "2024-05-08T17:02:32.995943Z"
    }
   },
   "source": [
    "import pandas as pd\n",
    "import numpy as np\n",
    "import pygad\n",
    "import random\n",
    "import copy"
   ],
   "outputs": [],
   "execution_count": 1
  },
  {
   "cell_type": "code",
   "metadata": {
    "ExecuteTime": {
     "end_time": "2024-05-08T17:02:34.702331Z",
     "start_time": "2024-05-08T17:02:34.649996Z"
    }
   },
   "source": [
    "import csv\n",
    "\n",
    "# Initialize an empty dictionary\n",
    "enginge_RUL = {}\n",
    "\n",
    "with open('RUL_consultancy_predictions_A3-2.csv', newline='') as csvfile:\n",
    "    # Create a CSV reader object with semicolon as delimiter\n",
    "    reader = csv.reader(csvfile, delimiter=';')\n",
    "    # Skip the header row\n",
    "    next(reader)\n",
    "    # Loop over each row in the CSV\n",
    "    for row in reader:\n",
    "        # Check if row has exactly 2 columns\n",
    "        if len(row) == 2:\n",
    "            enginge_RUL[int(row[1])] = int(row[0])"
   ],
   "outputs": [],
   "execution_count": 2
  },
  {
   "cell_type": "code",
   "metadata": {
    "ExecuteTime": {
     "end_time": "2024-05-08T17:02:34.717375Z",
     "start_time": "2024-05-08T17:02:34.704850Z"
    }
   },
   "source": [
    "engine_RUL_30 = {key: value for key, value in enginge_RUL.items() if value <= 30}"
   ],
   "outputs": [],
   "execution_count": 3
  },
  {
   "cell_type": "code",
   "metadata": {
    "ExecuteTime": {
     "end_time": "2024-05-08T17:02:34.737916Z",
     "start_time": "2024-05-08T17:02:34.717375Z"
    }
   },
   "source": [
    "Team_A_time = {key: 4 for key in range(1, 21)}\n",
    "Team_A_time.update({key: 3 for key in range(21, 56)})\n",
    "Team_A_time.update({key: 2 for key in range(56, 81)})\n",
    "Team_A_time.update({key: 8 for key in range(81, 101)})\n",
    "\n",
    "Team_B_time = {j : Team_A_time[j] + 1 for j in range(1, 26)}\n",
    "Team_B_time.update({j : Team_A_time[j] + 2 for j in range(26, 71)})\n",
    "Team_B_time.update({j : Team_A_time[j] + 1 for j in range(71, 101)})"
   ],
   "outputs": [],
   "execution_count": 4
  },
  {
   "cell_type": "code",
   "metadata": {
    "ExecuteTime": {
     "end_time": "2024-05-08T17:02:34.774951Z",
     "start_time": "2024-05-08T17:02:34.744939Z"
    }
   },
   "source": [
    "T1_time = Team_A_time\n",
    "T2_time = Team_B_time\n",
    "T3_time = Team_A_time\n",
    "T4_time = Team_B_time"
   ],
   "outputs": [],
   "execution_count": 5
  },
  {
   "cell_type": "markdown",
   "metadata": {},
   "source": [
    "# Random Initializer"
   ]
  },
  {
   "cell_type": "code",
   "metadata": {
    "ExecuteTime": {
     "end_time": "2024-05-08T17:02:34.794917Z",
     "start_time": "2024-05-08T17:02:34.776468Z"
    }
   },
   "source": [
    "def calculate_team_work_time(team, engines):\n",
    "    if team in [\"T1\", \"T3\"]:\n",
    "        engine_times = Team_A_time\n",
    "    else:\n",
    "        engine_times = Team_B_time\n",
    "    \n",
    "    time = 0\n",
    "    \n",
    "    for engine in engines:\n",
    "        time += engine_times[engine]\n",
    "    \n",
    "    return time\n",
    "    \n",
    "\n",
    "def random_init(engines_RUL):\n",
    "    schedule = {\"T1\":[], \"T2\":[], \"T3\":[], \"T4\":[]}\n",
    "    \n",
    "    possible_engines = list(engines_RUL.keys())\n",
    "    possible_teams = [\"T1\", \"T2\", \"T3\", \"T4\"]\n",
    "    \n",
    "    iterations = 0 \n",
    "    \n",
    "    while possible_engines and iterations < 500:\n",
    "        index = random.randrange(4)\n",
    "        team = possible_teams[index]\n",
    "        \n",
    "        index = random.randrange(len(possible_engines))\n",
    "        selected_engine = possible_engines[index]\n",
    "        \n",
    "        schedule[team].append(selected_engine)\n",
    "        \n",
    "        possible_engines.remove(selected_engine)\n",
    "        \n",
    "        iterations += 1\n",
    "\n",
    "    return schedule"
   ],
   "outputs": [],
   "execution_count": 6
  },
  {
   "cell_type": "code",
   "metadata": {
    "ExecuteTime": {
     "end_time": "2024-05-08T17:02:34.824986Z",
     "start_time": "2024-05-08T17:02:34.794917Z"
    }
   },
   "source": [
    "random_init(engine_RUL_30)"
   ],
   "outputs": [
    {
     "data": {
      "text/plain": [
       "{'T1': [20, 24, 40, 34, 77, 31],\n",
       " 'T2': [36, 91, 61, 76, 37],\n",
       " 'T3': [41, 90, 100, 56, 42],\n",
       " 'T4': [35, 92, 49, 68, 82, 81, 66, 64]}"
      ]
     },
     "execution_count": 7,
     "metadata": {},
     "output_type": "execute_result"
    }
   ],
   "execution_count": 7
  },
  {
   "cell_type": "markdown",
   "metadata": {},
   "source": [
    "# Loss Function"
   ]
  },
  {
   "cell_type": "code",
   "metadata": {
    "ExecuteTime": {
     "end_time": "2024-05-08T17:02:34.857363Z",
     "start_time": "2024-05-08T17:02:34.824986Z"
    }
   },
   "source": [
    "def engine_fix_date(schedule):\n",
    "    engine_fix = {}\n",
    "    for team in schedule:\n",
    "        days = 0\n",
    "        if team == \"T1\" or team == \"T3\":\n",
    "            time_table = Team_A_time\n",
    "        else:\n",
    "            time_table = Team_B_time\n",
    "            \n",
    "        for engine in schedule[team]:\n",
    "            engine_fix[engine] = days\n",
    "            days = days + time_table[engine]\n",
    "              \n",
    "    return engine_fix\n",
    "\n",
    "\n",
    "initial_schedule = random_init(engine_RUL_30)\n",
    "print(initial_schedule)\n",
    "\n",
    "engine_cost = {key: 4 for key in range(1, 21)}\n",
    "engine_cost.update({key: 3 for key in range(21, 31)})\n",
    "engine_cost.update({key: 2 for key in range(31, 46)})\n",
    "engine_cost.update({key: 5 for key in range(46, 81)})\n",
    "engine_cost.update({key: 6 for key in range(81, 100)})\n",
    "\n",
    "\n",
    "def loss_function(schedule, engine_RUL, engine_cost):\n",
    "    loss = 0\n",
    "    fix_dates = engine_fix_date(schedule)\n",
    "    print(fix_dates)\n",
    "    print(engine_RUL)\n",
    "    for team in schedule:\n",
    "        for engine in schedule[team]:\n",
    "\n",
    "            days_late = fix_dates[engine] - engine_RUL[engine]\n",
    "            engine_loss = 0\n",
    "            if days_late > 0:\n",
    "                cost = engine_cost[engine]\n",
    "    \n",
    "                for i in range(days_late):\n",
    "                    day_loss = cost * (i ** 2)\n",
    "                    if day_loss > 250:\n",
    "                        day_loss = 250\n",
    "                    engine_loss += day_loss\n",
    "            loss += engine_loss\n",
    "        \n",
    "    return loss  \n",
    "\n",
    "loss_schedule = loss_function(initial_schedule, engine_RUL_30, engine_cost)\n",
    "print(loss_schedule)"
   ],
   "outputs": [
    {
     "name": "stdout",
     "output_type": "stream",
     "text": [
      "{'T1': [100], 'T2': [82, 40, 91, 35, 90, 81, 34, 37, 41, 24, 49], 'T3': [92, 31, 36, 68, 20, 76, 42], 'T4': [56, 64, 66, 77, 61]}\n",
      "{100: 0, 82: 0, 40: 9, 91: 14, 35: 23, 90: 28, 81: 37, 34: 46, 37: 51, 41: 56, 24: 61, 49: 65, 92: 0, 31: 8, 36: 11, 68: 14, 20: 16, 76: 20, 42: 22, 56: 0, 64: 4, 66: 8, 77: 12, 61: 15}\n",
      "{20: 10, 24: 26, 31: 14, 34: 8, 35: 8, 36: 24, 37: 21, 40: 29, 41: 23, 42: 13, 49: 14, 56: 18, 61: 23, 64: 24, 66: 18, 68: 13, 76: 3, 77: 27, 81: 6, 82: 11, 90: 28, 91: 29, 92: 24, 100: 24}\n",
      "49727\n"
     ]
    }
   ],
   "execution_count": 8
  },
  {
   "cell_type": "markdown",
   "metadata": {},
   "source": [
    "# Termination Criterion"
   ]
  },
  {
   "cell_type": "code",
   "metadata": {
    "ExecuteTime": {
     "end_time": "2024-05-08T17:02:34.870456Z",
     "start_time": "2024-05-08T17:02:34.857363Z"
    }
   },
   "source": [
    "# TO DO LATER"
   ],
   "outputs": [],
   "execution_count": 9
  },
  {
   "cell_type": "markdown",
   "metadata": {},
   "source": [
    "# Selection of parents"
   ]
  },
  {
   "cell_type": "code",
   "metadata": {
    "ExecuteTime": {
     "end_time": "2024-05-08T17:02:34.878590Z",
     "start_time": "2024-05-08T17:02:34.870456Z"
    }
   },
   "source": [
    "# TO DO SELECT ONE DROM PYGAD UTILS\n",
    "# https://pygad.readthedocs.io/en/latest/pygad.html#parent-selection-methods"
   ],
   "outputs": [],
   "execution_count": 10
  },
  {
   "cell_type": "markdown",
   "metadata": {},
   "source": [
    "# Crossover"
   ]
  },
  {
   "metadata": {
    "ExecuteTime": {
     "end_time": "2024-05-08T17:40:37.958407Z",
     "start_time": "2024-05-08T17:40:37.949270Z"
    }
   },
   "cell_type": "code",
   "source": [
    "parent_1 = random_init(engine_RUL_30)\n",
    "parent_2 = random_init(engine_RUL_30)"
   ],
   "outputs": [],
   "execution_count": 85
  },
  {
   "metadata": {
    "ExecuteTime": {
     "end_time": "2024-05-08T20:18:23.706381Z",
     "start_time": "2024-05-08T20:18:23.689666Z"
    }
   },
   "cell_type": "code",
   "source": [
    "def double_fixer(child, parent):\n",
    "    doubles = []\n",
    "    skipped_ones = []\n",
    "    numbers = {}\n",
    "    \n",
    "    for team in parent:\n",
    "        for engine in parent[team]:\n",
    "            numbers[engine] = [0]\n",
    "    \n",
    "    for team in child:\n",
    "        index = -1\n",
    "        for engine in child[team]:\n",
    "            index = index + 1\n",
    "            numbers[engine][0] = numbers[engine][0] + 1\n",
    "            numbers[engine].append(team)\n",
    "            numbers[engine].append(index)\n",
    "                \n",
    "    for key in numbers:\n",
    "        if numbers[key][0] == 0:\n",
    "            skipped_ones.append(key)\n",
    "        elif numbers[key][0] > 1:\n",
    "            doubles.append(key)\n",
    "    \n",
    "    for fault in doubles:\n",
    "        team = numbers[fault][-2]\n",
    "        index = numbers[fault][-1]        \n",
    "        next_missed_one = skipped_ones.pop()\n",
    "        child[team][index] = next_missed_one\n",
    "        \n",
    "    return child"
   ],
   "outputs": [],
   "execution_count": 143
  },
  {
   "cell_type": "code",
   "metadata": {
    "ExecuteTime": {
     "end_time": "2024-05-08T20:18:24.388174Z",
     "start_time": "2024-05-08T20:18:24.363966Z"
    }
   },
   "source": [
    "def crossover(parents, offspring_size = 2):\n",
    "    parent_1 = parents[0]\n",
    "    parent_2 = parents[1]\n",
    "    \n",
    "    child1 = {key: [] for key in parent_1}\n",
    "    child2 = {key: [] for key in parent_2} \n",
    "    cross_side = random.choice([\"Left\", \"Right\"]) # Right means you keep the right side of p1 and switch the right side of p2\n",
    "    print(cross_side)\n",
    "    for key in parent_1:\n",
    "        p1_middle = len(parent_1) // 2\n",
    "        p2_middle = len(parent_2) // 2\n",
    "        \n",
    "        if cross_side == \"Left\":\n",
    "            sub_schedule_p1 = parent_1[key][:p1_middle]\n",
    "            sub_schedule_p2 = parent_2[key][:p2_middle]\n",
    "            \n",
    "            child1[key].extend(sub_schedule_p2)\n",
    "            child1[key].extend(parent_1[key][p1_middle:])\n",
    "            \n",
    "            child2[key].extend(sub_schedule_p1)\n",
    "            child2[key].extend(parent_2[key][p2_middle:])\n",
    "        \n",
    "        if cross_side == \"Right\":\n",
    "            sub_schedule_p1 = parent_1[key][p1_middle:]\n",
    "            sub_schedule_p2 = parent_2[key][p2_middle:]\n",
    "            \n",
    "            child1[key].extend(parent_1[key][:p1_middle])\n",
    "            child1[key].extend(sub_schedule_p2)\n",
    "            \n",
    "            child2[key].extend(parent_2[key][:p2_middle])\n",
    "            child2[key].extend(sub_schedule_p1)\n",
    "    \n",
    "    \n",
    "    child1 = double_fixer(child1, parent_1)\n",
    "    child2 = double_fixer(child2, parent_2)\n",
    "    \n",
    "    \n",
    "    return child1, child2\n",
    "        \n",
    "    \n",
    "    "
   ],
   "outputs": [],
   "execution_count": 144
  },
  {
   "metadata": {
    "ExecuteTime": {
     "end_time": "2024-05-08T20:18:41.477404Z",
     "start_time": "2024-05-08T20:18:41.461052Z"
    }
   },
   "cell_type": "code",
   "source": [
    "print(parent_1)\n",
    "print(parent_2)\n",
    "\n",
    "crossover(parents = [parent_1, parent_2])"
   ],
   "outputs": [
    {
     "name": "stdout",
     "output_type": "stream",
     "text": [
      "{'T1': [40, 34, 82, 35, 81, 100], 'T2': [37, 76, 92], 'T3': [91, 31, 20, 61, 41], 'T4': [64, 66, 42, 68, 90, 56, 49, 24, 36, 77]}\n",
      "{'T1': [77, 37, 82, 81, 64, 35], 'T2': [76, 49, 61, 92, 66, 40, 100, 31], 'T3': [36, 34, 56, 68, 20], 'T4': [41, 90, 24, 42, 91]}\n",
      "Left\n"
     ]
    },
    {
     "data": {
      "text/plain": [
       "({'T1': [77, 37, 82, 35, 81, 100],\n",
       "  'T2': [76, 49, 92],\n",
       "  'T3': [36, 34, 20, 61, 41],\n",
       "  'T4': [66, 90, 42, 68, 64, 56, 31, 24, 91, 40]},\n",
       " {'T1': [40, 34, 82, 81, 64, 35],\n",
       "  'T2': [37, 76, 61, 92, 66, 36, 100, 31],\n",
       "  'T3': [91, 49, 56, 68, 20],\n",
       "  'T4': [90, 41, 24, 42, 77]})"
      ]
     },
     "execution_count": 152,
     "metadata": {},
     "output_type": "execute_result"
    }
   ],
   "execution_count": 152
  },
  {
   "metadata": {
    "ExecuteTime": {
     "end_time": "2024-05-08T17:39:57.419731Z",
     "start_time": "2024-05-08T17:39:57.378398Z"
    }
   },
   "cell_type": "code",
   "source": [
    "test = {}\n",
    "test.update({1 : 0})\n",
    "test.update({2 : 0})\n",
    "print(test[1]) \n",
    "test[1] = 4\n",
    "test[1] = test[1] + 1\n",
    "test[5]\n",
    "print(test)"
   ],
   "outputs": [
    {
     "name": "stdout",
     "output_type": "stream",
     "text": [
      "0\n"
     ]
    },
    {
     "ename": "KeyError",
     "evalue": "5",
     "output_type": "error",
     "traceback": [
      "\u001B[1;31m---------------------------------------------------------------------------\u001B[0m",
      "\u001B[1;31mKeyError\u001B[0m                                  Traceback (most recent call last)",
      "Cell \u001B[1;32mIn[81], line 7\u001B[0m\n\u001B[0;32m      5\u001B[0m test[\u001B[38;5;241m1\u001B[39m] \u001B[38;5;241m=\u001B[39m \u001B[38;5;241m4\u001B[39m\n\u001B[0;32m      6\u001B[0m test[\u001B[38;5;241m1\u001B[39m] \u001B[38;5;241m=\u001B[39m test[\u001B[38;5;241m1\u001B[39m] \u001B[38;5;241m+\u001B[39m \u001B[38;5;241m1\u001B[39m\n\u001B[1;32m----> 7\u001B[0m test[\u001B[38;5;241m5\u001B[39m]\n\u001B[0;32m      8\u001B[0m \u001B[38;5;28mprint\u001B[39m(test)\n",
      "\u001B[1;31mKeyError\u001B[0m: 5"
     ]
    }
   ],
   "execution_count": 81
  },
  {
   "cell_type": "code",
   "metadata": {
    "ExecuteTime": {
     "end_time": "2024-05-08T17:39:58.809189Z",
     "start_time": "2024-05-08T17:39:58.797187Z"
    }
   },
   "source": [
    "parent_1 = random_init(engine_RUL_30)\n",
    "\n",
    "child1 = {key: [] for key in parent_1}\n",
    "child1['T1'].extend([1,2,3])\n",
    "child1['T1'].extend([4,5,6])\n",
    "child1"
   ],
   "outputs": [
    {
     "data": {
      "text/plain": [
       "{'T1': [1, 2, 3, 4, 5, 6], 'T2': [], 'T3': [], 'T4': []}"
      ]
     },
     "execution_count": 82,
     "metadata": {},
     "output_type": "execute_result"
    }
   ],
   "execution_count": 82
  },
  {
   "cell_type": "code",
   "metadata": {
    "ExecuteTime": {
     "end_time": "2024-05-08T17:40:00.487642Z",
     "start_time": "2024-05-08T17:40:00.476320Z"
    }
   },
   "source": "",
   "outputs": [],
   "execution_count": 83
  },
  {
   "cell_type": "code",
   "metadata": {
    "ExecuteTime": {
     "end_time": "2024-05-08T17:40:02.323306Z",
     "start_time": "2024-05-08T17:40:02.283151Z"
    }
   },
   "source": "\n",
   "outputs": [
    {
     "name": "stdout",
     "output_type": "stream",
     "text": [
      "{'T1': [56, 37, 64, 81], 'T2': [91, 41, 40, 68, 100, 92, 36], 'T3': [77, 35, 66, 42, 20], 'T4': [31, 34, 76, 90, 82, 61, 24, 49]}\n",
      "{'T1': [56, 42, 20, 100], 'T2': [61, 31, 66, 82, 64, 92], 'T3': [36, 77, 49, 34, 91, 24, 76], 'T4': [68, 81, 35, 90, 40, 37, 41]}\n",
      "Right\n",
      "{56: 0, 37: 0, 64: 0, 81: 0, 91: 0, 41: 0, 40: 0, 68: 0, 100: 0, 92: 0, 36: 0, 77: 0, 35: 0, 66: 0, 42: 0, 20: 0, 31: 0, 34: 0, 76: 0, 90: 0, 82: 0, 61: 0, 24: 0, 49: 0}\n"
     ]
    },
    {
     "data": {
      "text/plain": [
       "({'T1': [56, 37, 20, 100],\n",
       "  'T2': [91, 41, 66, 82, 64, 92],\n",
       "  'T3': [77, 35, 49, 34, 91, 24, 76],\n",
       "  'T4': [31, 34, 35, 90, 40, 37, 41]},\n",
       " {'T1': [56, 42, 64, 81],\n",
       "  'T2': [61, 31, 40, 68, 100, 92, 36],\n",
       "  'T3': [36, 77, 66, 42, 20],\n",
       "  'T4': [68, 81, 76, 90, 82, 61, 24, 49]})"
      ]
     },
     "execution_count": 84,
     "metadata": {},
     "output_type": "execute_result"
    }
   ],
   "execution_count": 84
  },
  {
   "metadata": {},
   "cell_type": "code",
   "outputs": [],
   "execution_count": null,
   "source": ""
  }
 ],
 "metadata": {
  "kernelspec": {
   "display_name": ".venv",
   "language": "python",
   "name": "python3"
  },
  "language_info": {
   "codemirror_mode": {
    "name": "ipython",
    "version": 3
   },
   "file_extension": ".py",
   "mimetype": "text/x-python",
   "name": "python",
   "nbconvert_exporter": "python",
   "pygments_lexer": "ipython3",
   "version": "3.9.5"
  }
 },
 "nbformat": 4,
 "nbformat_minor": 2
}
