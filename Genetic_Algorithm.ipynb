{
 "cells": [
  {
   "cell_type": "code",
   "execution_count": 84,
   "metadata": {},
   "outputs": [],
   "source": [
    "import pandas as pd\n",
    "import numpy as np\n",
    "import pygad\n",
    "import random\n",
    "import copy"
   ]
  },
  {
   "cell_type": "code",
   "execution_count": 42,
   "metadata": {},
   "outputs": [],
   "source": [
    "import csv\n",
    "\n",
    "# Initialize an empty dictionary\n",
    "enginge_RUL = {}\n",
    "\n",
    "with open('RUL_consultancy_predictions_A3-2.csv', newline='') as csvfile:\n",
    "    # Create a CSV reader object with semicolon as delimiter\n",
    "    reader = csv.reader(csvfile, delimiter=';')\n",
    "    # Skip the header row\n",
    "    next(reader)\n",
    "    # Loop over each row in the CSV\n",
    "    for row in reader:\n",
    "        # Check if row has exactly 2 columns\n",
    "        if len(row) == 2:\n",
    "            enginge_RUL[int(row[1])] = int(row[0])"
   ]
  },
  {
   "cell_type": "code",
   "execution_count": 44,
   "metadata": {},
   "outputs": [
    {
     "data": {
      "text/plain": [
       "{20: 10,\n",
       " 24: 26,\n",
       " 31: 14,\n",
       " 34: 8,\n",
       " 35: 8,\n",
       " 36: 24,\n",
       " 37: 21,\n",
       " 40: 29,\n",
       " 41: 23,\n",
       " 42: 13,\n",
       " 49: 14,\n",
       " 56: 18,\n",
       " 61: 23,\n",
       " 64: 24,\n",
       " 66: 18,\n",
       " 68: 13,\n",
       " 76: 3,\n",
       " 77: 27,\n",
       " 81: 6,\n",
       " 82: 11,\n",
       " 90: 28,\n",
       " 91: 29,\n",
       " 92: 24,\n",
       " 100: 24}"
      ]
     },
     "execution_count": 44,
     "metadata": {},
     "output_type": "execute_result"
    }
   ],
   "source": [
    "engine_RUL_30 = {key: value for key, value in enginge_RUL.items() if value <= 30}\n",
    "engine_RUL_30"
   ]
  },
  {
   "cell_type": "code",
   "execution_count": 20,
   "metadata": {},
   "outputs": [],
   "source": [
    "Team_A_time = {key: 4 for key in range(1, 21)}\n",
    "Team_A_time.update({key: 3 for key in range(21, 56)})\n",
    "Team_A_time.update({key: 2 for key in range(56, 81)})\n",
    "Team_A_time.update({key: 8 for key in range(81, 101)})\n",
    "\n",
    "Team_B_time = {j : Team_A_time[j] + 1 for j in range(1, 26)}\n",
    "Team_B_time.update({j : Team_A_time[j] + 2 for j in range(26, 71)})\n",
    "Team_B_time.update({j : Team_A_time[j] + 1 for j in range(71, 101)})"
   ]
  },
  {
   "cell_type": "code",
   "execution_count": 21,
   "metadata": {},
   "outputs": [],
   "source": [
    "T1_time = Team_A_time\n",
    "T2_time = Team_B_time\n",
    "T3_time = Team_A_time\n",
    "T4_time = Team_B_time"
   ]
  },
  {
   "cell_type": "code",
   "execution_count": 51,
   "metadata": {},
   "outputs": [
    {
     "data": {
      "text/plain": [
       "{'T1': [0, 5, 8], 'T2': {}, 'T3': {}, 'T4': {}}"
      ]
     },
     "execution_count": 51,
     "metadata": {},
     "output_type": "execute_result"
    }
   ],
   "source": [
    "schedule[\"T1\"].append(8)\n",
    "schedule"
   ]
  },
  {
   "cell_type": "code",
   "execution_count": 49,
   "metadata": {},
   "outputs": [
    {
     "name": "stdout",
     "output_type": "stream",
     "text": [
      "T1\n",
      "T2\n",
      "T3\n",
      "T4\n"
     ]
    }
   ],
   "source": [
    "schedule = {\"T1\":[0,5], \"T2\":{}, \"T3\":{}, \"T4\":{}}\n",
    "for i in schedule:\n",
    "    print(i)"
   ]
  },
  {
   "cell_type": "code",
   "execution_count": 52,
   "metadata": {},
   "outputs": [
    {
     "data": {
      "text/plain": [
       "[0, 5, 8]"
      ]
     },
     "execution_count": 52,
     "metadata": {},
     "output_type": "execute_result"
    }
   ],
   "source": [
    "schedule[\"T1\"]"
   ]
  },
  {
   "cell_type": "code",
   "execution_count": 58,
   "metadata": {},
   "outputs": [
    {
     "name": "stdout",
     "output_type": "stream",
     "text": [
      "3\n",
      "5\n"
     ]
    }
   ],
   "source": [
    "test = [0,2,4,5,8,6]\n",
    "index = random.randrange(len(test))\n",
    "selected_engine = test.pop(index)\n",
    "print(index)\n",
    "print(selected_engine)"
   ]
  },
  {
   "cell_type": "code",
   "execution_count": 72,
   "metadata": {},
   "outputs": [
    {
     "data": {
      "text/plain": [
       "3"
      ]
     },
     "execution_count": 72,
     "metadata": {},
     "output_type": "execute_result"
    }
   ],
   "source": [
    "test = 1\n",
    "test += 2\n",
    "test"
   ]
  },
  {
   "cell_type": "code",
   "execution_count": 91,
   "metadata": {},
   "outputs": [],
   "source": [
    "def calculate_team_work_time(team, engines):\n",
    "    if team in [\"T1\", \"T3\"]:\n",
    "        engine_times = Team_A_time\n",
    "    else:\n",
    "        engine_times = Team_B_time\n",
    "    \n",
    "    time = 0\n",
    "    \n",
    "    for engine in engines:\n",
    "        time += engine_times[engine]\n",
    "    \n",
    "    return time\n",
    "    \n",
    "\n",
    "def random_init(engines_RUL):\n",
    "    schedule = {\"T1\":[], \"T2\":[], \"T3\":[], \"T4\":[]}\n",
    "    \n",
    "    possible_engines = list(engines_RUL.keys())\n",
    "    possible_teams = [\"T1\", \"T2\", \"T3\", \"T4\"]\n",
    "    \n",
    "    iterations = 0 \n",
    "    \n",
    "    while possible_engines and iterations < 250:\n",
    "        print(schedule)\n",
    "        index = random.randrange(4)\n",
    "        team = possible_teams[index]\n",
    "        \n",
    "        index = random.randrange(len(possible_engines))\n",
    "        selected_engine = possible_engines[index]\n",
    "        \n",
    "        temp_schedule = copy.deepcopy(schedule)\n",
    "        temp_schedule[team].append(selected_engine)\n",
    "        \n",
    "        if calculate_team_work_time(team, temp_schedule[team]) <= 30:\n",
    "            schedule = temp_schedule\n",
    "            possible_engines.remove(selected_engine)\n",
    "        iterations += 1\n",
    "\n",
    "    return schedule"
   ]
  },
  {
   "cell_type": "code",
   "execution_count": 99,
   "metadata": {},
   "outputs": [
    {
     "name": "stdout",
     "output_type": "stream",
     "text": [
      "{'T1': [], 'T2': [], 'T3': [], 'T4': []}\n",
      "{'T1': [], 'T2': [], 'T3': [24], 'T4': []}\n",
      "{'T1': [], 'T2': [42], 'T3': [24], 'T4': []}\n",
      "{'T1': [], 'T2': [42, 91], 'T3': [24], 'T4': []}\n",
      "{'T1': [], 'T2': [42, 91, 20], 'T3': [24], 'T4': []}\n",
      "{'T1': [34], 'T2': [42, 91, 20], 'T3': [24], 'T4': []}\n",
      "{'T1': [34], 'T2': [42, 91, 20], 'T3': [24], 'T4': [90]}\n",
      "{'T1': [34], 'T2': [42, 91, 20], 'T3': [24], 'T4': [90, 31]}\n",
      "{'T1': [34], 'T2': [42, 91, 20], 'T3': [24, 49], 'T4': [90, 31]}\n",
      "{'T1': [34], 'T2': [42, 91, 20], 'T3': [24, 49], 'T4': [90, 31, 76]}\n",
      "{'T1': [34], 'T2': [42, 91, 20], 'T3': [24, 49, 66], 'T4': [90, 31, 76]}\n",
      "{'T1': [34], 'T2': [42, 91, 20, 61], 'T3': [24, 49, 66], 'T4': [90, 31, 76]}\n",
      "{'T1': [34], 'T2': [42, 91, 20, 61], 'T3': [24, 49, 66], 'T4': [90, 31, 76]}\n",
      "{'T1': [34], 'T2': [42, 91, 20, 61, 41], 'T3': [24, 49, 66], 'T4': [90, 31, 76]}\n",
      "{'T1': [34, 92], 'T2': [42, 91, 20, 61, 41], 'T3': [24, 49, 66], 'T4': [90, 31, 76]}\n",
      "{'T1': [34, 92], 'T2': [42, 91, 20, 61, 41], 'T3': [24, 49, 66], 'T4': [90, 31, 76, 82]}\n",
      "{'T1': [34, 92], 'T2': [42, 91, 20, 61, 41], 'T3': [24, 49, 66, 100], 'T4': [90, 31, 76, 82]}\n",
      "{'T1': [34, 92], 'T2': [42, 91, 20, 61, 41], 'T3': [24, 49, 66, 100, 40], 'T4': [90, 31, 76, 82]}\n",
      "{'T1': [34, 92], 'T2': [42, 91, 20, 61, 41], 'T3': [24, 49, 66, 100, 40, 56], 'T4': [90, 31, 76, 82]}\n",
      "{'T1': [34, 92], 'T2': [42, 91, 20, 61, 41], 'T3': [24, 49, 66, 100, 40, 56], 'T4': [90, 31, 76, 82]}\n",
      "{'T1': [34, 92], 'T2': [42, 91, 20, 61, 41], 'T3': [24, 49, 66, 100, 40, 56, 81], 'T4': [90, 31, 76, 82]}\n",
      "{'T1': [34, 92, 77], 'T2': [42, 91, 20, 61, 41], 'T3': [24, 49, 66, 100, 40, 56, 81], 'T4': [90, 31, 76, 82]}\n",
      "{'T1': [34, 92, 77, 68], 'T2': [42, 91, 20, 61, 41], 'T3': [24, 49, 66, 100, 40, 56, 81], 'T4': [90, 31, 76, 82]}\n",
      "{'T1': [34, 92, 77, 68, 36], 'T2': [42, 91, 20, 61, 41], 'T3': [24, 49, 66, 100, 40, 56, 81], 'T4': [90, 31, 76, 82]}\n",
      "{'T1': [34, 92, 77, 68, 36], 'T2': [42, 91, 20, 61, 41], 'T3': [24, 49, 66, 100, 40, 56, 81], 'T4': [90, 31, 76, 82]}\n",
      "{'T1': [34, 92, 77, 68, 36], 'T2': [42, 91, 20, 61, 41], 'T3': [24, 49, 66, 100, 40, 56, 81], 'T4': [90, 31, 76, 82]}\n",
      "{'T1': [34, 92, 77, 68, 36], 'T2': [42, 91, 20, 61, 41], 'T3': [24, 49, 66, 100, 40, 56, 81], 'T4': [90, 31, 76, 82]}\n",
      "{'T1': [34, 92, 77, 68, 36], 'T2': [42, 91, 20, 61, 41], 'T3': [24, 49, 66, 100, 40, 56, 81], 'T4': [90, 31, 76, 82]}\n",
      "{'T1': [34, 92, 77, 68, 36, 64], 'T2': [42, 91, 20, 61, 41], 'T3': [24, 49, 66, 100, 40, 56, 81], 'T4': [90, 31, 76, 82]}\n",
      "{'T1': [34, 92, 77, 68, 36, 64], 'T2': [42, 91, 20, 61, 41], 'T3': [24, 49, 66, 100, 40, 56, 81], 'T4': [90, 31, 76, 82]}\n",
      "{'T1': [34, 92, 77, 68, 36, 64], 'T2': [42, 91, 20, 61, 41], 'T3': [24, 49, 66, 100, 40, 56, 81], 'T4': [90, 31, 76, 82]}\n",
      "{'T1': [34, 92, 77, 68, 36, 64], 'T2': [42, 91, 20, 61, 41], 'T3': [24, 49, 66, 100, 40, 56, 81], 'T4': [90, 31, 76, 82]}\n",
      "{'T1': [34, 92, 77, 68, 36, 64], 'T2': [42, 91, 20, 61, 41], 'T3': [24, 49, 66, 100, 40, 56, 81], 'T4': [90, 31, 76, 82]}\n",
      "{'T1': [34, 92, 77, 68, 36, 64], 'T2': [42, 91, 20, 61, 41], 'T3': [24, 49, 66, 100, 40, 56, 81], 'T4': [90, 31, 76, 82]}\n",
      "{'T1': [34, 92, 77, 68, 36, 64, 35], 'T2': [42, 91, 20, 61, 41], 'T3': [24, 49, 66, 100, 40, 56, 81], 'T4': [90, 31, 76, 82]}\n",
      "{'T1': [34, 92, 77, 68, 36, 64, 35], 'T2': [42, 91, 20, 61, 41], 'T3': [24, 49, 66, 100, 40, 56, 81], 'T4': [90, 31, 76, 82]}\n"
     ]
    },
    {
     "data": {
      "text/plain": [
       "{'T1': [34, 92, 77, 68, 36, 64, 35, 37],\n",
       " 'T2': [42, 91, 20, 61, 41],\n",
       " 'T3': [24, 49, 66, 100, 40, 56, 81],\n",
       " 'T4': [90, 31, 76, 82]}"
      ]
     },
     "execution_count": 99,
     "metadata": {},
     "output_type": "execute_result"
    }
   ],
   "source": [
    "random_init(engine_RUL_30)"
   ]
  },
  {
   "cell_type": "code",
   "execution_count": null,
   "metadata": {},
   "outputs": [],
   "source": []
  },
  {
   "cell_type": "code",
   "execution_count": null,
   "metadata": {},
   "outputs": [],
   "source": [
    "{\"T1\":{4,10,23}, \"T2\":{8,5,90}}"
   ]
  }
 ],
 "metadata": {
  "kernelspec": {
   "display_name": ".venv",
   "language": "python",
   "name": "python3"
  },
  "language_info": {
   "codemirror_mode": {
    "name": "ipython",
    "version": 3
   },
   "file_extension": ".py",
   "mimetype": "text/x-python",
   "name": "python",
   "nbconvert_exporter": "python",
   "pygments_lexer": "ipython3",
   "version": "3.9.5"
  }
 },
 "nbformat": 4,
 "nbformat_minor": 2
}
