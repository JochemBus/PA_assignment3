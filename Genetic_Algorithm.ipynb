{
 "cells": [
  {
   "cell_type": "code",
   "execution_count": 1,
   "metadata": {
    "ExecuteTime": {
     "end_time": "2024-05-07T08:39:54.491268Z",
     "start_time": "2024-05-07T08:39:52.113748Z"
    }
   },
   "outputs": [],
   "source": [
    "import pandas as pd\n",
    "import numpy as np\n",
    "import pygad\n",
    "import random\n",
    "import copy"
   ]
  },
  {
   "cell_type": "code",
   "execution_count": 2,
   "metadata": {
    "ExecuteTime": {
     "end_time": "2024-05-07T08:39:54.500507Z",
     "start_time": "2024-05-07T08:39:54.493290Z"
    }
   },
   "outputs": [],
   "source": [
    "import csv\n",
    "\n",
    "# Initialize an empty dictionary\n",
    "enginge_RUL = {}\n",
    "\n",
    "with open('RUL_consultancy_predictions_A3-2.csv', newline='') as csvfile:\n",
    "    # Create a CSV reader object with semicolon as delimiter\n",
    "    reader = csv.reader(csvfile, delimiter=';')\n",
    "    # Skip the header row\n",
    "    next(reader)\n",
    "    # Loop over each row in the CSV\n",
    "    for row in reader:\n",
    "        # Check if row has exactly 2 columns\n",
    "        if len(row) == 2:\n",
    "            enginge_RUL[int(row[1])] = int(row[0])"
   ]
  },
  {
   "cell_type": "code",
   "execution_count": 3,
   "metadata": {
    "ExecuteTime": {
     "end_time": "2024-05-07T08:39:54.510484Z",
     "start_time": "2024-05-07T08:39:54.502513Z"
    }
   },
   "outputs": [
    {
     "data": {
      "text/plain": [
       "{20: 10,\n",
       " 24: 26,\n",
       " 31: 14,\n",
       " 34: 8,\n",
       " 35: 8,\n",
       " 36: 24,\n",
       " 37: 21,\n",
       " 40: 29,\n",
       " 41: 23,\n",
       " 42: 13,\n",
       " 49: 14,\n",
       " 56: 18,\n",
       " 61: 23,\n",
       " 64: 24,\n",
       " 66: 18,\n",
       " 68: 13,\n",
       " 76: 3,\n",
       " 77: 27,\n",
       " 81: 6,\n",
       " 82: 11,\n",
       " 90: 28,\n",
       " 91: 29,\n",
       " 92: 24,\n",
       " 100: 24}"
      ]
     },
     "execution_count": 3,
     "metadata": {},
     "output_type": "execute_result"
    }
   ],
   "source": [
    "engine_RUL_30 = {key: value for key, value in enginge_RUL.items() if value <= 30}"
   ]
  },
  {
   "cell_type": "code",
   "execution_count": 4,
   "metadata": {
    "ExecuteTime": {
     "end_time": "2024-05-07T08:39:54.520199Z",
     "start_time": "2024-05-07T08:39:54.513339Z"
    }
   },
   "outputs": [],
   "source": [
    "Team_A_time = {key: 4 for key in range(1, 21)}\n",
    "Team_A_time.update({key: 3 for key in range(21, 56)})\n",
    "Team_A_time.update({key: 2 for key in range(56, 81)})\n",
    "Team_A_time.update({key: 8 for key in range(81, 101)})\n",
    "\n",
    "Team_B_time = {j : Team_A_time[j] + 1 for j in range(1, 26)}\n",
    "Team_B_time.update({j : Team_A_time[j] + 2 for j in range(26, 71)})\n",
    "Team_B_time.update({j : Team_A_time[j] + 1 for j in range(71, 101)})"
   ]
  },
  {
   "cell_type": "code",
   "execution_count": 5,
   "metadata": {
    "ExecuteTime": {
     "end_time": "2024-05-07T08:39:54.528382Z",
     "start_time": "2024-05-07T08:39:54.524211Z"
    }
   },
   "outputs": [],
   "source": [
    "T1_time = Team_A_time\n",
    "T2_time = Team_B_time\n",
    "T3_time = Team_A_time\n",
    "T4_time = Team_B_time"
   ]
  },
  {
   "cell_type": "markdown",
   "metadata": {},
   "source": [
    "# Random Initializer"
   ]
  },
  {
   "cell_type": "code",
   "execution_count": 25,
   "metadata": {
    "ExecuteTime": {
     "end_time": "2024-05-07T08:39:54.578944Z",
     "start_time": "2024-05-07T08:39:54.569829Z"
    }
   },
   "outputs": [],
   "source": [
    "def calculate_team_work_time(team, engines):\n",
    "    if team in [\"T1\", \"T3\"]:\n",
    "        engine_times = Team_A_time\n",
    "    else:\n",
    "        engine_times = Team_B_time\n",
    "    \n",
    "    time = 0\n",
    "    \n",
    "    for engine in engines:\n",
    "        time += engine_times[engine]\n",
    "    \n",
    "    return time\n",
    "    \n",
    "\n",
    "def random_init(engines_RUL):\n",
    "    schedule = {\"T1\":[], \"T2\":[], \"T3\":[], \"T4\":[]}\n",
    "    \n",
    "    possible_engines = list(engines_RUL.keys())\n",
    "    possible_teams = [\"T1\", \"T2\", \"T3\", \"T4\"]\n",
    "    \n",
    "    iterations = 0 \n",
    "    \n",
    "    while possible_engines and iterations < 500:\n",
    "        index = random.randrange(4)\n",
    "        team = possible_teams[index]\n",
    "        \n",
    "        index = random.randrange(len(possible_engines))\n",
    "        selected_engine = possible_engines[index]\n",
    "        \n",
    "        schedule[team].append(selected_engine)\n",
    "        \n",
    "        possible_engines.remove(selected_engine)\n",
    "        \n",
    "        iterations += 1\n",
    "\n",
    "    return schedule"
   ]
  },
  {
   "cell_type": "code",
   "execution_count": 26,
   "metadata": {
    "ExecuteTime": {
     "end_time": "2024-05-07T08:39:54.591376Z",
     "start_time": "2024-05-07T08:39:54.580957Z"
    }
   },
   "outputs": [
    {
     "data": {
      "text/plain": [
       "{'T1': [77, 31, 42, 100, 36],\n",
       " 'T2': [76, 91, 49, 34, 24, 37, 35, 90, 82, 68],\n",
       " 'T3': [61, 64, 56],\n",
       " 'T4': [66, 41, 20, 81, 40, 92]}"
      ]
     },
     "execution_count": 26,
     "metadata": {},
     "output_type": "execute_result"
    }
   ],
   "source": [
    "random_init(engine_RUL_30)"
   ]
  },
  {
   "cell_type": "markdown",
   "metadata": {},
   "source": [
    "# Loss Function"
   ]
  },
  {
   "cell_type": "code",
   "execution_count": 19,
   "metadata": {
    "ExecuteTime": {
     "end_time": "2024-05-07T08:39:54.615045Z",
     "start_time": "2024-05-07T08:39:54.603578Z"
    }
   },
   "outputs": [
    {
     "name": "stdout",
     "output_type": "stream",
     "text": [
      "{'T1': [37, 41, 82, 40, 91, 56, 49], 'T2': [64, 77, 35, 20, 92], 'T3': [90, 68, 36, 34, 24, 42, 100], 'T4': [81, 76, 61, 31, 66]}\n",
      "{37: 0, 41: 3, 82: 6, 40: 14, 91: 17, 56: 25, 49: 27, 64: 0, 77: 4, 35: 7, 20: 12, 92: 17, 90: 0, 68: 8, 36: 10, 34: 13, 24: 16, 42: 19, 100: 22, 81: 0, 76: 9, 61: 12, 31: 16, 66: 21}\n",
      "{20: 10, 24: 26, 31: 14, 34: 8, 35: 8, 36: 24, 37: 21, 40: 29, 41: 23, 42: 13, 49: 14, 56: 18, 61: 23, 64: 24, 66: 18, 68: 13, 76: 3, 77: 27, 81: 6, 82: 11, 90: 28, 91: 29, 92: 24, 100: 24}\n",
      "2881\n"
     ]
    }
   ],
   "source": [
    "def engine_fix_date(schedule):\n",
    "    engine_fix = {}\n",
    "    for team in schedule:\n",
    "        days = 0\n",
    "        if team == \"T1\" or team == \"T3\":\n",
    "            time_table = Team_A_time\n",
    "        else:\n",
    "            time_table = Team_B_time\n",
    "            \n",
    "        for engine in schedule[team]:\n",
    "            engine_fix[engine] = days\n",
    "            days = days + time_table[engine]\n",
    "              \n",
    "    return engine_fix\n",
    "\n",
    "\n",
    "initial_schedule = random_init(engine_RUL_30)\n",
    "print(initial_schedule)\n",
    "\n",
    "engine_cost = {key: 4 for key in range(1, 21)}\n",
    "engine_cost.update({key: 3 for key in range(21, 31)})\n",
    "engine_cost.update({key: 2 for key in range(31, 46)})\n",
    "engine_cost.update({key: 5 for key in range(46, 81)})\n",
    "engine_cost.update({key: 6 for key in range(81, 100)})\n",
    "\n",
    "\n",
    "def loss_function(schedule, engine_RUL, engine_cost):\n",
    "    loss = 0\n",
    "    fix_dates = engine_fix_date(schedule)\n",
    "    print(fix_dates)\n",
    "    print(engine_RUL)\n",
    "    for team in schedule:\n",
    "        for engine in schedule[team]:\n",
    "\n",
    "            days_late = fix_dates[engine] - engine_RUL[engine]\n",
    "            engine_loss = 0\n",
    "            if days_late > 0:\n",
    "                cost = engine_cost[engine]\n",
    "    \n",
    "                for i in range(days_late):\n",
    "                    day_loss = cost * (i ** 2)\n",
    "                    if day_loss > 250:\n",
    "                        day_loss = 250\n",
    "                    engine_loss += day_loss\n",
    "            loss += engine_loss\n",
    "        \n",
    "    return loss  \n",
    "\n",
    "loss_schedule = loss_function(initial_schedule, engine_RUL_30, engine_cost)\n",
    "print(loss_schedule)"
   ]
  },
  {
   "cell_type": "markdown",
   "metadata": {},
   "source": [
    "# Termination Criterion"
   ]
  },
  {
   "cell_type": "code",
   "execution_count": null,
   "metadata": {},
   "outputs": [],
   "source": [
    "# TO DO LATER"
   ]
  },
  {
   "cell_type": "markdown",
   "metadata": {},
   "source": [
    "# Selection of parents"
   ]
  },
  {
   "cell_type": "code",
   "execution_count": 20,
   "metadata": {},
   "outputs": [],
   "source": [
    "# TO DO SELECT ONE DROM PYGAD UTILS\n",
    "# https://pygad.readthedocs.io/en/latest/pygad.html#parent-selection-methods"
   ]
  },
  {
   "cell_type": "markdown",
   "metadata": {},
   "source": [
    "# Crossover"
   ]
  },
  {
   "cell_type": "code",
   "execution_count": 66,
   "metadata": {},
   "outputs": [],
   "source": [
    "def crossover(parents, offspring_size = 2):\n",
    "    parent_1 = parents[0]\n",
    "    parent_2 = parents[1]\n",
    "    \n",
    "    child1 = {key: [] for key in parent_1}\n",
    "    child2 = {key: [] for key in parent_2} \n",
    "    cross_side = random.choice([\"Left\", \"Right\"]) # Right means you keep the right side of p1 and switch the right side of p2\n",
    "    print(cross_side)\n",
    "    for key in parent_1:\n",
    "        p1_middle = len(parent_1) // 2\n",
    "        p2_middle = len(parent_2) // 2\n",
    "        \n",
    "        if cross_side == \"Left\":\n",
    "            sub_schedule_p1 = parent_1[key][:p1_middle]\n",
    "            sub_schedule_p2 = parent_2[key][:p2_middle]\n",
    "            \n",
    "            child1[key].extend(sub_schedule_p2)\n",
    "            child1[key].extend(parent_1[key][p1_middle:])\n",
    "            \n",
    "            child2[key].extend(sub_schedule_p1)\n",
    "            child2[key].extend(parent_2[key][p2_middle:])\n",
    "        \n",
    "        if cross_side == \"Right\":\n",
    "            sub_schedule_p1 = parent_1[key][p1_middle:]\n",
    "            sub_schedule_p2 = parent_2[key][p2_middle:]\n",
    "            \n",
    "            child1[key].extend(parent_1[key][:p1_middle])\n",
    "            child1[key].extend(sub_schedule_p2)\n",
    "            \n",
    "            child2[key].extend(parent_2[key][:p2_middle])\n",
    "            child2[key].extend(sub_schedule_p1)\n",
    "            \n",
    "            \n",
    "    return child1, child2\n",
    "        \n",
    "        \n",
    "        \n",
    "        \n",
    "    \n",
    "    "
   ]
  },
  {
   "cell_type": "code",
   "execution_count": 40,
   "metadata": {},
   "outputs": [
    {
     "data": {
      "text/plain": [
       "{'T1': [1, 2, 3, 4, 5, 6], 'T2': [], 'T3': [], 'T4': []}"
      ]
     },
     "execution_count": 40,
     "metadata": {},
     "output_type": "execute_result"
    }
   ],
   "source": [
    "parent_1 = random_init(engine_RUL_30)\n",
    "\n",
    "child1 = {key: [] for key in parent_1}\n",
    "child1['T1'].extend([1,2,3])\n",
    "child1['T1'].extend([4,5,6])\n",
    "child1"
   ]
  },
  {
   "cell_type": "code",
   "execution_count": 42,
   "metadata": {},
   "outputs": [],
   "source": [
    "parent_1 = random_init(engine_RUL_30)\n",
    "parent_2 = random_init(engine_RUL_30)"
   ]
  },
  {
   "cell_type": "code",
   "execution_count": 67,
   "metadata": {},
   "outputs": [
    {
     "name": "stdout",
     "output_type": "stream",
     "text": [
      "{'T1': [90, 76, 100, 20], 'T2': [61, 81, 77, 37], 'T3': [35, 36, 31, 56, 49, 24, 66], 'T4': [41, 34, 92, 42, 40, 68, 82, 64, 91]}\n",
      "{'T1': [91, 31, 24, 37, 20, 90], 'T2': [49, 34, 41, 77, 61], 'T3': [64, 100, 35, 36, 81, 66, 40, 56, 92, 76, 82], 'T4': [68, 42]}\n",
      "Left\n"
     ]
    },
    {
     "data": {
      "text/plain": [
       "({'T1': [91, 31, 100, 20],\n",
       "  'T2': [49, 34, 77, 37],\n",
       "  'T3': [64, 100, 31, 56, 49, 24, 66],\n",
       "  'T4': [68, 42, 92, 42, 40, 68, 82, 64, 91]},\n",
       " {'T1': [90, 76, 24, 37, 20, 90],\n",
       "  'T2': [61, 81, 41, 77, 61],\n",
       "  'T3': [35, 36, 35, 36, 81, 66, 40, 56, 92, 76, 82],\n",
       "  'T4': [41, 34]})"
      ]
     },
     "execution_count": 67,
     "metadata": {},
     "output_type": "execute_result"
    }
   ],
   "source": [
    "print(parent_1)\n",
    "print(parent_2)\n",
    "\n",
    "crossover(parents = [parent_1, parent_2])"
   ]
  }
 ],
 "metadata": {
  "kernelspec": {
   "display_name": ".venv",
   "language": "python",
   "name": "python3"
  },
  "language_info": {
   "codemirror_mode": {
    "name": "ipython",
    "version": 3
   },
   "file_extension": ".py",
   "mimetype": "text/x-python",
   "name": "python",
   "nbconvert_exporter": "python",
   "pygments_lexer": "ipython3",
   "version": "3.9.5"
  }
 },
 "nbformat": 4,
 "nbformat_minor": 2
}
