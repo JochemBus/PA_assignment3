{
 "cells": [
  {
   "cell_type": "code",
   "metadata": {
    "ExecuteTime": {
     "end_time": "2024-05-14T19:46:12.632659Z",
     "start_time": "2024-05-14T19:46:12.623867Z"
    }
   },
   "source": [
    "import pandas as pd\n",
    "import numpy as np\n",
    "import pygad\n",
    "import random\n",
    "import copy"
   ],
   "outputs": [],
   "execution_count": 102
  },
  {
   "cell_type": "code",
   "metadata": {
    "ExecuteTime": {
     "end_time": "2024-05-14T19:46:12.871090Z",
     "start_time": "2024-05-14T19:46:12.861423Z"
    }
   },
   "source": [
    "import csv\n",
    "\n",
    "# Initialize an empty dictionary\n",
    "enginge_RUL = {}\n",
    "\n",
    "with open('RUL_consultancy_predictions_A3-2.csv', newline='') as csvfile:\n",
    "    # Create a CSV reader object with semicolon as delimiter\n",
    "    reader = csv.reader(csvfile, delimiter=';')\n",
    "    # Skip the header row\n",
    "    next(reader)\n",
    "    # Loop over each row in the CSV\n",
    "    for row in reader:\n",
    "        # Check if row has exactly 2 columns\n",
    "        if len(row) == 2:\n",
    "            enginge_RUL[int(row[1])] = int(row[0])"
   ],
   "outputs": [],
   "execution_count": 103
  },
  {
   "cell_type": "code",
   "metadata": {
    "ExecuteTime": {
     "end_time": "2024-05-14T19:46:13.019197Z",
     "start_time": "2024-05-14T19:46:13.002146Z"
    }
   },
   "source": [
    "engine_RUL_30 = {key: value for key, value in enginge_RUL.items() if value <= 30}"
   ],
   "outputs": [],
   "execution_count": 104
  },
  {
   "cell_type": "code",
   "metadata": {
    "ExecuteTime": {
     "end_time": "2024-05-14T19:46:13.197753Z",
     "start_time": "2024-05-14T19:46:13.189136Z"
    }
   },
   "source": [
    "Team_A_time = {key: 4 for key in range(1, 21)}\n",
    "Team_A_time.update({key: 3 for key in range(21, 56)})\n",
    "Team_A_time.update({key: 2 for key in range(56, 81)})\n",
    "Team_A_time.update({key: 8 for key in range(81, 101)})\n",
    "\n",
    "Team_B_time = {j : Team_A_time[j] + 1 for j in range(1, 26)}\n",
    "Team_B_time.update({j : Team_A_time[j] + 2 for j in range(26, 71)})\n",
    "Team_B_time.update({j : Team_A_time[j] + 1 for j in range(71, 101)})"
   ],
   "outputs": [],
   "execution_count": 105
  },
  {
   "cell_type": "code",
   "metadata": {
    "ExecuteTime": {
     "end_time": "2024-05-14T19:46:13.372959Z",
     "start_time": "2024-05-14T19:46:13.368988Z"
    }
   },
   "source": [
    "T1_time = Team_A_time\n",
    "T2_time = Team_B_time\n",
    "T3_time = Team_A_time\n",
    "T4_time = Team_B_time"
   ],
   "outputs": [],
   "execution_count": 106
  },
  {
   "cell_type": "markdown",
   "metadata": {},
   "source": [
    "# Random Initializer"
   ]
  },
  {
   "cell_type": "code",
   "metadata": {
    "ExecuteTime": {
     "end_time": "2024-05-14T19:46:13.814623Z",
     "start_time": "2024-05-14T19:46:13.802185Z"
    }
   },
   "source": [
    "def calculate_team_work_time(team, engines):\n",
    "    \"\"\" Calculate the time it takes for a team to fix a list of engines\n",
    "    \n",
    "    Parameters:\n",
    "        team : str\n",
    "            Team name\n",
    "        engines : list\n",
    "            List of engines to fix\n",
    "    \n",
    "    Returns:\n",
    "        time : int\n",
    "            Time it takes for the team to fix the engines\n",
    "    \"\"\"\n",
    "    if team in [\"T1\", \"T3\"]:\n",
    "        engine_times = Team_A_time\n",
    "    else:\n",
    "        engine_times = Team_B_time\n",
    "    \n",
    "    time = 0\n",
    "    \n",
    "    for engine in engines:\n",
    "        time += engine_times[engine]\n",
    "    \n",
    "    return time\n",
    "    \n",
    "\n",
    "def random_init(engines_RUL):\n",
    "    \"\"\" Randomly initialize a schedule\n",
    "    \n",
    "    Parameters:\n",
    "        engines_RUL : dict\n",
    "            Dictionary with the RUL of each engine\n",
    "    \n",
    "    Returns:\n",
    "        schedule : dict\n",
    "            Dictionary with the schedule\n",
    "    \"\"\"\n",
    "    schedule = {\"T1\":[], \"T2\":[], \"T3\":[], \"T4\":[]}\n",
    "    \n",
    "    possible_engines = list(engines_RUL.keys())\n",
    "    possible_teams = [\"T1\", \"T2\", \"T3\", \"T4\"]\n",
    "    \n",
    "    iterations = 0 \n",
    "    \n",
    "    while possible_engines and iterations < 500:\n",
    "        index = random.randrange(4)\n",
    "        team = possible_teams[index]\n",
    "        \n",
    "        index = random.randrange(len(possible_engines))\n",
    "        selected_engine = possible_engines[index]\n",
    "        \n",
    "        schedule[team].append(selected_engine)\n",
    "        \n",
    "        possible_engines.remove(selected_engine)\n",
    "        \n",
    "        iterations += 1\n",
    "\n",
    "    return schedule"
   ],
   "outputs": [],
   "execution_count": 107
  },
  {
   "cell_type": "code",
   "metadata": {
    "ExecuteTime": {
     "end_time": "2024-05-14T19:46:13.986566Z",
     "start_time": "2024-05-14T19:46:13.978892Z"
    }
   },
   "source": [
    "random_init(engine_RUL_30)"
   ],
   "outputs": [
    {
     "data": {
      "text/plain": [
       "{'T1': [35, 24, 64, 20, 49, 82],\n",
       " 'T2': [91, 76, 100, 68],\n",
       " 'T3': [92, 56, 40, 37, 36, 77, 61, 31, 66, 42],\n",
       " 'T4': [81, 41, 34, 90]}"
      ]
     },
     "execution_count": 108,
     "metadata": {},
     "output_type": "execute_result"
    }
   ],
   "execution_count": 108
  },
  {
   "cell_type": "markdown",
   "metadata": {},
   "source": [
    "# Loss Function"
   ]
  },
  {
   "cell_type": "code",
   "metadata": {
    "ExecuteTime": {
     "end_time": "2024-05-14T19:46:14.321065Z",
     "start_time": "2024-05-14T19:46:14.306424Z"
    }
   },
   "source": [
    "def engine_fix_date(schedule):\n",
    "    \"\"\" Calculate when each engine will be fixed\n",
    "    \n",
    "    Parameters:\n",
    "        schedule : dict\n",
    "            Dictionary with the schedule\n",
    "    \n",
    "    Returns:\n",
    "        engine_fix : dict\n",
    "            Dictionary with the fix date of each engine\n",
    "    \"\"\"\n",
    "    engine_fix = {}\n",
    "    for team in schedule:\n",
    "        days = 0\n",
    "        if team == \"T1\" or team == \"T3\":\n",
    "            time_table = Team_A_time\n",
    "        else:\n",
    "            time_table = Team_B_time\n",
    "            \n",
    "        for engine in schedule[team]:\n",
    "            engine_fix[engine] = days\n",
    "            days = days + time_table[engine]\n",
    "              \n",
    "    return engine_fix\n",
    "\n",
    "\n",
    "initial_schedule = random_init(engine_RUL_30)\n",
    "\n",
    "engine_cost = {key: 4 for key in range(1, 21)}\n",
    "engine_cost.update({key: 3 for key in range(21, 31)})\n",
    "engine_cost.update({key: 2 for key in range(31, 46)})\n",
    "engine_cost.update({key: 5 for key in range(46, 81)})\n",
    "engine_cost.update({key: 6 for key in range(81, 101)})\n",
    "print(engine_cost)\n",
    "\n",
    "def loss_function(schedule, engine_RUL):\n",
    "    \"\"\" Calculate the loss of the schedule\n",
    "    \n",
    "    Parameters:\n",
    "        schedule : dict\n",
    "            Dictionary with the schedule\n",
    "        engine_RUL : dict\n",
    "            Dictionary of engine RUL values\n",
    "        engine_cost : dict\n",
    "            Dictionary of engine costs\n",
    "    \n",
    "    Returns:\n",
    "        loss : float\n",
    "            Loss of the schedule\n",
    "    \"\"\"\n",
    "    \n",
    "    loss = 0\n",
    "    fix_dates = engine_fix_date(schedule)\n",
    "    for team in schedule:\n",
    "        for engine in schedule[team]:\n",
    "\n",
    "            days_late = fix_dates[engine] - engine_RUL[engine]\n",
    "            engine_loss = 0\n",
    "            if days_late > 0:\n",
    "                cost = engine_cost[engine]\n",
    "    \n",
    "                for i in range(days_late):\n",
    "                    day_loss = cost * (i ** 2)\n",
    "                    if day_loss > 250:\n",
    "                        day_loss = 250\n",
    "                    engine_loss += day_loss\n",
    "            loss += engine_loss\n",
    "        \n",
    "    return loss  \n",
    "\n",
    "loss_schedule = loss_function(initial_schedule, engine_RUL_30)\n",
    "print(loss_schedule)"
   ],
   "outputs": [
    {
     "name": "stdout",
     "output_type": "stream",
     "text": [
      "{1: 4, 2: 4, 3: 4, 4: 4, 5: 4, 6: 4, 7: 4, 8: 4, 9: 4, 10: 4, 11: 4, 12: 4, 13: 4, 14: 4, 15: 4, 16: 4, 17: 4, 18: 4, 19: 4, 20: 4, 21: 3, 22: 3, 23: 3, 24: 3, 25: 3, 26: 3, 27: 3, 28: 3, 29: 3, 30: 3, 31: 2, 32: 2, 33: 2, 34: 2, 35: 2, 36: 2, 37: 2, 38: 2, 39: 2, 40: 2, 41: 2, 42: 2, 43: 2, 44: 2, 45: 2, 46: 5, 47: 5, 48: 5, 49: 5, 50: 5, 51: 5, 52: 5, 53: 5, 54: 5, 55: 5, 56: 5, 57: 5, 58: 5, 59: 5, 60: 5, 61: 5, 62: 5, 63: 5, 64: 5, 65: 5, 66: 5, 67: 5, 68: 5, 69: 5, 70: 5, 71: 5, 72: 5, 73: 5, 74: 5, 75: 5, 76: 5, 77: 5, 78: 5, 79: 5, 80: 5, 81: 6, 82: 6, 83: 6, 84: 6, 85: 6, 86: 6, 87: 6, 88: 6, 89: 6, 90: 6, 91: 6, 92: 6, 93: 6, 94: 6, 95: 6, 96: 6, 97: 6, 98: 6, 99: 6, 100: 6}\n",
      "3210\n"
     ]
    }
   ],
   "execution_count": 109
  },
  {
   "metadata": {
    "ExecuteTime": {
     "end_time": "2024-05-14T19:46:14.482358Z",
     "start_time": "2024-05-14T19:46:14.472727Z"
    }
   },
   "cell_type": "code",
   "source": [
    "# Calculates the fitness of all the population and returns list of fitness values, index of pop=that pops fitness index\n",
    "def fitness_pop_calc(population, engine_RUL):\n",
    "    \"\"\" Calculate the fitness of the population\n",
    "    \n",
    "    Parameters:\n",
    "        population : list\n",
    "            List of schedules\n",
    "        engine_RUL : dict\n",
    "            Dictionary of engine RUL values\n",
    "        engine_cost : dict\n",
    "            Dictionary of engine costs\n",
    "    \n",
    "    Returns:\n",
    "        fitness : list\n",
    "            List of fitness value of each schedule in the population\n",
    "    \"\"\"\n",
    "    fitness = []\n",
    "    for i in range(len(population)):\n",
    "        loss_schedule = loss_function(population[i], engine_RUL)\n",
    "        fitness.append(1 / (1 + loss_schedule))\n",
    "    return fitness"
   ],
   "outputs": [],
   "execution_count": 110
  },
  {
   "cell_type": "markdown",
   "metadata": {},
   "source": [
    "# Termination Criterion"
   ]
  },
  {
   "cell_type": "code",
   "metadata": {
    "ExecuteTime": {
     "end_time": "2024-05-14T19:46:14.786477Z",
     "start_time": "2024-05-14T19:46:14.779030Z"
    }
   },
   "source": [
    "# TO DO LATER"
   ],
   "outputs": [],
   "execution_count": 111
  },
  {
   "cell_type": "markdown",
   "metadata": {},
   "source": [
    "# Selection of parents"
   ]
  },
  {
   "cell_type": "code",
   "metadata": {
    "ExecuteTime": {
     "end_time": "2024-05-14T19:54:04.141794Z",
     "start_time": "2024-05-14T19:54:04.131681Z"
    }
   },
   "source": [
    "# TO DO SELECT ONE DROM PYGAD UTILS\n",
    "# https://pygad.readthedocs.io/en/latest/pygad.html#parent-selection-methods\n",
    "\n",
    "def rank_selection(population, fitness, num_parents):\n",
    "    \"\"\"\n",
    "    Rank selection method to select parents for the next generation.\n",
    "    \n",
    "    Parameters:\n",
    "        population : list\n",
    "            The population of the current generation.\n",
    "        fitness : list\n",
    "            The fitness values of the solutions in the population.\n",
    "            The largest fitness value is the best performing solution.\n",
    "        num_parents : int\n",
    "            The number of parents to select.\n",
    "    \n",
    "    Returns:\n",
    "        parents : list\n",
    "            The selected parents.\n",
    "    \"\"\"\n",
    "    # Get the indices of the population sorted by fitness in ascending order\n",
    "    sorted_indices = np.argsort(fitness)[::-1]\n",
    "    \n",
    "    # Check if the number of parents is less than the population size, if not, set replacing to True, parents can be used multiple times\n",
    "    if num_parents < 0.7*len(population):\n",
    "        replacing = False\n",
    "    else:\n",
    "        replacing = True\n",
    "    \n",
    "    # Rank the population based on sorted indices\n",
    "    ranked_population = [population[i] for i in sorted_indices]\n",
    "    \n",
    "    # Calculate the selection probabilities\n",
    "    selection_probs = np.linspace(1, 0, len(ranked_population))\n",
    "    \n",
    "    # Select parents based on the selection probabilities\n",
    "    parents_indices = np.random.choice(len(population), num_parents, p=selection_probs/selection_probs.sum(), replace=replacing)\n",
    "    \n",
    "    # Get the parents using the selected indices\n",
    "    parents = [ranked_population[i] for i in parents_indices]\n",
    "    \n",
    "    return parents"
   ],
   "outputs": [],
   "execution_count": 145
  },
  {
   "cell_type": "markdown",
   "metadata": {},
   "source": [
    "# Crossover"
   ]
  },
  {
   "cell_type": "code",
   "metadata": {
    "ExecuteTime": {
     "end_time": "2024-05-14T19:54:04.442481Z",
     "start_time": "2024-05-14T19:54:04.431644Z"
    }
   },
   "source": [
    "parent_1 = random_init(engine_RUL_30)\n",
    "parent_2 = random_init(engine_RUL_30)"
   ],
   "outputs": [],
   "execution_count": 146
  },
  {
   "cell_type": "code",
   "metadata": {
    "ExecuteTime": {
     "end_time": "2024-05-14T19:54:04.631916Z",
     "start_time": "2024-05-14T19:54:04.611614Z"
    }
   },
   "source": [
    "# maybe TO DO: ONLY DELETE THE ORIGINAL DUPLICATES, NOT THE SWAPPED DUPLICATES\n",
    "\n",
    "def double_fixer(child, parent):\n",
    "    doubles = []\n",
    "    skipped_ones = []\n",
    "    numbers = {}\n",
    "    \n",
    "    for team in parent:\n",
    "        for engine in parent[team]:\n",
    "            numbers[engine] = [0]\n",
    "    \n",
    "    for team in child:\n",
    "        index = -1\n",
    "        for engine in child[team]:\n",
    "            index = index + 1\n",
    "            numbers[engine][0] = numbers[engine][0] + 1\n",
    "            numbers[engine].append(team)\n",
    "            numbers[engine].append(index)\n",
    "                \n",
    "    for key in numbers:\n",
    "        if numbers[key][0] == 0:\n",
    "            skipped_ones.append(key)\n",
    "        elif numbers[key][0] > 1:\n",
    "            doubles.append(key)\n",
    "    \n",
    "    for fault in doubles:\n",
    "        team = numbers[fault][-2]\n",
    "        index = numbers[fault][-1]        \n",
    "        next_missed_one = skipped_ones.pop()\n",
    "        child[team][index] = next_missed_one\n",
    "        \n",
    "    return child\n",
    "\n",
    "def find_center(parent, team, middle_down_round):\n",
    "    if len(parent[team]) % 2 == 0:\n",
    "            middle_index = len(parent[team]) // 2\n",
    "            next_middle_down_round = middle_down_round\n",
    "    else:\n",
    "        if middle_down_round:\n",
    "            middle_index = len(parent[team]) // 2             \n",
    "            next_middle_down_round = False\n",
    "        else: \n",
    "            middle_index = (len(parent[team]) // 2) + 1\n",
    "            next_middle_down_round = True\n",
    "    \n",
    "    return middle_index, next_middle_down_round\n"
   ],
   "outputs": [],
   "execution_count": 147
  },
  {
   "cell_type": "code",
   "metadata": {
    "ExecuteTime": {
     "end_time": "2024-05-14T19:54:04.833683Z",
     "start_time": "2024-05-14T19:54:04.817444Z"
    }
   },
   "source": [
    "def crossover(parent_1, parent_2):\n",
    "    #parent_1 = parents[0]\n",
    "    #parent_2 = parents[1]\n",
    "    \n",
    "    child1 = {key: [] for key in parent_1}\n",
    "    child2 = {key: [] for key in parent_2} \n",
    "    cross_side = random.choice([\"Left\", \"Right\"]) # Right means you keep the right side of p1 and switch the right side of p2\n",
    "       \n",
    "    p1_middle_down_round = True\n",
    "    p2_middle_down_round = True\n",
    "    \n",
    "    for team in parent_1:\n",
    "        \n",
    "        p1_middle, p1_middle_down_round = find_center(parent_1, team, p1_middle_down_round)\n",
    "        p2_middle, p2_middle_down_round = find_center(parent_2, team, p2_middle_down_round)\n",
    "\n",
    "        \n",
    "        if cross_side == \"Left\":\n",
    "            sub_schedule_p1 = parent_1[team][:p1_middle]\n",
    "            sub_schedule_p2 = parent_2[team][:p2_middle]\n",
    "            \n",
    "            child1[team].extend(sub_schedule_p2)\n",
    "            child1[team].extend(parent_1[team][p1_middle:])\n",
    "            \n",
    "            child2[team].extend(sub_schedule_p1)\n",
    "            child2[team].extend(parent_2[team][p2_middle:])\n",
    "        \n",
    "        if cross_side == \"Right\":\n",
    "            sub_schedule_p1 = parent_1[team][p1_middle:]\n",
    "            sub_schedule_p2 = parent_2[team][p2_middle:]\n",
    "            \n",
    "            child1[team].extend(parent_1[team][:p1_middle])\n",
    "            child1[team].extend(sub_schedule_p2)\n",
    "            \n",
    "            child2[team].extend(parent_2[team][:p2_middle])\n",
    "            child2[team].extend(sub_schedule_p1)\n",
    "    \n",
    "    \n",
    "    child1 = double_fixer(child1, parent_1)\n",
    "    child2 = double_fixer(child2, parent_2)\n",
    "    \n",
    "    return child1, child2\n"
   ],
   "outputs": [],
   "execution_count": 148
  },
  {
   "cell_type": "code",
   "metadata": {
    "ExecuteTime": {
     "end_time": "2024-05-14T19:54:05.037493Z",
     "start_time": "2024-05-14T19:54:05.025863Z"
    }
   },
   "source": [
    "def print_parent_formatted(parent, name):\n",
    "    formatted = ',\\n  '.join(f\"'{key}': {value}\" for key, value in parent.items())\n",
    "    print(f\"{name} = {{\\n  {formatted}\\n}}\")"
   ],
   "outputs": [],
   "execution_count": 149
  },
  {
   "cell_type": "code",
   "metadata": {
    "ExecuteTime": {
     "end_time": "2024-05-14T19:54:05.248461Z",
     "start_time": "2024-05-14T19:54:05.230921Z"
    }
   },
   "source": [
    "\n",
    "\n",
    "print_parent_formatted(parent_1, \"parent_1\")\n",
    "print_parent_formatted(parent_2, \"parent_2\")\n",
    "\n",
    "child1, child2 = crossover(parent_1, parent_2)\n",
    "\n",
    "print_parent_formatted(child1, \"child1: \")\n",
    "print_parent_formatted(child2, \"child2: \")\n",
    "print(sum(len(value) for value in child1.values()))\n",
    "print(sum(len(value) for value in child2.values()))\n"
   ],
   "outputs": [
    {
     "name": "stdout",
     "output_type": "stream",
     "text": [
      "parent_1 = {\n",
      "  'T1': [24, 31, 61, 91, 82, 64],\n",
      "  'T2': [100, 90, 66, 77, 36, 41, 49, 68, 37, 42],\n",
      "  'T3': [81, 92],\n",
      "  'T4': [20, 34, 76, 35, 40, 56]\n",
      "}\n",
      "parent_2 = {\n",
      "  'T1': [24, 41, 42, 66, 82],\n",
      "  'T2': [92, 36, 61, 20],\n",
      "  'T3': [91, 35, 37, 31, 81],\n",
      "  'T4': [100, 64, 76, 40, 56, 68, 90, 34, 77, 49]\n",
      "}\n",
      "child1:  = {\n",
      "  'T1': [24, 31, 61, 42, 66, 82],\n",
      "  'T2': [100, 90, 92, 77, 36, 40, 20],\n",
      "  'T3': [81, 56, 41],\n",
      "  'T4': [64, 34, 76, 68, 35, 91, 37, 49]\n",
      "}\n",
      "child2:  = {\n",
      "  'T1': [24, 41, 91, 82, 64],\n",
      "  'T2': [92, 36, 77, 49, 68, 37, 42],\n",
      "  'T3': [90, 35, 31, 34],\n",
      "  'T4': [100, 20, 76, 40, 56, 81, 61, 66]\n",
      "}\n",
      "24\n",
      "24\n"
     ]
    }
   ],
   "execution_count": 150
  },
  {
   "cell_type": "code",
   "metadata": {
    "ExecuteTime": {
     "end_time": "2024-05-14T19:54:05.659463Z",
     "start_time": "2024-05-14T19:54:05.650850Z"
    }
   },
   "source": [
    "test = {}\n",
    "test.update({1 : 0})\n",
    "test.update({2 : 0})\n",
    "print(test[1]) \n",
    "test[1] = 4\n",
    "test[1] = test[1] + 1\n",
    "print(test)"
   ],
   "outputs": [
    {
     "name": "stdout",
     "output_type": "stream",
     "text": [
      "0\n",
      "{1: 5, 2: 0}\n"
     ]
    }
   ],
   "execution_count": 151
  },
  {
   "cell_type": "markdown",
   "metadata": {},
   "source": [
    "# Mutation"
   ]
  },
  {
   "cell_type": "code",
   "metadata": {
    "ExecuteTime": {
     "end_time": "2024-05-14T19:54:06.412102Z",
     "start_time": "2024-05-14T19:54:06.395372Z"
    }
   },
   "source": [
    "# This function chooses a random engine in the schema, and returns its index and the team it is in now\n",
    "def random_chooser(child):\n",
    "    total_length = 0\n",
    "    team_lengths = {}\n",
    "    for team in child:\n",
    "        length = len(child[team])\n",
    "        team_lengths[team] = length\n",
    "        total_length = total_length + length\n",
    "    \n",
    "    index_team = \"\"\n",
    "    index = random.randrange(total_length)\n",
    "    for team in team_lengths:\n",
    "        if index - team_lengths[team] >= 0:\n",
    "            index = index - team_lengths[team]\n",
    "        else:\n",
    "            index_team = team\n",
    "            break\n",
    "            \n",
    "    return [index, index_team]"
   ],
   "outputs": [],
   "execution_count": 152
  },
  {
   "cell_type": "code",
   "metadata": {
    "ExecuteTime": {
     "end_time": "2024-05-14T19:54:06.556797Z",
     "start_time": "2024-05-14T19:54:06.540198Z"
    }
   },
   "source": [
    "# we kunnen swaps doen als mutaties\n",
    "def swap_mutation(child):\n",
    "    engine1  = random_chooser(child)\n",
    "    engine2 = random_chooser(child)\n",
    "    print(engine1)\n",
    "    print(engine2)\n",
    "    \n",
    "    new_child = copy.deepcopy(child)\n",
    "    \n",
    "    new_child[engine1[1]][engine1[0]] = child[engine2[1]][engine2[0]]\n",
    "    new_child[engine2[1]][engine2[0]] = child[engine1[1]][engine1[0]]\n",
    "    \n",
    "    return new_child"
   ],
   "outputs": [],
   "execution_count": 153
  },
  {
   "cell_type": "code",
   "metadata": {
    "ExecuteTime": {
     "end_time": "2024-05-14T19:54:06.765195Z",
     "start_time": "2024-05-14T19:54:06.746434Z"
    }
   },
   "source": [
    "print(child1)\n",
    "new_swap_child = swap_mutation(child1)\n",
    "print(new_swap_child)"
   ],
   "outputs": [
    {
     "name": "stdout",
     "output_type": "stream",
     "text": [
      "{'T1': [24, 31, 61, 42, 66, 82], 'T2': [100, 90, 92, 77, 36, 40, 20], 'T3': [81, 56, 41], 'T4': [64, 34, 76, 68, 35, 91, 37, 49]}\n",
      "[1, 'T3']\n",
      "[1, 'T4']\n",
      "{'T1': [24, 31, 61, 42, 66, 82], 'T2': [100, 90, 92, 77, 36, 40, 20], 'T3': [81, 34, 41], 'T4': [64, 56, 76, 68, 35, 91, 37, 49]}\n"
     ]
    }
   ],
   "execution_count": 154
  },
  {
   "cell_type": "code",
   "metadata": {
    "ExecuteTime": {
     "end_time": "2024-05-14T19:54:07.435916Z",
     "start_time": "2024-05-14T19:54:07.416203Z"
    }
   },
   "source": [
    "# alleen mis is het beter om additie te doen ipv swap, anders worden je teams nooit meer langer na eerste paar generaties, aangezien ik denk dat alles redleijk snel uit averaged, \n",
    "# en terwijl je dit soort variaties mis wel wil?\n",
    "\n",
    "def additive_mutation(child):\n",
    "    possible_teams = [\"T1\", \"T2\", \"T3\", \"T4\"]\n",
    "    to_remove = random_chooser(child)\n",
    "    child_copy = copy.deepcopy(child)\n",
    "    \n",
    "    engine = child_copy[to_remove[1]].pop(to_remove[0])\n",
    "    team_index = random.randrange(4)\n",
    "    team = possible_teams[team_index]\n",
    "    length_team = len(child_copy[team])\n",
    "    index = random.randrange(length_team)\n",
    "    \n",
    "    child_copy[team].insert(index, engine)\n",
    "    return child_copy\n"
   ],
   "outputs": [],
   "execution_count": 155
  },
  {
   "cell_type": "code",
   "metadata": {
    "ExecuteTime": {
     "end_time": "2024-05-14T19:54:07.602808Z",
     "start_time": "2024-05-14T19:54:07.592235Z"
    }
   },
   "source": [
    "print(child1)\n",
    "new_additive_child = additive_mutation(child1)\n",
    "print(new_additive_child)"
   ],
   "outputs": [
    {
     "name": "stdout",
     "output_type": "stream",
     "text": [
      "{'T1': [24, 31, 61, 42, 66, 82], 'T2': [100, 90, 92, 77, 36, 40, 20], 'T3': [81, 56, 41], 'T4': [64, 34, 76, 68, 35, 91, 37, 49]}\n",
      "{'T1': [24, 31, 61, 42, 66, 82], 'T2': [100, 90, 76, 92, 77, 36, 40, 20], 'T3': [81, 56, 41], 'T4': [64, 34, 68, 35, 91, 37, 49]}\n"
     ]
    }
   ],
   "execution_count": 156
  },
  {
   "cell_type": "code",
   "metadata": {
    "ExecuteTime": {
     "end_time": "2024-05-14T19:54:08.110145Z",
     "start_time": "2024-05-14T19:54:08.104978Z"
    }
   },
   "source": [],
   "outputs": [],
   "execution_count": 156
  },
  {
   "cell_type": "markdown",
   "metadata": {},
   "source": [
    "# Genetic Algorithm"
   ]
  },
  {
   "cell_type": "code",
   "metadata": {
    "ExecuteTime": {
     "end_time": "2024-05-14T21:30:52.173572Z",
     "start_time": "2024-05-14T21:30:52.152174Z"
    }
   },
   "source": [
    "def selection_func(population, fitness, num_parents):\n",
    "    selected_parents = rank_selection(population, fitness, num_parents)\n",
    "    return selected_parents\n",
    "\n",
    "def crossover_func(parents, crossover_probability):\n",
    "    offspring = []\n",
    "    for index in range(0, len(parents), 2):\n",
    "        # Check if index + 1 is possible, for uneven numer of population\n",
    "        if index + 1 < len(parents):\n",
    "            if random.random() < crossover_probability:\n",
    "                child1, child2 = crossover(parents[index], parents[index+1])\n",
    "            else:\n",
    "                child1, child2 = parents[index], parents[index+1]\n",
    "            offspring.append(child1)\n",
    "            offspring.append(child2)\n",
    "        else:\n",
    "            offspring.append(random.choice(parents))\n",
    "            \n",
    "    return offspring\n",
    "            \n",
    "def mutation_func(offspring, mutation_probability):\n",
    "    new_offspring = []\n",
    "    for child in offspring:\n",
    "        if random.random() < mutation_probability:\n",
    "            new_child = additive_mutation(child)\n",
    "        else:\n",
    "            new_child = child\n",
    "        new_offspring.append(new_child)\n",
    "    return new_offspring\n",
    "\n",
    "\"\"\" \n",
    "def get_best_parernt(parents, engines_RUL, num_best_parents):\n",
    "    parents_fitness = {}\n",
    "    for parent in parents:\n",
    "        parent_loss = loss_function(parent, engines_RUL, engine_cost)\n",
    "        parents_fitness[parent] = parent_loss\n",
    "        \n",
    "\"\"\"\n",
    "\n",
    "def get_elite(population, fitness ,num_elites):\n",
    "    elite = []\n",
    "    old_population = copy.deepcopy(population)\n",
    "    for i in range(num_elites):\n",
    "        index = fitness.index(max(fitness))\n",
    "        elite_one = population.pop(index)\n",
    "        elite.append(elite_one)\n",
    "        fitness.pop(index)\n",
    "    \n",
    "    return elite\n",
    "    \n",
    "    \n",
    "    \n",
    "\n",
    "def GA_run(num_generations, initial_population, crossover_prob, mutation_prob, engine_RUL, nr_elite=0, num_parents=None):\n",
    "    population = [random_init(engine_RUL) for _ in range(initial_population)]\n",
    "    if num_parents is None:\n",
    "        num_parents = len(population)-nr_elite\n",
    "    \n",
    "    if num_parents == len(population):\n",
    "        num_parents = len(population) - nr_elite\n",
    "    current_iteration = 1\n",
    "    while current_iteration <= num_generations:\n",
    "        fitness = fitness_pop_calc(population, engine_RUL)\n",
    "        selected_parents = selection_func(population, fitness, num_parents)\n",
    "        elite = get_elite(population, fitness, nr_elite)\n",
    "        \n",
    "        offspring = crossover_func(selected_parents, crossover_prob)\n",
    "        mutated_offspring = mutation_func(offspring, mutation_prob)\n",
    "        mutated_offspring.extend(elite)\n",
    "        population = mutated_offspring\n",
    "        \n",
    "        fitness_new_pop = fitness_pop_calc(population, engine_RUL)\n",
    "\n",
    "        best_index = fitness_new_pop.index(max(fitness_new_pop))\n",
    "        best_schedule = population[best_index]\n",
    "        best_loss = loss_function(best_schedule, engine_RUL)\n",
    "        print('loss of elite:', loss_function(elite[0], engine_RUL))\n",
    "        print(f\"Generation {current_iteration} - Best loss: {best_loss}\")\n",
    "        current_iteration += 1\n",
    "\n",
    "    fitness = fitness_pop_calc(population, engine_RUL)\n",
    "    best_index = fitness.index(max(fitness))\n",
    "    best_schedule = population[best_index]\n",
    "    best_loss = loss_function(best_schedule, engine_RUL)\n",
    "    return best_schedule, best_loss\n",
    "    \n",
    "    "
   ],
   "outputs": [],
   "execution_count": 260
  },
  {
   "cell_type": "code",
   "metadata": {
    "ExecuteTime": {
     "end_time": "2024-05-14T21:30:52.924811Z",
     "start_time": "2024-05-14T21:30:52.874498Z"
    }
   },
   "source": [
    "num_generations = 10\n",
    "crossover_prob = 0.9\n",
    "mutation_prob = 0.05\n",
    "number_parents = 50\n",
    "initial_population_size = 50\n",
    "elitism = 1\n",
    "engine_RUL = engine_RUL_30\n",
    "\n",
    "\n",
    "\n",
    "GA_run(num_generations, initial_population_size, crossover_prob,  mutation_prob, engine_RUL, elitism)"
   ],
   "outputs": [
    {
     "name": "stdout",
     "output_type": "stream",
     "text": [
      "loss of elite: 3036\n",
      "Generation 1 - Best loss: 1101\n",
      "loss of elite: 1101\n",
      "Generation 2 - Best loss: 966\n",
      "loss of elite: 966\n",
      "Generation 3 - Best loss: 438\n",
      "loss of elite: 438\n",
      "Generation 4 - Best loss: 81\n",
      "loss of elite: 81\n",
      "Generation 5 - Best loss: 80\n",
      "loss of elite: 80\n",
      "Generation 6 - Best loss: 80\n",
      "loss of elite: 80\n",
      "Generation 7 - Best loss: 28\n",
      "loss of elite: 28\n",
      "Generation 8 - Best loss: 28\n",
      "loss of elite: 28\n",
      "Generation 9 - Best loss: 12\n",
      "loss of elite: 12\n",
      "Generation 10 - Best loss: 4\n"
     ]
    },
    {
     "data": {
      "text/plain": [
       "({'T1': [68, 41, 35, 20, 64, 91, 37, 92],\n",
       "  'T2': [82, 24, 36, 66],\n",
       "  'T3': [42, 49, 56, 77, 34, 90, 40],\n",
       "  'T4': [76, 61, 81, 31, 100]},\n",
       " 4)"
      ]
     },
     "execution_count": 261,
     "metadata": {},
     "output_type": "execute_result"
    }
   ],
   "execution_count": 261
  },
  {
   "cell_type": "code",
   "metadata": {
    "ExecuteTime": {
     "end_time": "2024-05-14T21:02:51.434908Z",
     "start_time": "2024-05-14T21:02:51.428551Z"
    }
   },
   "source": [],
   "outputs": [],
   "execution_count": 205
  },
  {
   "cell_type": "markdown",
   "metadata": {},
   "source": [
    "# PyGad Genetic Algorithm"
   ]
  },
  {
   "cell_type": "code",
   "metadata": {
    "ExecuteTime": {
     "end_time": "2024-05-14T19:54:13.175376Z",
     "start_time": "2024-05-14T19:54:13.155064Z"
    }
   },
   "source": [
    "num_generations = 10\n",
    "num_parents_mating = 2\n",
    "\n",
    "def machine_fitness_func(ga_instance, solution, solution_idx):\n",
    "    output = loss_function(solution, engine_RUL_30)\n",
    "    fitness = 1.0 / output\n",
    "    return fitness\n",
    "\n",
    "fitness_func = machine_fitness_func\n",
    "\n",
    "initial_population = [random_init(engine_RUL_30) for _ in range(50)]\n",
    "\n",
    "parent_selection_type = \"rws\"\n",
    "\n",
    "keep_parents = -1\n",
    "keep_elitism = 1\n",
    "\n",
    "def crossover_func(parents, offspring_size, ga_instance):\n",
    "    child1, child2 = crossover(parents = parents)\n",
    "    offspring = [child1, child2]\n",
    "    return offspring\n",
    "\n",
    "crossover_type = crossover_func # A custom crossover function can be passed starting from PyGAD 2.16.0. https://pygad.readthedocs.io/en/latest/pygad_more.html#user-defined-crossover-mutation-and-parent-selection-operators\n",
    "crossover_probability = 0.8\n",
    "\n",
    "def mutation_func(offspring, ga_instance):\n",
    "    offspring = additive_mutation(child)\n",
    "    \n",
    "mutation_type = additive_mutation # A custom mutation function can be passed starting from PyGAD 2.16.0. https://pygad.readthedocs.io/en/latest/pygad_more.html#user-defined-crossover-mutation-and-parent-selection-operators\n",
    "mutation_probability = 0.05\n",
    "\n",
    "save_best_solutions=True\n"
   ],
   "outputs": [],
   "execution_count": 159
  },
  {
   "cell_type": "code",
   "metadata": {
    "ExecuteTime": {
     "end_time": "2024-05-14T19:46:19.787383Z",
     "start_time": "2024-05-14T19:46:19.134860Z"
    }
   },
   "source": [
    "import pygad\n",
    "import numpy\n",
    "\n",
    "equation_inputs = [4,-2,3.5]\n",
    "desired_output = 44\n",
    "\n",
    "def fitness_func(ga_instance, solution, solution_idx):\n",
    "    output = numpy.sum(solution * equation_inputs)\n",
    "    fitness = 1.0 / (numpy.abs(output - desired_output) + 0.000001)\n",
    "    return fitness\n",
    "\n",
    "ga_instance = pygad.GA(num_generations=10,\n",
    "                       sol_per_pop=5,\n",
    "                       num_parents_mating=2,\n",
    "                       num_genes=len(equation_inputs),\n",
    "                       fitness_func=fitness_func)\n",
    "\n",
    "ga_instance.run()\n",
    "ga_instance.plot_fitness()"
   ],
   "outputs": [
    {
     "name": "stderr",
     "output_type": "stream",
     "text": [
      "C:\\Users\\Jeroe\\anaconda3\\Lib\\site-packages\\pygad\\pygad.py:728: UserWarning: The percentage of genes to mutate (mutation_percent_genes=10) resulted in selecting (0) genes. The number of genes to mutate is set to 1 (mutation_num_genes=1).\n",
      "If you do not want to mutate any gene, please set mutation_type=None.\n",
      "  warnings.warn(\n",
      "C:\\Users\\Jeroe\\anaconda3\\Lib\\site-packages\\pygad\\pygad.py:1139: UserWarning: The 'delay_after_gen' parameter is deprecated starting from PyGAD 3.3.0. To delay or pause the evolution after each generation, assign a callback function/method to the 'on_generation' parameter to adds some time delay.\n",
      "  warnings.warn(\"The 'delay_after_gen' parameter is deprecated starting from PyGAD 3.3.0. To delay or pause the evolution after each generation, assign a callback function/method to the 'on_generation' parameter to adds some time delay.\")\n",
      "No artists with labels found to put in legend.  Note that artists whose label start with an underscore are ignored when legend() is called with no argument.\n"
     ]
    },
    {
     "data": {
      "text/plain": [
       "<Figure size 640x480 with 1 Axes>"
      ],
      "image/png": "[encoded data removed]"
     },
     "metadata": {},
     "output_type": "display_data"
    },
    {
     "data": {
      "text/plain": [
       "<Figure size 640x480 with 1 Axes>"
      ],
      "image/png": "[encoded data removed]"
     },
     "execution_count": 127,
     "metadata": {},
     "output_type": "execute_result"
    }
   ],
   "execution_count": 127
  },
  {
   "cell_type": "markdown",
   "metadata": {},
   "source": [
    "num_generations = 50\n",
    "num_parents_mating = 2\n",
    "\n",
    "fitness_function = fitness_func\n",
    "\n",
    "sol_per_pop = 8\n",
    "num_genes = len(function_inputs)\n",
    "\n",
    "init_range_low = -2\n",
    "init_range_high = 5\n",
    "\n",
    "parent_selection_type = \"sss\"\n",
    "keep_parents = 2\n",
    "\n",
    "crossover_type = \"single_point\"\n",
    "\n",
    "mutation_type = \"random\"\n",
    "mutation_percent_genes = 10"
   ]
  }
 ],
 "metadata": {
  "kernelspec": {
   "display_name": ".venv",
   "language": "python",
   "name": "python3"
  },
  "language_info": {
   "codemirror_mode": {
    "name": "ipython",
    "version": 3
   },
   "file_extension": ".py",
   "mimetype": "text/x-python",
   "name": "python",
   "nbconvert_exporter": "python",
   "pygments_lexer": "ipython3",
   "version": "3.9.5"
  }
 },
 "nbformat": 4,
 "nbformat_minor": 2
}
