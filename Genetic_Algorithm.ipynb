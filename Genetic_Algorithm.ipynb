{
 "cells": [
  {
   "cell_type": "code",
   "metadata": {
    "ExecuteTime": {
     "end_time": "2024-05-13T07:14:24.418504Z",
     "start_time": "2024-05-13T07:14:24.401356Z"
    }
   },
   "source": [
    "import pandas as pd\n",
    "import numpy as np\n",
    "import pygad\n",
    "import random\n",
    "import copy"
   ],
   "outputs": [],
   "execution_count": 42
  },
  {
   "cell_type": "code",
   "metadata": {
    "ExecuteTime": {
     "end_time": "2024-05-13T07:14:24.835582Z",
     "start_time": "2024-05-13T07:14:24.825139Z"
    }
   },
   "source": [
    "import csv\n",
    "\n",
    "# Initialize an empty dictionary\n",
    "enginge_RUL = {}\n",
    "\n",
    "with open('RUL_consultancy_predictions_A3-2.csv', newline='') as csvfile:\n",
    "    # Create a CSV reader object with semicolon as delimiter\n",
    "    reader = csv.reader(csvfile, delimiter=';')\n",
    "    # Skip the header row\n",
    "    next(reader)\n",
    "    # Loop over each row in the CSV\n",
    "    for row in reader:\n",
    "        # Check if row has exactly 2 columns\n",
    "        if len(row) == 2:\n",
    "            enginge_RUL[int(row[1])] = int(row[0])"
   ],
   "outputs": [],
   "execution_count": 43
  },
  {
   "cell_type": "code",
   "metadata": {
    "ExecuteTime": {
     "end_time": "2024-05-13T07:14:25.355500Z",
     "start_time": "2024-05-13T07:14:25.338528Z"
    }
   },
   "source": [
    "engine_RUL_30 = {key: value for key, value in enginge_RUL.items() if value <= 30}"
   ],
   "outputs": [],
   "execution_count": 44
  },
  {
   "cell_type": "code",
   "metadata": {
    "ExecuteTime": {
     "end_time": "2024-05-13T07:14:25.852788Z",
     "start_time": "2024-05-13T07:14:25.838124Z"
    }
   },
   "source": [
    "Team_A_time = {key: 4 for key in range(1, 21)}\n",
    "Team_A_time.update({key: 3 for key in range(21, 56)})\n",
    "Team_A_time.update({key: 2 for key in range(56, 81)})\n",
    "Team_A_time.update({key: 8 for key in range(81, 101)})\n",
    "\n",
    "Team_B_time = {j : Team_A_time[j] + 1 for j in range(1, 26)}\n",
    "Team_B_time.update({j : Team_A_time[j] + 2 for j in range(26, 71)})\n",
    "Team_B_time.update({j : Team_A_time[j] + 1 for j in range(71, 101)})"
   ],
   "outputs": [],
   "execution_count": 45
  },
  {
   "cell_type": "code",
   "metadata": {
    "ExecuteTime": {
     "end_time": "2024-05-13T07:14:26.351620Z",
     "start_time": "2024-05-13T07:14:26.336705Z"
    }
   },
   "source": [
    "T1_time = Team_A_time\n",
    "T2_time = Team_B_time\n",
    "T3_time = Team_A_time\n",
    "T4_time = Team_B_time"
   ],
   "outputs": [],
   "execution_count": 46
  },
  {
   "cell_type": "markdown",
   "metadata": {},
   "source": [
    "# Random Initializer"
   ]
  },
  {
   "cell_type": "code",
   "metadata": {
    "ExecuteTime": {
     "end_time": "2024-05-13T07:14:27.307601Z",
     "start_time": "2024-05-13T07:14:27.297221Z"
    }
   },
   "source": [
    "def calculate_team_work_time(team, engines):\n",
    "    if team in [\"T1\", \"T3\"]:\n",
    "        engine_times = Team_A_time\n",
    "    else:\n",
    "        engine_times = Team_B_time\n",
    "    \n",
    "    time = 0\n",
    "    \n",
    "    for engine in engines:\n",
    "        time += engine_times[engine]\n",
    "    \n",
    "    return time\n",
    "    \n",
    "\n",
    "def random_init(engines_RUL):\n",
    "    schedule = {\"T1\":[], \"T2\":[], \"T3\":[], \"T4\":[]}\n",
    "    \n",
    "    possible_engines = list(engines_RUL.keys())\n",
    "    possible_teams = [\"T1\", \"T2\", \"T3\", \"T4\"]\n",
    "    \n",
    "    iterations = 0 \n",
    "    \n",
    "    while possible_engines and iterations < 500:\n",
    "        index = random.randrange(4)\n",
    "        team = possible_teams[index]\n",
    "        \n",
    "        index = random.randrange(len(possible_engines))\n",
    "        selected_engine = possible_engines[index]\n",
    "        \n",
    "        schedule[team].append(selected_engine)\n",
    "        \n",
    "        possible_engines.remove(selected_engine)\n",
    "        \n",
    "        iterations += 1\n",
    "\n",
    "    return schedule"
   ],
   "outputs": [],
   "execution_count": 47
  },
  {
   "cell_type": "code",
   "metadata": {
    "ExecuteTime": {
     "end_time": "2024-05-13T07:14:27.619476Z",
     "start_time": "2024-05-13T07:14:27.597910Z"
    }
   },
   "source": [
    "random_init(engine_RUL_30)"
   ],
   "outputs": [
    {
     "data": {
      "text/plain": [
       "{'T1': [49, 56, 100, 90, 35, 76, 40],\n",
       " 'T2': [91, 42, 81, 92],\n",
       " 'T3': [37, 20, 68, 24, 34],\n",
       " 'T4': [31, 61, 82, 36, 64, 66, 41, 77]}"
      ]
     },
     "execution_count": 48,
     "metadata": {},
     "output_type": "execute_result"
    }
   ],
   "execution_count": 48
  },
  {
   "cell_type": "markdown",
   "metadata": {},
   "source": [
    "# Loss Function"
   ]
  },
  {
   "cell_type": "code",
   "metadata": {
    "ExecuteTime": {
     "end_time": "2024-05-13T07:14:28.432077Z",
     "start_time": "2024-05-13T07:14:28.420452Z"
    }
   },
   "source": [
    "def engine_fix_date(schedule):\n",
    "    engine_fix = {}\n",
    "    for team in schedule:\n",
    "        days = 0\n",
    "        if team == \"T1\" or team == \"T3\":\n",
    "            time_table = Team_A_time\n",
    "        else:\n",
    "            time_table = Team_B_time\n",
    "            \n",
    "        for engine in schedule[team]:\n",
    "            engine_fix[engine] = days\n",
    "            days = days + time_table[engine]\n",
    "              \n",
    "    return engine_fix\n",
    "\n",
    "\n",
    "initial_schedule = random_init(engine_RUL_30)\n",
    "print(initial_schedule)\n",
    "\n",
    "engine_cost = {key: 4 for key in range(1, 21)}\n",
    "engine_cost.update({key: 3 for key in range(21, 31)})\n",
    "engine_cost.update({key: 2 for key in range(31, 46)})\n",
    "engine_cost.update({key: 5 for key in range(46, 81)})\n",
    "engine_cost.update({key: 6 for key in range(81, 100)})\n",
    "\n",
    "\n",
    "def loss_function(schedule, engine_RUL, engine_cost):\n",
    "    loss = 0\n",
    "    fix_dates = engine_fix_date(schedule)\n",
    "    print(fix_dates)\n",
    "    print(engine_RUL)\n",
    "    for team in schedule:\n",
    "        for engine in schedule[team]:\n",
    "\n",
    "            days_late = fix_dates[engine] - engine_RUL[engine]\n",
    "            engine_loss = 0\n",
    "            if days_late > 0:\n",
    "                cost = engine_cost[engine]\n",
    "    \n",
    "                for i in range(days_late):\n",
    "                    day_loss = cost * (i ** 2)\n",
    "                    if day_loss > 250:\n",
    "                        day_loss = 250\n",
    "                    engine_loss += day_loss\n",
    "            loss += engine_loss\n",
    "        \n",
    "    return loss  \n",
    "\n",
    "loss_schedule = loss_function(initial_schedule, engine_RUL_30, engine_cost)\n",
    "print(loss_schedule)"
   ],
   "outputs": [
    {
     "name": "stdout",
     "output_type": "stream",
     "text": [
      "{'T1': [49, 31, 61, 35, 91, 42], 'T2': [34, 100, 64, 37, 41, 40], 'T3': [68, 82, 81, 20], 'T4': [92, 56, 66, 76, 90, 24, 36, 77]}\n",
      "{49: 0, 31: 3, 61: 6, 35: 8, 91: 11, 42: 19, 34: 0, 100: 5, 64: 14, 37: 18, 41: 23, 40: 28, 68: 0, 82: 2, 81: 10, 20: 18, 92: 0, 56: 9, 66: 13, 76: 17, 90: 20, 24: 29, 36: 33, 77: 38}\n",
      "{20: 10, 24: 26, 31: 14, 34: 8, 35: 8, 36: 24, 37: 21, 40: 29, 41: 23, 42: 13, 49: 14, 56: 18, 61: 23, 64: 24, 66: 18, 68: 13, 76: 3, 77: 27, 81: 6, 82: 11, 90: 28, 91: 29, 92: 24, 100: 24}\n",
      "4827\n"
     ]
    }
   ],
   "execution_count": 49
  },
  {
   "cell_type": "markdown",
   "metadata": {},
   "source": [
    "# Termination Criterion"
   ]
  },
  {
   "cell_type": "code",
   "metadata": {
    "ExecuteTime": {
     "end_time": "2024-05-13T07:14:29.429273Z",
     "start_time": "2024-05-13T07:14:29.425105Z"
    }
   },
   "source": [
    "# TO DO LATER"
   ],
   "outputs": [],
   "execution_count": 50
  },
  {
   "cell_type": "markdown",
   "metadata": {},
   "source": [
    "# Selection of parents"
   ]
  },
  {
   "cell_type": "code",
   "metadata": {
    "ExecuteTime": {
     "end_time": "2024-05-13T07:14:30.313183Z",
     "start_time": "2024-05-13T07:14:30.309305Z"
    }
   },
   "source": [
    "# TO DO SELECT ONE DROM PYGAD UTILS\n",
    "# https://pygad.readthedocs.io/en/latest/pygad.html#parent-selection-methods"
   ],
   "outputs": [],
   "execution_count": 51
  },
  {
   "cell_type": "markdown",
   "metadata": {},
   "source": [
    "# Crossover"
   ]
  },
  {
   "metadata": {
    "ExecuteTime": {
     "end_time": "2024-05-13T07:58:28.957240Z",
     "start_time": "2024-05-13T07:58:28.945849Z"
    }
   },
   "cell_type": "code",
   "source": [
    "parent_1 = random_init(engine_RUL_30)\n",
    "parent_2 = random_init(engine_RUL_30)"
   ],
   "outputs": [],
   "execution_count": 181
  },
  {
   "metadata": {
    "ExecuteTime": {
     "end_time": "2024-05-13T07:58:29.503781Z",
     "start_time": "2024-05-13T07:58:29.485501Z"
    }
   },
   "cell_type": "code",
   "source": [
    "# maybe TO DO: ONLY DELETE THE ORIGINAL DUPLICATES, NOT THE SWAPPED DUPLICATES\n",
    "\n",
    "def double_fixer(child, parent):\n",
    "    doubles = []\n",
    "    skipped_ones = []\n",
    "    numbers = {}\n",
    "    \n",
    "    for team in parent:\n",
    "        for engine in parent[team]:\n",
    "            numbers[engine] = [0]\n",
    "    \n",
    "    for team in child:\n",
    "        index = -1\n",
    "        for engine in child[team]:\n",
    "            index = index + 1\n",
    "            numbers[engine][0] = numbers[engine][0] + 1\n",
    "            numbers[engine].append(team)\n",
    "            numbers[engine].append(index)\n",
    "                \n",
    "    for key in numbers:\n",
    "        if numbers[key][0] == 0:\n",
    "            skipped_ones.append(key)\n",
    "        elif numbers[key][0] > 1:\n",
    "            doubles.append(key)\n",
    "    \n",
    "    for fault in doubles:\n",
    "        team = numbers[fault][-2]\n",
    "        index = numbers[fault][-1]        \n",
    "        next_missed_one = skipped_ones.pop()\n",
    "        child[team][index] = next_missed_one\n",
    "        \n",
    "    return child\n",
    "\n",
    "def find_center(parent, team, middle_down_round):\n",
    "    if len(parent[team]) % 2 == 0:\n",
    "            middle_index = len(parent[team]) // 2\n",
    "            next_middle_down_round = middle_down_round\n",
    "    else:\n",
    "        if middle_down_round:\n",
    "            middle_index = len(parent[team]) // 2             \n",
    "            next_middle_down_round = False\n",
    "        else: \n",
    "            middle_index = (len(parent[team]) // 2) + 1\n",
    "            next_middle_down_round = True\n",
    "    \n",
    "    return middle_index, next_middle_down_round\n"
   ],
   "outputs": [],
   "execution_count": 182
  },
  {
   "cell_type": "code",
   "metadata": {
    "ExecuteTime": {
     "end_time": "2024-05-13T07:58:30.045366Z",
     "start_time": "2024-05-13T07:58:30.032326Z"
    }
   },
   "source": [
    "def crossover(parents, offspring_size = 2):\n",
    "    parent_1 = parents[0]\n",
    "    parent_2 = parents[1]\n",
    "    \n",
    "    child1 = {key: [] for key in parent_1}\n",
    "    child2 = {key: [] for key in parent_2} \n",
    "    cross_side = random.choice([\"Left\", \"Right\"]) # Right means you keep the right side of p1 and switch the right side of p2\n",
    "       \n",
    "    p1_middle_down_round = True\n",
    "    p2_middle_down_round = True\n",
    "    \n",
    "    for team in parent_1:\n",
    "        \n",
    "        p1_middle, p1_middle_down_round = find_center(parent_1, team, p1_middle_down_round)\n",
    "        p2_middle, p2_middle_down_round = find_center(parent_2, team, p2_middle_down_round)\n",
    "\n",
    "        \n",
    "        if cross_side == \"Left\":\n",
    "            sub_schedule_p1 = parent_1[team][:p1_middle]\n",
    "            sub_schedule_p2 = parent_2[team][:p2_middle]\n",
    "            \n",
    "            child1[team].extend(sub_schedule_p2)\n",
    "            child1[team].extend(parent_1[team][p1_middle:])\n",
    "            \n",
    "            child2[team].extend(sub_schedule_p1)\n",
    "            child2[team].extend(parent_2[team][p2_middle:])\n",
    "        \n",
    "        if cross_side == \"Right\":\n",
    "            sub_schedule_p1 = parent_1[team][p1_middle:]\n",
    "            sub_schedule_p2 = parent_2[team][p2_middle:]\n",
    "            \n",
    "            child1[team].extend(parent_1[team][:p1_middle])\n",
    "            child1[team].extend(sub_schedule_p2)\n",
    "            \n",
    "            child2[team].extend(parent_2[team][:p2_middle])\n",
    "            child2[team].extend(sub_schedule_p1)\n",
    "    \n",
    "    \n",
    "    child1 = double_fixer(child1, parent_1)\n",
    "    child2 = double_fixer(child2, parent_2)\n",
    "    \n",
    "    return child1, child2\n"
   ],
   "outputs": [],
   "execution_count": 183
  },
  {
   "metadata": {
    "ExecuteTime": {
     "end_time": "2024-05-13T07:58:30.660452Z",
     "start_time": "2024-05-13T07:58:30.643536Z"
    }
   },
   "cell_type": "code",
   "source": [
    "def print_parent_formatted(parent, name):\n",
    "    formatted = ',\\n  '.join(f\"'{key}': {value}\" for key, value in parent.items())\n",
    "    print(f\"{name} = {{\\n  {formatted}\\n}}\")"
   ],
   "outputs": [],
   "execution_count": 184
  },
  {
   "metadata": {
    "ExecuteTime": {
     "end_time": "2024-05-13T08:54:25.801957Z",
     "start_time": "2024-05-13T08:54:25.783545Z"
    }
   },
   "cell_type": "code",
   "source": [
    "\n",
    "\n",
    "print_parent_formatted(parent_1, \"parent_1\")\n",
    "print_parent_formatted(parent_2, \"parent_2\")\n",
    "\n",
    "child1, child2 = crossover(parents = [parent_1, parent_2])\n",
    "\n",
    "print(child1)\n",
    "print(child2)\n",
    "print(sum(len(value) for value in child1.values()))\n",
    "print(sum(len(value) for value in child2.values()))\n"
   ],
   "outputs": [
    {
     "name": "stdout",
     "output_type": "stream",
     "text": [
      "parent_1 = {\n",
      "  'T1': [64, 68, 92, 49, 66],\n",
      "  'T2': [37, 91, 34, 76, 77, 90, 36],\n",
      "  'T3': [40, 31, 42, 82, 24, 35, 81],\n",
      "  'T4': [61, 41, 20, 56, 100]\n",
      "}\n",
      "parent_2 = {\n",
      "  'T1': [40, 61, 81, 35, 100, 77],\n",
      "  'T2': [82, 49],\n",
      "  'T3': [64, 76, 20, 92, 68],\n",
      "  'T4': [56, 41, 42, 66, 90, 24, 37, 34, 31, 91, 36]\n",
      "}\n",
      "{'T1': [64, 68, 35, 100, 77], 'T2': [37, 91, 34, 76, 49], 'T3': [40, 31, 42, 20, 92, 56], 'T4': [61, 41, 66, 81, 82, 90, 24, 36]}\n",
      "{'T1': [40, 61, 81, 92, 49, 66], 'T2': [82, 77, 90, 36], 'T3': [64, 76, 31, 24, 35, 91], 'T4': [56, 41, 42, 37, 68, 20, 34, 100]}\n",
      "24\n",
      "24\n"
     ]
    }
   ],
   "execution_count": 338
  },
  {
   "metadata": {
    "ExecuteTime": {
     "end_time": "2024-05-13T06:53:19.078044Z",
     "start_time": "2024-05-13T06:53:19.063458Z"
    }
   },
   "cell_type": "code",
   "source": [
    "test = {}\n",
    "test.update({1 : 0})\n",
    "test.update({2 : 0})\n",
    "print(test[1]) \n",
    "test[1] = 4\n",
    "test[1] = test[1] + 1\n",
    "print(test)"
   ],
   "outputs": [
    {
     "name": "stdout",
     "output_type": "stream",
     "text": [
      "0\n",
      "{1: 5, 2: 0}\n"
     ]
    }
   ],
   "execution_count": 19
  },
  {
   "metadata": {},
   "cell_type": "markdown",
   "source": "# Mutation"
  },
  {
   "metadata": {
    "ExecuteTime": {
     "end_time": "2024-05-13T09:12:55.123370Z",
     "start_time": "2024-05-13T09:12:55.105504Z"
    }
   },
   "cell_type": "code",
   "source": [
    "# This function chooses a random engine in the schema, and returns its index and the team it is in now\n",
    "def random_chooser(child):\n",
    "    total_length = 0\n",
    "    team_lengths = {}\n",
    "    for team in child:\n",
    "        length = len(child[team])\n",
    "        team_lengths[team] = length\n",
    "        total_length = total_length + length\n",
    "    \n",
    "    index = random.randrange(total_length)\n",
    "    for team in team_lengths:\n",
    "        if index - team_lengths[team] >= 0:\n",
    "            index = index - team_lengths[team]\n",
    "        else:\n",
    "            index_team = team\n",
    "            break\n",
    "            \n",
    "    return [index, index_team]"
   ],
   "outputs": [],
   "execution_count": 532
  },
  {
   "metadata": {
    "ExecuteTime": {
     "end_time": "2024-05-13T09:12:57.596838Z",
     "start_time": "2024-05-13T09:12:57.584530Z"
    }
   },
   "cell_type": "code",
   "source": [
    "# we kunnen swaps doen als mutaties\n",
    "def swap_mutation(child):\n",
    "    engine1  = random_chooser(child)\n",
    "    engine2 = random_chooser(child)\n",
    "    print(engine1)\n",
    "    print(engine2)\n",
    "    \n",
    "    new_child = copy.deepcopy(child)\n",
    "    \n",
    "    new_child[engine1[1]][engine1[0]] = child[engine2[1]][engine2[0]]\n",
    "    new_child[engine2[1]][engine2[0]] = child[engine1[1]][engine1[0]]\n",
    "    \n",
    "    return new_child"
   ],
   "outputs": [],
   "execution_count": 534
  },
  {
   "metadata": {
    "ExecuteTime": {
     "end_time": "2024-05-13T09:12:58.207142Z",
     "start_time": "2024-05-13T09:12:58.185744Z"
    }
   },
   "cell_type": "code",
   "source": [
    "print(child1)\n",
    "new_swap_child = swap_mutation(child1)\n",
    "print(new_swap_child)"
   ],
   "outputs": [
    {
     "name": "stdout",
     "output_type": "stream",
     "text": [
      "{'T1': [64, 68, 35, 100, 77], 'T2': [37, 91, 34, 76, 49], 'T3': [40, 31, 42, 20, 92, 56], 'T4': [61, 41, 66, 81, 82, 90, 24, 36]}\n",
      "[1, 'T3']\n",
      "[0, 'T1']\n",
      "{'T1': [31, 68, 35, 100, 77], 'T2': [37, 91, 34, 76, 49], 'T3': [40, 64, 42, 20, 92, 56], 'T4': [61, 41, 66, 81, 82, 90, 24, 36]}\n"
     ]
    }
   ],
   "execution_count": 535
  },
  {
   "metadata": {
    "ExecuteTime": {
     "end_time": "2024-05-13T09:12:58.626192Z",
     "start_time": "2024-05-13T09:12:58.599878Z"
    }
   },
   "cell_type": "code",
   "source": [
    "# alleen mis is het beter om additie te doen ipv swap, anders worden je teams nooit meer langer na eerste paar generaties, aangezien ik denk dat alles redleijk snel uit averaged, \n",
    "# en terwijl je dit soort variaties mis wel wil?\n",
    "\n",
    "def additive_mutation(child):\n",
    "    possible_teams = [\"T1\", \"T2\", \"T3\", \"T4\"]\n",
    "    to_remove = random_chooser(child)\n",
    "    child_copy = copy.deepcopy(child)\n",
    "    \n",
    "    engine = child_copy[to_remove[1]].pop(to_remove[0])\n",
    "    team_index = random.randrange(4)\n",
    "    team = possible_teams[team_index]\n",
    "    length_team = len(child_copy[team])\n",
    "    index = random.randrange(length_team)\n",
    "    \n",
    "    child_copy[team].insert(index, engine)\n",
    "    return child_copy\n"
   ],
   "outputs": [],
   "execution_count": 536
  },
  {
   "metadata": {
    "ExecuteTime": {
     "end_time": "2024-05-13T09:12:59.777862Z",
     "start_time": "2024-05-13T09:12:59.765743Z"
    }
   },
   "cell_type": "code",
   "source": [
    "print(child1)\n",
    "new_additive_child = additive_mutation(child1)\n",
    "print(new_additive_child)"
   ],
   "outputs": [
    {
     "name": "stdout",
     "output_type": "stream",
     "text": [
      "{'T1': [64, 68, 35, 100, 77], 'T2': [37, 91, 34, 76, 49], 'T3': [40, 31, 42, 20, 92, 56], 'T4': [61, 41, 66, 81, 82, 90, 24, 36]}\n",
      "{'T1': [64, 68, 35, 100, 77], 'T2': [37, 91, 34, 76, 49], 'T3': [40, 31, 42, 20, 92, 56], 'T4': [61, 41, 66, 24, 81, 82, 90, 36]}\n"
     ]
    }
   ],
   "execution_count": 537
  },
  {
   "metadata": {},
   "cell_type": "code",
   "outputs": [],
   "execution_count": null,
   "source": ""
  }
 ],
 "metadata": {
  "kernelspec": {
   "display_name": ".venv",
   "language": "python",
   "name": "python3"
  },
  "language_info": {
   "codemirror_mode": {
    "name": "ipython",
    "version": 3
   },
   "file_extension": ".py",
   "mimetype": "text/x-python",
   "name": "python",
   "nbconvert_exporter": "python",
   "pygments_lexer": "ipython3",
   "version": "3.9.5"
  }
 },
 "nbformat": 4,
 "nbformat_minor": 2
}
