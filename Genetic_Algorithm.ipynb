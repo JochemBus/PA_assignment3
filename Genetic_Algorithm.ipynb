{
 "cells": [
  {
   "cell_type": "code",
   "execution_count": 2,
   "metadata": {
    "ExecuteTime": {
     "end_time": "2024-05-13T07:14:24.418504Z",
     "start_time": "2024-05-13T07:14:24.401356Z"
    }
   },
   "outputs": [],
   "source": [
    "import pandas as pd\n",
    "import numpy as np\n",
    "import pygad\n",
    "import random\n",
    "import copy"
   ]
  },
  {
   "cell_type": "code",
   "execution_count": 3,
   "metadata": {
    "ExecuteTime": {
     "end_time": "2024-05-13T07:14:24.835582Z",
     "start_time": "2024-05-13T07:14:24.825139Z"
    }
   },
   "outputs": [],
   "source": [
    "import csv\n",
    "\n",
    "# Initialize an empty dictionary\n",
    "enginge_RUL = {}\n",
    "\n",
    "with open('RUL_consultancy_predictions_A3-2.csv', newline='') as csvfile:\n",
    "    # Create a CSV reader object with semicolon as delimiter\n",
    "    reader = csv.reader(csvfile, delimiter=';')\n",
    "    # Skip the header row\n",
    "    next(reader)\n",
    "    # Loop over each row in the CSV\n",
    "    for row in reader:\n",
    "        # Check if row has exactly 2 columns\n",
    "        if len(row) == 2:\n",
    "            enginge_RUL[int(row[1])] = int(row[0])"
   ]
  },
  {
   "cell_type": "code",
   "execution_count": 4,
   "metadata": {
    "ExecuteTime": {
     "end_time": "2024-05-13T07:14:25.355500Z",
     "start_time": "2024-05-13T07:14:25.338528Z"
    }
   },
   "outputs": [],
   "source": [
    "engine_RUL_30 = {key: value for key, value in enginge_RUL.items() if value <= 30}"
   ]
  },
  {
   "cell_type": "code",
   "execution_count": 5,
   "metadata": {
    "ExecuteTime": {
     "end_time": "2024-05-13T07:14:25.852788Z",
     "start_time": "2024-05-13T07:14:25.838124Z"
    }
   },
   "outputs": [],
   "source": [
    "Team_A_time = {key: 4 for key in range(1, 21)}\n",
    "Team_A_time.update({key: 3 for key in range(21, 56)})\n",
    "Team_A_time.update({key: 2 for key in range(56, 81)})\n",
    "Team_A_time.update({key: 8 for key in range(81, 101)})\n",
    "\n",
    "Team_B_time = {j : Team_A_time[j] + 1 for j in range(1, 26)}\n",
    "Team_B_time.update({j : Team_A_time[j] + 2 for j in range(26, 71)})\n",
    "Team_B_time.update({j : Team_A_time[j] + 1 for j in range(71, 101)})"
   ]
  },
  {
   "cell_type": "code",
   "execution_count": 6,
   "metadata": {
    "ExecuteTime": {
     "end_time": "2024-05-13T07:14:26.351620Z",
     "start_time": "2024-05-13T07:14:26.336705Z"
    }
   },
   "outputs": [],
   "source": [
    "T1_time = Team_A_time\n",
    "T2_time = Team_B_time\n",
    "T3_time = Team_A_time\n",
    "T4_time = Team_B_time"
   ]
  },
  {
   "cell_type": "markdown",
   "metadata": {},
   "source": [
    "# Random Initializer"
   ]
  },
  {
   "cell_type": "code",
   "execution_count": 7,
   "metadata": {
    "ExecuteTime": {
     "end_time": "2024-05-13T07:14:27.307601Z",
     "start_time": "2024-05-13T07:14:27.297221Z"
    }
   },
   "outputs": [],
   "source": [
    "def calculate_team_work_time(team, engines):\n",
    "    if team in [\"T1\", \"T3\"]:\n",
    "        engine_times = Team_A_time\n",
    "    else:\n",
    "        engine_times = Team_B_time\n",
    "    \n",
    "    time = 0\n",
    "    \n",
    "    for engine in engines:\n",
    "        time += engine_times[engine]\n",
    "    \n",
    "    return time\n",
    "    \n",
    "\n",
    "def random_init(engines_RUL):\n",
    "    schedule = {\"T1\":[], \"T2\":[], \"T3\":[], \"T4\":[]}\n",
    "    \n",
    "    possible_engines = list(engines_RUL.keys())\n",
    "    possible_teams = [\"T1\", \"T2\", \"T3\", \"T4\"]\n",
    "    \n",
    "    iterations = 0 \n",
    "    \n",
    "    while possible_engines and iterations < 500:\n",
    "        index = random.randrange(4)\n",
    "        team = possible_teams[index]\n",
    "        \n",
    "        index = random.randrange(len(possible_engines))\n",
    "        selected_engine = possible_engines[index]\n",
    "        \n",
    "        schedule[team].append(selected_engine)\n",
    "        \n",
    "        possible_engines.remove(selected_engine)\n",
    "        \n",
    "        iterations += 1\n",
    "\n",
    "    return schedule"
   ]
  },
  {
   "cell_type": "code",
   "execution_count": 8,
   "metadata": {
    "ExecuteTime": {
     "end_time": "2024-05-13T07:14:27.619476Z",
     "start_time": "2024-05-13T07:14:27.597910Z"
    }
   },
   "outputs": [
    {
     "data": {
      "text/plain": [
       "{'T1': [61, 90, 40, 56, 91],\n",
       " 'T2': [41, 76, 36, 20, 82, 77, 81],\n",
       " 'T3': [31, 66, 42],\n",
       " 'T4': [92, 34, 24, 35, 64, 37, 100, 49, 68]}"
      ]
     },
     "execution_count": 8,
     "metadata": {},
     "output_type": "execute_result"
    }
   ],
   "source": [
    "random_init(engine_RUL_30)"
   ]
  },
  {
   "cell_type": "markdown",
   "metadata": {},
   "source": [
    "# Loss Function"
   ]
  },
  {
   "cell_type": "code",
   "execution_count": 9,
   "metadata": {
    "ExecuteTime": {
     "end_time": "2024-05-13T07:14:28.432077Z",
     "start_time": "2024-05-13T07:14:28.420452Z"
    }
   },
   "outputs": [
    {
     "name": "stdout",
     "output_type": "stream",
     "text": [
      "{'T1': [90, 68, 91, 36], 'T2': [40, 100, 66, 82, 42, 81], 'T3': [34, 77, 76, 64, 24, 92, 49, 37], 'T4': [41, 35, 56, 31, 61, 20]}\n",
      "{90: 0, 68: 8, 91: 10, 36: 18, 40: 0, 100: 5, 66: 14, 82: 18, 42: 27, 81: 32, 34: 0, 77: 3, 76: 5, 64: 7, 24: 9, 92: 12, 49: 20, 37: 23, 41: 0, 35: 5, 56: 10, 31: 14, 61: 19, 20: 23}\n",
      "{20: 10, 24: 26, 31: 14, 34: 8, 35: 8, 36: 24, 37: 21, 40: 29, 41: 23, 42: 13, 49: 14, 56: 18, 61: 23, 64: 24, 66: 18, 68: 13, 76: 3, 77: 27, 81: 6, 82: 11, 90: 28, 91: 29, 92: 24, 100: 24}\n",
      "9446\n"
     ]
    }
   ],
   "source": [
    "def engine_fix_date(schedule):\n",
    "    engine_fix = {}\n",
    "    for team in schedule:\n",
    "        days = 0\n",
    "        if team == \"T1\" or team == \"T3\":\n",
    "            time_table = Team_A_time\n",
    "        else:\n",
    "            time_table = Team_B_time\n",
    "            \n",
    "        for engine in schedule[team]:\n",
    "            engine_fix[engine] = days\n",
    "            days = days + time_table[engine]\n",
    "              \n",
    "    return engine_fix\n",
    "\n",
    "\n",
    "initial_schedule = random_init(engine_RUL_30)\n",
    "print(initial_schedule)\n",
    "\n",
    "engine_cost = {key: 4 for key in range(1, 21)}\n",
    "engine_cost.update({key: 3 for key in range(21, 31)})\n",
    "engine_cost.update({key: 2 for key in range(31, 46)})\n",
    "engine_cost.update({key: 5 for key in range(46, 81)})\n",
    "engine_cost.update({key: 6 for key in range(81, 100)})\n",
    "\n",
    "\n",
    "def loss_function(schedule, engine_RUL, engine_cost):\n",
    "    loss = 0\n",
    "    fix_dates = engine_fix_date(schedule)\n",
    "    print(fix_dates)\n",
    "    print(engine_RUL)\n",
    "    for team in schedule:\n",
    "        for engine in schedule[team]:\n",
    "\n",
    "            days_late = fix_dates[engine] - engine_RUL[engine]\n",
    "            engine_loss = 0\n",
    "            if days_late > 0:\n",
    "                cost = engine_cost[engine]\n",
    "    \n",
    "                for i in range(days_late):\n",
    "                    day_loss = cost * (i ** 2)\n",
    "                    if day_loss > 250:\n",
    "                        day_loss = 250\n",
    "                    engine_loss += day_loss\n",
    "            loss += engine_loss\n",
    "        \n",
    "    return loss  \n",
    "\n",
    "loss_schedule = loss_function(initial_schedule, engine_RUL_30, engine_cost)\n",
    "print(loss_schedule)"
   ]
  },
  {
   "cell_type": "markdown",
   "metadata": {},
   "source": [
    "# Termination Criterion"
   ]
  },
  {
   "cell_type": "code",
   "execution_count": 10,
   "metadata": {
    "ExecuteTime": {
     "end_time": "2024-05-13T07:14:29.429273Z",
     "start_time": "2024-05-13T07:14:29.425105Z"
    }
   },
   "outputs": [],
   "source": [
    "# TO DO LATER"
   ]
  },
  {
   "cell_type": "markdown",
   "metadata": {},
   "source": [
    "# Selection of parents"
   ]
  },
  {
   "cell_type": "code",
   "execution_count": 11,
   "metadata": {
    "ExecuteTime": {
     "end_time": "2024-05-13T07:14:30.313183Z",
     "start_time": "2024-05-13T07:14:30.309305Z"
    }
   },
   "outputs": [],
   "source": [
    "# TO DO SELECT ONE DROM PYGAD UTILS\n",
    "# https://pygad.readthedocs.io/en/latest/pygad.html#parent-selection-methods"
   ]
  },
  {
   "cell_type": "markdown",
   "metadata": {},
   "source": [
    "# Crossover"
   ]
  },
  {
   "cell_type": "code",
   "execution_count": 12,
   "metadata": {
    "ExecuteTime": {
     "end_time": "2024-05-13T07:58:28.957240Z",
     "start_time": "2024-05-13T07:58:28.945849Z"
    }
   },
   "outputs": [],
   "source": [
    "parent_1 = random_init(engine_RUL_30)\n",
    "parent_2 = random_init(engine_RUL_30)"
   ]
  },
  {
   "cell_type": "code",
   "execution_count": 13,
   "metadata": {
    "ExecuteTime": {
     "end_time": "2024-05-13T07:58:29.503781Z",
     "start_time": "2024-05-13T07:58:29.485501Z"
    }
   },
   "outputs": [],
   "source": [
    "# maybe TO DO: ONLY DELETE THE ORIGINAL DUPLICATES, NOT THE SWAPPED DUPLICATES\n",
    "\n",
    "def double_fixer(child, parent):\n",
    "    doubles = []\n",
    "    skipped_ones = []\n",
    "    numbers = {}\n",
    "    \n",
    "    for team in parent:\n",
    "        for engine in parent[team]:\n",
    "            numbers[engine] = [0]\n",
    "    \n",
    "    for team in child:\n",
    "        index = -1\n",
    "        for engine in child[team]:\n",
    "            index = index + 1\n",
    "            numbers[engine][0] = numbers[engine][0] + 1\n",
    "            numbers[engine].append(team)\n",
    "            numbers[engine].append(index)\n",
    "                \n",
    "    for key in numbers:\n",
    "        if numbers[key][0] == 0:\n",
    "            skipped_ones.append(key)\n",
    "        elif numbers[key][0] > 1:\n",
    "            doubles.append(key)\n",
    "    \n",
    "    for fault in doubles:\n",
    "        team = numbers[fault][-2]\n",
    "        index = numbers[fault][-1]        \n",
    "        next_missed_one = skipped_ones.pop()\n",
    "        child[team][index] = next_missed_one\n",
    "        \n",
    "    return child\n",
    "\n",
    "def find_center(parent, team, middle_down_round):\n",
    "    if len(parent[team]) % 2 == 0:\n",
    "            middle_index = len(parent[team]) // 2\n",
    "            next_middle_down_round = middle_down_round\n",
    "    else:\n",
    "        if middle_down_round:\n",
    "            middle_index = len(parent[team]) // 2             \n",
    "            next_middle_down_round = False\n",
    "        else: \n",
    "            middle_index = (len(parent[team]) // 2) + 1\n",
    "            next_middle_down_round = True\n",
    "    \n",
    "    return middle_index, next_middle_down_round\n"
   ]
  },
  {
   "cell_type": "code",
   "execution_count": 14,
   "metadata": {
    "ExecuteTime": {
     "end_time": "2024-05-13T07:58:30.045366Z",
     "start_time": "2024-05-13T07:58:30.032326Z"
    }
   },
   "outputs": [],
   "source": [
    "def crossover(parent_1, parent_2):\n",
    "    #parent_1 = parents[0]\n",
    "    #parent_2 = parents[1]\n",
    "    \n",
    "    child1 = {key: [] for key in parent_1}\n",
    "    child2 = {key: [] for key in parent_2} \n",
    "    cross_side = random.choice([\"Left\", \"Right\"]) # Right means you keep the right side of p1 and switch the right side of p2\n",
    "       \n",
    "    p1_middle_down_round = True\n",
    "    p2_middle_down_round = True\n",
    "    \n",
    "    for team in parent_1:\n",
    "        \n",
    "        p1_middle, p1_middle_down_round = find_center(parent_1, team, p1_middle_down_round)\n",
    "        p2_middle, p2_middle_down_round = find_center(parent_2, team, p2_middle_down_round)\n",
    "\n",
    "        \n",
    "        if cross_side == \"Left\":\n",
    "            sub_schedule_p1 = parent_1[team][:p1_middle]\n",
    "            sub_schedule_p2 = parent_2[team][:p2_middle]\n",
    "            \n",
    "            child1[team].extend(sub_schedule_p2)\n",
    "            child1[team].extend(parent_1[team][p1_middle:])\n",
    "            \n",
    "            child2[team].extend(sub_schedule_p1)\n",
    "            child2[team].extend(parent_2[team][p2_middle:])\n",
    "        \n",
    "        if cross_side == \"Right\":\n",
    "            sub_schedule_p1 = parent_1[team][p1_middle:]\n",
    "            sub_schedule_p2 = parent_2[team][p2_middle:]\n",
    "            \n",
    "            child1[team].extend(parent_1[team][:p1_middle])\n",
    "            child1[team].extend(sub_schedule_p2)\n",
    "            \n",
    "            child2[team].extend(parent_2[team][:p2_middle])\n",
    "            child2[team].extend(sub_schedule_p1)\n",
    "    \n",
    "    \n",
    "    child1 = double_fixer(child1, parent_1)\n",
    "    child2 = double_fixer(child2, parent_2)\n",
    "    \n",
    "    return child1, child2\n"
   ]
  },
  {
   "cell_type": "code",
   "execution_count": 15,
   "metadata": {
    "ExecuteTime": {
     "end_time": "2024-05-13T07:58:30.660452Z",
     "start_time": "2024-05-13T07:58:30.643536Z"
    }
   },
   "outputs": [],
   "source": [
    "def print_parent_formatted(parent, name):\n",
    "    formatted = ',\\n  '.join(f\"'{key}': {value}\" for key, value in parent.items())\n",
    "    print(f\"{name} = {{\\n  {formatted}\\n}}\")"
   ]
  },
  {
   "cell_type": "code",
   "execution_count": 16,
   "metadata": {
    "ExecuteTime": {
     "end_time": "2024-05-13T08:54:25.801957Z",
     "start_time": "2024-05-13T08:54:25.783545Z"
    }
   },
   "outputs": [
    {
     "name": "stdout",
     "output_type": "stream",
     "text": [
      "parent_1 = {\n",
      "  'T1': [42, 49, 24, 36, 34, 61, 91, 92, 81],\n",
      "  'T2': [66, 77, 37],\n",
      "  'T3': [41, 64, 100, 68, 56],\n",
      "  'T4': [90, 20, 76, 82, 31, 40, 35]\n",
      "}\n",
      "parent_2 = {\n",
      "  'T1': [35, 40, 66, 56, 76],\n",
      "  'T2': [91, 36, 42, 64, 41, 49, 81, 100],\n",
      "  'T3': [37, 92, 68, 31],\n",
      "  'T4': [34, 20, 61, 90, 82, 24, 77]\n",
      "}\n",
      "child1:  = {\n",
      "  'T1': [35, 40, 34, 61, 91, 92, 81],\n",
      "  'T2': [41, 36, 42, 64, 37],\n",
      "  'T3': [66, 77, 100, 68, 56],\n",
      "  'T4': [82, 20, 76, 90, 31, 24, 49]\n",
      "}\n",
      "child2:  = {\n",
      "  'T1': [42, 49, 24, 36, 66, 56, 76],\n",
      "  'T2': [61, 77, 41, 37, 81, 100],\n",
      "  'T3': [92, 64, 68, 31],\n",
      "  'T4': [90, 20, 34, 82, 91, 40, 35]\n",
      "}\n",
      "24\n",
      "24\n"
     ]
    }
   ],
   "source": [
    "\n",
    "\n",
    "print_parent_formatted(parent_1, \"parent_1\")\n",
    "print_parent_formatted(parent_2, \"parent_2\")\n",
    "\n",
    "child1, child2 = crossover(parent_1, parent_2)\n",
    "\n",
    "print_parent_formatted(child1, \"child1: \")\n",
    "print_parent_formatted(child2, \"child2: \")\n",
    "print(sum(len(value) for value in child1.values()))\n",
    "print(sum(len(value) for value in child2.values()))\n"
   ]
  },
  {
   "cell_type": "code",
   "execution_count": 17,
   "metadata": {
    "ExecuteTime": {
     "end_time": "2024-05-13T06:53:19.078044Z",
     "start_time": "2024-05-13T06:53:19.063458Z"
    }
   },
   "outputs": [
    {
     "name": "stdout",
     "output_type": "stream",
     "text": [
      "0\n",
      "{1: 5, 2: 0}\n"
     ]
    }
   ],
   "source": [
    "test = {}\n",
    "test.update({1 : 0})\n",
    "test.update({2 : 0})\n",
    "print(test[1]) \n",
    "test[1] = 4\n",
    "test[1] = test[1] + 1\n",
    "print(test)"
   ]
  },
  {
   "cell_type": "markdown",
   "metadata": {},
   "source": [
    "# Mutation"
   ]
  },
  {
   "cell_type": "code",
   "execution_count": 18,
   "metadata": {
    "ExecuteTime": {
     "end_time": "2024-05-13T09:12:55.123370Z",
     "start_time": "2024-05-13T09:12:55.105504Z"
    }
   },
   "outputs": [],
   "source": [
    "# This function chooses a random engine in the schema, and returns its index and the team it is in now\n",
    "def random_chooser(child):\n",
    "    total_length = 0\n",
    "    team_lengths = {}\n",
    "    for team in child:\n",
    "        length = len(child[team])\n",
    "        team_lengths[team] = length\n",
    "        total_length = total_length + length\n",
    "    \n",
    "    index = random.randrange(total_length)\n",
    "    for team in team_lengths:\n",
    "        if index - team_lengths[team] >= 0:\n",
    "            index = index - team_lengths[team]\n",
    "        else:\n",
    "            index_team = team\n",
    "            break\n",
    "            \n",
    "    return [index, index_team]"
   ]
  },
  {
   "cell_type": "code",
   "execution_count": 19,
   "metadata": {
    "ExecuteTime": {
     "end_time": "2024-05-13T09:12:57.596838Z",
     "start_time": "2024-05-13T09:12:57.584530Z"
    }
   },
   "outputs": [],
   "source": [
    "# we kunnen swaps doen als mutaties\n",
    "def swap_mutation(child):\n",
    "    engine1  = random_chooser(child)\n",
    "    engine2 = random_chooser(child)\n",
    "    print(engine1)\n",
    "    print(engine2)\n",
    "    \n",
    "    new_child = copy.deepcopy(child)\n",
    "    \n",
    "    new_child[engine1[1]][engine1[0]] = child[engine2[1]][engine2[0]]\n",
    "    new_child[engine2[1]][engine2[0]] = child[engine1[1]][engine1[0]]\n",
    "    \n",
    "    return new_child"
   ]
  },
  {
   "cell_type": "code",
   "execution_count": 20,
   "metadata": {
    "ExecuteTime": {
     "end_time": "2024-05-13T09:12:58.207142Z",
     "start_time": "2024-05-13T09:12:58.185744Z"
    }
   },
   "outputs": [
    {
     "name": "stdout",
     "output_type": "stream",
     "text": [
      "{'T1': [35, 40, 34, 61, 91, 92, 81], 'T2': [41, 36, 42, 64, 37], 'T3': [66, 77, 100, 68, 56], 'T4': [82, 20, 76, 90, 31, 24, 49]}\n",
      "[3, 'T3']\n",
      "[4, 'T2']\n",
      "{'T1': [35, 40, 34, 61, 91, 92, 81], 'T2': [41, 36, 42, 64, 68], 'T3': [66, 77, 100, 37, 56], 'T4': [82, 20, 76, 90, 31, 24, 49]}\n"
     ]
    }
   ],
   "source": [
    "print(child1)\n",
    "new_swap_child = swap_mutation(child1)\n",
    "print(new_swap_child)"
   ]
  },
  {
   "cell_type": "code",
   "execution_count": 21,
   "metadata": {
    "ExecuteTime": {
     "end_time": "2024-05-13T09:12:58.626192Z",
     "start_time": "2024-05-13T09:12:58.599878Z"
    }
   },
   "outputs": [],
   "source": [
    "# alleen mis is het beter om additie te doen ipv swap, anders worden je teams nooit meer langer na eerste paar generaties, aangezien ik denk dat alles redleijk snel uit averaged, \n",
    "# en terwijl je dit soort variaties mis wel wil?\n",
    "\n",
    "def additive_mutation(child):\n",
    "    possible_teams = [\"T1\", \"T2\", \"T3\", \"T4\"]\n",
    "    to_remove = random_chooser(child)\n",
    "    child_copy = copy.deepcopy(child)\n",
    "    \n",
    "    engine = child_copy[to_remove[1]].pop(to_remove[0])\n",
    "    team_index = random.randrange(4)\n",
    "    team = possible_teams[team_index]\n",
    "    length_team = len(child_copy[team])\n",
    "    index = random.randrange(length_team)\n",
    "    \n",
    "    child_copy[team].insert(index, engine)\n",
    "    return child_copy\n"
   ]
  },
  {
   "cell_type": "code",
   "execution_count": 22,
   "metadata": {
    "ExecuteTime": {
     "end_time": "2024-05-13T09:12:59.777862Z",
     "start_time": "2024-05-13T09:12:59.765743Z"
    }
   },
   "outputs": [
    {
     "name": "stdout",
     "output_type": "stream",
     "text": [
      "{'T1': [35, 40, 34, 61, 91, 92, 81], 'T2': [41, 36, 42, 64, 37], 'T3': [66, 77, 100, 68, 56], 'T4': [82, 20, 76, 90, 31, 24, 49]}\n",
      "{'T1': [35, 40, 34, 61, 91, 92, 81], 'T2': [41, 36, 42, 37], 'T3': [66, 77, 100, 68, 56], 'T4': [82, 20, 76, 64, 90, 31, 24, 49]}\n"
     ]
    }
   ],
   "source": [
    "print(child1)\n",
    "new_additive_child = additive_mutation(child1)\n",
    "print(new_additive_child)"
   ]
  },
  {
   "cell_type": "code",
   "execution_count": null,
   "metadata": {},
   "outputs": [],
   "source": []
  },
  {
   "cell_type": "markdown",
   "metadata": {},
   "source": [
    "# Genetic Algorithm"
   ]
  },
  {
   "cell_type": "code",
   "execution_count": 23,
   "metadata": {},
   "outputs": [],
   "source": [
    "def selection_func(population):\n",
    "    selected_parents = random.choices(population, k=len(population))\n",
    "    return selected_parents\n",
    "\n",
    "def crossover_func(parents, crossover_probability):\n",
    "    offspring = []\n",
    "    for index in range(0, len(parents), 2):\n",
    "        # Check if index + 1 is possible, for uneven numer of population\n",
    "        if index + 1 < len(parents):\n",
    "            if random.random() < crossover_probability:\n",
    "                child1, child2 = crossover(parents[index], parents[index+1])\n",
    "            else:\n",
    "                child1, child2 = parents[index], parents[index+1]\n",
    "            offspring.append(child1)\n",
    "            offspring.append(child2)\n",
    "        else:\n",
    "            offspring.append(random.choice(parents))\n",
    "            \n",
    "    return offspring\n",
    "            \n",
    "def mutation_func(offspring, mutation_probability):\n",
    "    new_offspring = []\n",
    "    for child in offspring:\n",
    "        if random.random() < mutation_probability:\n",
    "            new_child = additive_mutation(child)\n",
    "        else:\n",
    "            new_child = child\n",
    "        new_offspring.append(new_child)\n",
    "    return new_offspring\n",
    "\n",
    "\"\"\" \n",
    "def get_best_parernt(parents, engines_RUL, num_best_parents):\n",
    "    parents_fitness = {}\n",
    "    for parent in parents:\n",
    "        parent_loss = loss_function(parent, engines_RUL, engine_cost)\n",
    "        parents_fitness[parent] = parent_loss\n",
    "        \n",
    "\n",
    "def get_elite(parents, num_elites):\n",
    "    pass\n",
    "\"\"\"\n",
    "\n",
    "def GA_run(num_generations, initial_population, crossover_prob, mutation_prob):\n",
    "    population = initial_population\n",
    "    \n",
    "    current_iteration = 1\n",
    "    while current_iteration <= num_generations:\n",
    "        print(current_iteration)\n",
    "        selected_parents = selection_func(population)\n",
    "        offspring = crossover_func(selected_parents, crossover_prob)\n",
    "        mutated_offspring = mutation_func(offspring, mutation_prob)\n",
    "        \n",
    "        population = mutated_offspring\n",
    "        print(population[0])\n",
    "        current_iteration += 1\n",
    "    \n",
    "    \n",
    "    "
   ]
  },
  {
   "cell_type": "code",
   "execution_count": null,
   "metadata": {},
   "outputs": [],
   "source": [
    "num_generations = 10\n",
    "crossover_prob = 0.9\n",
    "mutation_prob = 0.05\n",
    "\n",
    "initial_population = [random_init(engine_RUL_30) for _ in range(50)]\n",
    "\n",
    "GA_run(num_generations, initial_population, crossover_prob,  mutation_prob)"
   ]
  },
  {
   "cell_type": "code",
   "execution_count": null,
   "metadata": {},
   "outputs": [],
   "source": []
  },
  {
   "cell_type": "markdown",
   "metadata": {},
   "source": [
    "# PyGad Genetic Algorithm"
   ]
  },
  {
   "cell_type": "code",
   "execution_count": 24,
   "metadata": {},
   "outputs": [],
   "source": [
    "num_generations = 10\n",
    "num_parents_mating = 2\n",
    "\n",
    "def machine_fitness_func(ga_instance, solution, solution_idx):\n",
    "    output = loss_function(solution, engine_RUL_30, engine_cost)\n",
    "    fitness = 1.0 / output\n",
    "    return fitness\n",
    "\n",
    "fitness_func = machine_fitness_func\n",
    "\n",
    "initial_population = [random_init(engine_RUL_30) for _ in range(50)]\n",
    "\n",
    "parent_selection_type = \"rws\"\n",
    "\n",
    "keep_parents = -1\n",
    "keep_elitism = 1\n",
    "\n",
    "def crossover_func(parents, offspring_size, ga_instance):\n",
    "    child1, child2 = crossover(parents = parents)\n",
    "    offspring = [child1, child2]\n",
    "    return offspring\n",
    "\n",
    "crossover_type = crossover_func # A custom crossover function can be passed starting from PyGAD 2.16.0. https://pygad.readthedocs.io/en/latest/pygad_more.html#user-defined-crossover-mutation-and-parent-selection-operators\n",
    "crossover_probability = 0.8\n",
    "\n",
    "def mutation_func(offspring, ga_instance):\n",
    "    offspring = additive_mutation(child)\n",
    "    \n",
    "mutation_type = additive_mutation # A custom mutation function can be passed starting from PyGAD 2.16.0. https://pygad.readthedocs.io/en/latest/pygad_more.html#user-defined-crossover-mutation-and-parent-selection-operators\n",
    "mutation_probability = 0.05\n",
    "\n",
    "save_best_solutions=True\n"
   ]
  },
  {
   "cell_type": "code",
   "execution_count": 25,
   "metadata": {},
   "outputs": [
    {
     "name": "stderr",
     "output_type": "stream",
     "text": [
      "c:\\Users\\busjo\\Documents\\JADS\\Semester 2\\Prescriptive Algorithms\\Assignment 3\\PA_assignment3\\.venv\\lib\\site-packages\\pygad\\pygad.py:728: UserWarning: The percentage of genes to mutate (mutation_percent_genes=10) resulted in selecting (0) genes. The number of genes to mutate is set to 1 (mutation_num_genes=1).\n",
      "If you do not want to mutate any gene, please set mutation_type=None.\n",
      "  warnings.warn(\n",
      "c:\\Users\\busjo\\Documents\\JADS\\Semester 2\\Prescriptive Algorithms\\Assignment 3\\PA_assignment3\\.venv\\lib\\site-packages\\pygad\\pygad.py:1139: UserWarning: The 'delay_after_gen' parameter is deprecated starting from PyGAD 3.3.0. To delay or pause the evolution after each generation, assign a callback function/method to the 'on_generation' parameter to adds some time delay.\n",
      "  warnings.warn(\"The 'delay_after_gen' parameter is deprecated starting from PyGAD 3.3.0. To delay or pause the evolution after each generation, assign a callback function/method to the 'on_generation' parameter to adds some time delay.\")\n",
      "No artists with labels found to put in legend.  Note that artists whose label start with an underscore are ignored when legend() is called with no argument.\n"
     ]
    },
    {
     "data": {
      "image/png": "[encoded data removed]",
      "text/plain": [
       "<Figure size 640x480 with 1 Axes>"
      ]
     },
     "metadata": {},
     "output_type": "display_data"
    },
    {
     "data": {
      "image/png": "[encoded data removed]",
      "text/plain": [
       "<Figure size 640x480 with 1 Axes>"
      ]
     },
     "execution_count": 25,
     "metadata": {},
     "output_type": "execute_result"
    }
   ],
   "source": [
    "import pygad\n",
    "import numpy\n",
    "\n",
    "equation_inputs = [4,-2,3.5]\n",
    "desired_output = 44\n",
    "\n",
    "def fitness_func(ga_instance, solution, solution_idx):\n",
    "    output = numpy.sum(solution * equation_inputs)\n",
    "    fitness = 1.0 / (numpy.abs(output - desired_output) + 0.000001)\n",
    "    return fitness\n",
    "\n",
    "ga_instance = pygad.GA(num_generations=10,\n",
    "                       sol_per_pop=5,\n",
    "                       num_parents_mating=2,\n",
    "                       num_genes=len(equation_inputs),\n",
    "                       fitness_func=fitness_func)\n",
    "\n",
    "ga_instance.run()\n",
    "ga_instance.plot_fitness()"
   ]
  },
  {
   "cell_type": "markdown",
   "metadata": {},
   "source": [
    "num_generations = 50\n",
    "num_parents_mating = 2\n",
    "\n",
    "fitness_function = fitness_func\n",
    "\n",
    "sol_per_pop = 8\n",
    "num_genes = len(function_inputs)\n",
    "\n",
    "init_range_low = -2\n",
    "init_range_high = 5\n",
    "\n",
    "parent_selection_type = \"sss\"\n",
    "keep_parents = 2\n",
    "\n",
    "crossover_type = \"single_point\"\n",
    "\n",
    "mutation_type = \"random\"\n",
    "mutation_percent_genes = 10"
   ]
  }
 ],
 "metadata": {
  "kernelspec": {
   "display_name": ".venv",
   "language": "python",
   "name": "python3"
  },
  "language_info": {
   "codemirror_mode": {
    "name": "ipython",
    "version": 3
   },
   "file_extension": ".py",
   "mimetype": "text/x-python",
   "name": "python",
   "nbconvert_exporter": "python",
   "pygments_lexer": "ipython3",
   "version": "3.9.5"
  }
 },
 "nbformat": 4,
 "nbformat_minor": 2
}
