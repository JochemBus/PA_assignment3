{
 "cells": [
  {
   "cell_type": "code",
   "metadata": {
    "ExecuteTime": {
     "end_time": "2024-05-22T13:06:30.602788Z",
     "start_time": "2024-05-22T13:06:29.881467Z"
    }
   },
   "source": [
    "import pandas as pd\n",
    "import numpy as np\n",
    "import random\n",
    "import copy\n",
    "import time as t\n",
    "import csv\n",
    "\n",
    "random.seed(42)\n"
   ],
   "outputs": [],
   "execution_count": 1
  },
  {
   "cell_type": "code",
   "metadata": {
    "ExecuteTime": {
     "end_time": "2024-05-22T13:06:30.609056Z",
     "start_time": "2024-05-22T13:06:30.602788Z"
    }
   },
   "source": [
    "engine_RUL_full_consultancy = {}\n",
    "\n",
    "with open('RUL_consultancy_predictions_A3-2.csv', newline='') as csvfile:\n",
    "    # Create a CSV reader object with semicolon as delimiter\n",
    "    reader = csv.reader(csvfile, delimiter=';')\n",
    "    # Skip the header row\n",
    "    next(reader)\n",
    "    # Loop over each row in the CSV\n",
    "    for row in reader:\n",
    "        # Check if row has exactly 2 columns\n",
    "        if len(row) == 2:\n",
    "            engine_RUL_full_consultancy[int(row[1])] = int(row[0])"
   ],
   "outputs": [],
   "execution_count": 2
  },
  {
   "cell_type": "code",
   "metadata": {
    "ExecuteTime": {
     "end_time": "2024-05-22T13:06:30.618769Z",
     "start_time": "2024-05-22T13:06:30.609056Z"
    }
   },
   "source": [
    "engine_RUL_own_predictions = {}\n",
    "\n",
    "with open('RUL_own_predictions_A3.csv', newline='') as csvfile:\n",
    "    # Create a CSV reader object with semicolon as delimiter\n",
    "    reader = csv.reader(csvfile, delimiter=';')\n",
    "    # Skip the header row\n",
    "    next(reader)\n",
    "    # Loop over each row in the CSV\n",
    "    for row in reader:\n",
    "        # Check if row has exactly 2 columns\n",
    "        if len(row) == 2:\n",
    "            engine_RUL_own_predictions[int(row[1])] = int(row[0])\n"
   ],
   "outputs": [],
   "execution_count": 3
  },
  {
   "cell_type": "code",
   "metadata": {
    "ExecuteTime": {
     "end_time": "2024-05-22T13:06:30.628424Z",
     "start_time": "2024-05-22T13:06:30.618769Z"
    }
   },
   "source": [
    "engine_RUL_30 = {key: value for key, value in engine_RUL_own_predictions.items() if value <= 30}\n",
    "print(len(engine_RUL_30))"
   ],
   "outputs": [
    {
     "name": "stdout",
     "output_type": "stream",
     "text": [
      "20\n"
     ]
    }
   ],
   "execution_count": 4
  },
  {
   "cell_type": "code",
   "metadata": {
    "ExecuteTime": {
     "end_time": "2024-05-22T13:06:30.637620Z",
     "start_time": "2024-05-22T13:06:30.630940Z"
    }
   },
   "source": [
    "Team_A_time = {key: 4 for key in range(1, 21)}\n",
    "Team_A_time.update({key: 3 for key in range(21, 56)})\n",
    "Team_A_time.update({key: 2 for key in range(56, 81)})\n",
    "Team_A_time.update({key: 8 for key in range(81, 101)})\n",
    "\n",
    "Team_B_time = {j : Team_A_time[j] + 1 for j in range(1, 26)}\n",
    "Team_B_time.update({j : Team_A_time[j] + 2 for j in range(26, 71)})\n",
    "Team_B_time.update({j : Team_A_time[j] + 1 for j in range(71, 101)})"
   ],
   "outputs": [],
   "execution_count": 5
  },
  {
   "cell_type": "code",
   "metadata": {
    "ExecuteTime": {
     "end_time": "2024-05-22T13:06:30.646754Z",
     "start_time": "2024-05-22T13:06:30.637620Z"
    }
   },
   "source": [
    "T1_time = Team_A_time\n",
    "T2_time = Team_B_time\n",
    "T3_time = Team_A_time\n",
    "T4_time = Team_B_time\n",
    "\n",
    "# average working time on an engine over all teams, per engine\n",
    "average_time = {}\n",
    "for i in range(1, 101):\n",
    "    average_time[i] = (T1_time[i] + T2_time[i] + T3_time[i] + T4_time[i]) / 4\n",
    "\n",
    "# engine average working time\n",
    "average_engine_time = sum(average_time.values()) / len(average_time)\n",
    "\n",
    "print(average_time)\n",
    "print(average_engine_time)\n",
    "\n",
    "print(average_engine_time * 19)\n"
   ],
   "outputs": [
    {
     "name": "stdout",
     "output_type": "stream",
     "text": [
      "{1: 4.5, 2: 4.5, 3: 4.5, 4: 4.5, 5: 4.5, 6: 4.5, 7: 4.5, 8: 4.5, 9: 4.5, 10: 4.5, 11: 4.5, 12: 4.5, 13: 4.5, 14: 4.5, 15: 4.5, 16: 4.5, 17: 4.5, 18: 4.5, 19: 4.5, 20: 4.5, 21: 3.5, 22: 3.5, 23: 3.5, 24: 3.5, 25: 3.5, 26: 4.0, 27: 4.0, 28: 4.0, 29: 4.0, 30: 4.0, 31: 4.0, 32: 4.0, 33: 4.0, 34: 4.0, 35: 4.0, 36: 4.0, 37: 4.0, 38: 4.0, 39: 4.0, 40: 4.0, 41: 4.0, 42: 4.0, 43: 4.0, 44: 4.0, 45: 4.0, 46: 4.0, 47: 4.0, 48: 4.0, 49: 4.0, 50: 4.0, 51: 4.0, 52: 4.0, 53: 4.0, 54: 4.0, 55: 4.0, 56: 3.0, 57: 3.0, 58: 3.0, 59: 3.0, 60: 3.0, 61: 3.0, 62: 3.0, 63: 3.0, 64: 3.0, 65: 3.0, 66: 3.0, 67: 3.0, 68: 3.0, 69: 3.0, 70: 3.0, 71: 2.5, 72: 2.5, 73: 2.5, 74: 2.5, 75: 2.5, 76: 2.5, 77: 2.5, 78: 2.5, 79: 2.5, 80: 2.5, 81: 8.5, 82: 8.5, 83: 8.5, 84: 8.5, 85: 8.5, 86: 8.5, 87: 8.5, 88: 8.5, 89: 8.5, 90: 8.5, 91: 8.5, 92: 8.5, 93: 8.5, 94: 8.5, 95: 8.5, 96: 8.5, 97: 8.5, 98: 8.5, 99: 8.5, 100: 8.5}\n",
      "4.675\n",
      "88.825\n"
     ]
    }
   ],
   "execution_count": 6
  },
  {
   "cell_type": "markdown",
   "metadata": {},
   "source": [
    "## 2.1 Genetic Algorithm"
   ]
  },
  {
   "cell_type": "markdown",
   "metadata": {},
   "source": [
    "# Random Initializer"
   ]
  },
  {
   "cell_type": "code",
   "metadata": {
    "ExecuteTime": {
     "end_time": "2024-05-22T13:06:30.654247Z",
     "start_time": "2024-05-22T13:06:30.646754Z"
    }
   },
   "source": [
    "def random_init(engines_RUL):\n",
    "    \"\"\" Randomly initialize a schedule\n",
    "    \n",
    "    Parameters:\n",
    "        engines_RUL : dict\n",
    "            Dictionary with the RUL of each engine\n",
    "    \n",
    "    Returns:\n",
    "        schedule : dict\n",
    "            Dictionary with the schedule\n",
    "    \"\"\"\n",
    "    \n",
    "    schedule = {\"T1\":[], \"T2\":[], \"T3\":[], \"T4\":[]}\n",
    "    \n",
    "    possible_engines = list(engines_RUL.keys())\n",
    "    possible_teams = [\"T1\", \"T2\", \"T3\", \"T4\"]\n",
    "    \n",
    "    iterations = 0 \n",
    "    \n",
    "    while possible_engines and iterations < 500:\n",
    "        index = random.randrange(4)\n",
    "        team = possible_teams[index]\n",
    "        \n",
    "        index = random.randrange(len(possible_engines))\n",
    "        selected_engine = possible_engines[index]\n",
    "        \n",
    "        schedule[team].append(selected_engine)\n",
    "        \n",
    "        possible_engines.remove(selected_engine)\n",
    "        \n",
    "        iterations += 1\n",
    "\n",
    "    return schedule"
   ],
   "outputs": [],
   "execution_count": 7
  },
  {
   "cell_type": "code",
   "metadata": {
    "ExecuteTime": {
     "end_time": "2024-05-22T13:06:30.664114Z",
     "start_time": "2024-05-22T13:06:30.654247Z"
    }
   },
   "source": [
    "random_init(engine_RUL_30)"
   ],
   "outputs": [
    {
     "data": {
      "text/plain": [
       "{'T1': [20, 34, 35, 76, 81, 66, 61],\n",
       " 'T2': [37, 52, 100, 77, 42],\n",
       " 'T3': [49, 24, 58, 41, 68],\n",
       " 'T4': [31, 56, 82]}"
      ]
     },
     "execution_count": 8,
     "metadata": {},
     "output_type": "execute_result"
    }
   ],
   "execution_count": 8
  },
  {
   "cell_type": "markdown",
   "metadata": {},
   "source": [
    "# Loss Function"
   ]
  },
  {
   "cell_type": "code",
   "metadata": {
    "ExecuteTime": {
     "end_time": "2024-05-22T13:06:30.676540Z",
     "start_time": "2024-05-22T13:06:30.664114Z"
    }
   },
   "source": [
    "def engine_fix_date(schedule):\n",
    "    \"\"\" Calculate when each engine will be fixed\n",
    "    \n",
    "    Parameters:\n",
    "        schedule : dict\n",
    "            Dictionary with the schedule\n",
    "    \n",
    "    Returns:\n",
    "        engine_fix : dict\n",
    "            Dictionary with the fix date of each engine\n",
    "    \"\"\"\n",
    "    engine_fix = {}\n",
    "    for team in schedule:\n",
    "        days = 0\n",
    "        if team == \"T1\" or team == \"T3\":\n",
    "            time_table = Team_A_time\n",
    "        else:\n",
    "            time_table = Team_B_time\n",
    "            \n",
    "        for engine in schedule[team]:\n",
    "            engine_fix[engine] = days\n",
    "            days = days + time_table[engine]\n",
    "    return engine_fix\n",
    "\n",
    "def engine_finish_date(fix_date, schedule):\n",
    "    \"\"\" Calculate when each engine will be finished\n",
    "    \n",
    "    Parameters:\n",
    "        fix_date : dict\n",
    "            Dictionary with the fix date of each engine\n",
    "        schedule : dict\n",
    "            Dictionary with the schedule\n",
    "    \n",
    "    Returns:\n",
    "        engine_finish : dict\n",
    "            Dictionary with the finish date of each engine\n",
    "    \"\"\"\n",
    "    engine_finish = {}\n",
    "    for team in schedule:\n",
    "        if team == \"T1\" or team == \"T3\":\n",
    "            time_table = Team_A_time\n",
    "        else:\n",
    "            time_table = Team_B_time\n",
    "        \n",
    "        for engine in schedule[team]:\n",
    "            finish_date = fix_date[engine] + time_table[engine]\n",
    "            engine_finish[engine] = finish_date\n",
    "            \n",
    "    return engine_finish\n",
    "    \n",
    "    \n",
    "    \n",
    "initial_schedule = random_init(engine_RUL_30)\n",
    "\n",
    "\n",
    "engine_cost = {key: 4 for key in range(1, 21)}\n",
    "engine_cost.update({key: 3 for key in range(21, 31)})\n",
    "engine_cost.update({key: 2 for key in range(31, 46)})\n",
    "engine_cost.update({key: 5 for key in range(46, 81)})\n",
    "engine_cost.update({key: 6 for key in range(81, 101)})\n",
    "\n",
    "def calc_engine_loss(engine, engine_RUL, fix_dates):\n",
    "    \"\"\" Calculate the loss of an engine\n",
    "    \n",
    "    Parameters:\n",
    "        engine : int\n",
    "            Engine number\n",
    "        engine_RUL : dict\n",
    "            Dictionary of engine RUL values\n",
    "        fix_dates : dict\n",
    "            Dictionary of engine fix dates\n",
    "    \n",
    "    Returns:\n",
    "        engine_loss : float\n",
    "            Loss of the engine\n",
    "    \"\"\"\n",
    "    days_late = fix_dates[engine] - engine_RUL[engine]\n",
    "    engine_loss = 0\n",
    "    if days_late > 0:\n",
    "        cost = engine_cost[engine]\n",
    "    \n",
    "        for i in range(1, days_late+1):\n",
    "            day_loss = cost * (i ** 2)\n",
    "            if day_loss > 250:\n",
    "                day_loss = 250\n",
    "            engine_loss += day_loss\n",
    "    \n",
    "    return engine_loss\n",
    "\n",
    "def loss_function(schedule, engine_RUL, max_length_schedule):\n",
    "    \"\"\" Calculate the loss of the schedule\n",
    "    \n",
    "    Parameters:\n",
    "        schedule : dict\n",
    "            Dictionary with the schedule\n",
    "        engine_RUL : dict\n",
    "            Dictionary of engine RUL values\n",
    "        max_length_schedule : int\n",
    "            Maximum length of the schedule\n",
    "    Returns:\n",
    "        loss : float\n",
    "            Loss of the schedule\n",
    "    \"\"\"\n",
    "    \n",
    "    loss = 0\n",
    "    fix_dates = engine_fix_date(schedule)\n",
    "    finish_date = engine_finish_date(fix_dates, schedule)\n",
    "\n",
    "    for team in schedule:\n",
    "        if not schedule[team]:\n",
    "            continue\n",
    "        team_finish_date = finish_date[schedule[team][-1]]\n",
    "        if team_finish_date > max_length_schedule:\n",
    "            loss += 50000000\n",
    "            continue\n",
    "    \n",
    "    for team in schedule:\n",
    "        for engine in schedule[team]:\n",
    "            loss += calc_engine_loss(engine, engine_RUL, fix_dates)\n",
    "        \n",
    "    return loss  \n",
    "\n",
    "loss_schedule = loss_function(initial_schedule, engine_RUL_30, 100)\n",
    "print(loss_schedule)"
   ],
   "outputs": [
    {
     "name": "stdout",
     "output_type": "stream",
     "text": [
      "3260\n"
     ]
    }
   ],
   "execution_count": 9
  },
  {
   "cell_type": "code",
   "metadata": {
    "ExecuteTime": {
     "end_time": "2024-05-22T13:06:30.683560Z",
     "start_time": "2024-05-22T13:06:30.676540Z"
    }
   },
   "source": [
    "# Calculates the fitness of all the population and returns list of fitness values, index of pop=that pops fitness index\n",
    "def fitness_pop_calc(population, engine_RUL, max_length_schedule):\n",
    "    \"\"\" Calculate the fitness of the population\n",
    "    \n",
    "    Parameters:\n",
    "        population : list\n",
    "            List of schedules\n",
    "        engine_RUL : dict\n",
    "            Dictionary of engine RUL values\n",
    "        engine_cost : dict\n",
    "            Dictionary of engine costs\n",
    "    \n",
    "    Returns:\n",
    "        fitness : list\n",
    "            List of fitness value of each schedule in the population\n",
    "    \"\"\"\n",
    "    fitness = []\n",
    "    for i in range(len(population)):\n",
    "        loss_schedule = loss_function(population[i], engine_RUL, max_length_schedule)\n",
    "        fitness.append(1 / (1 + loss_schedule))\n",
    "    return fitness"
   ],
   "outputs": [],
   "execution_count": 10
  },
  {
   "cell_type": "markdown",
   "metadata": {},
   "source": [
    "# Selection of parents"
   ]
  },
  {
   "cell_type": "code",
   "metadata": {
    "ExecuteTime": {
     "end_time": "2024-05-22T13:06:30.693747Z",
     "start_time": "2024-05-22T13:06:30.683560Z"
    }
   },
   "source": [
    "def rank_selection(population, fitness, num_parents):\n",
    "    \"\"\"\n",
    "    Rank selection method to select parents for the next generation.\n",
    "    \n",
    "    Parameters:\n",
    "        population : list\n",
    "            The population of the current generation.\n",
    "        fitness : list\n",
    "            The fitness values of the solutions in the population.\n",
    "            The largest fitness value is the best performing solution.\n",
    "        num_parents : int\n",
    "            The number of parents to select.\n",
    "    \n",
    "    Returns:\n",
    "        parents : list\n",
    "            The selected parents.\n",
    "    \"\"\"\n",
    "    # Get the indices of the population sorted by fitness in ascending order\n",
    "    sorted_indices = np.argsort(fitness)[::-1]\n",
    "    \n",
    "    # Check if the number of parents is less than the population size, if not, set replacing to True, parents can be used multiple times\n",
    "    if num_parents < 0.7*len(population):\n",
    "        replacing = False\n",
    "    else:\n",
    "        replacing = True\n",
    "    \n",
    "    # Rank the population based on sorted indices\n",
    "    ranked_population = [population[i] for i in sorted_indices]\n",
    "    \n",
    "    # Calculate the selection probabilities\n",
    "    selection_probs = np.linspace(1, 0, len(ranked_population))\n",
    "    \n",
    "    # Select parents based on the selection probabilities\n",
    "    parents_indices = np.random.choice(len(population), num_parents, p=selection_probs/selection_probs.sum(), replace=replacing)\n",
    "    \n",
    "    # Get the parents using the selected indices\n",
    "    parents = [ranked_population[i] for i in parents_indices]\n",
    "    \n",
    "    return parents"
   ],
   "outputs": [],
   "execution_count": 11
  },
  {
   "cell_type": "markdown",
   "metadata": {},
   "source": [
    "# Crossover"
   ]
  },
  {
   "cell_type": "code",
   "metadata": {
    "ExecuteTime": {
     "end_time": "2024-05-22T13:06:30.701368Z",
     "start_time": "2024-05-22T13:06:30.693747Z"
    }
   },
   "source": [
    "parent_1 = random_init(engine_RUL_30)\n",
    "parent_2 = random_init(engine_RUL_30)"
   ],
   "outputs": [],
   "execution_count": 12
  },
  {
   "cell_type": "code",
   "metadata": {
    "ExecuteTime": {
     "end_time": "2024-05-22T13:06:30.714824Z",
     "start_time": "2024-05-22T13:06:30.701368Z"
    }
   },
   "source": [
    "def double_fixer(child, parent):\n",
    "    \"\"\" Fix the values that occur double in the child by swapping them with the skipped ones\n",
    "    \n",
    "    Parameters:\n",
    "        child : dict\n",
    "            Dictionary with the child schedule\n",
    "        parent : dict\n",
    "            Dictionary with the parent schedule\n",
    "            \n",
    "    Returns:\n",
    "        child : dict\n",
    "            Dictionary with the fixed child schedule\n",
    "    \"\"\"\n",
    "    doubles = []\n",
    "    skipped_ones = []\n",
    "    numbers = {}\n",
    "    \n",
    "    for team in parent:\n",
    "        for engine in parent[team]:\n",
    "            numbers[engine] = [0]\n",
    "    \n",
    "    for team in child:\n",
    "        index = -1\n",
    "        for engine in child[team]:\n",
    "            index = index + 1\n",
    "            numbers[engine][0] = numbers[engine][0] + 1\n",
    "            numbers[engine].append(team)\n",
    "            numbers[engine].append(index)\n",
    "                \n",
    "    for key in numbers:\n",
    "        if numbers[key][0] == 0:\n",
    "            skipped_ones.append(key)\n",
    "        elif numbers[key][0] > 1:\n",
    "            doubles.append(key)\n",
    "    \n",
    "    for fault in doubles:\n",
    "        team = numbers[fault][-2]\n",
    "        index = numbers[fault][-1]        \n",
    "        next_missed_one = skipped_ones.pop()\n",
    "        child[team][index] = next_missed_one\n",
    "        \n",
    "    return child\n",
    "\n",
    "def find_center(parent, team, middle_down_round):\n",
    "    \"\"\" Find the middle index of a team in a parent schedule\n",
    "    \n",
    "    Parameters:\n",
    "        parent : dict\n",
    "            Dictionary with the parent schedule\n",
    "        team : str\n",
    "            Team name\n",
    "        middle_down_round : bool\n",
    "            Boolean to check if the middle index is rounded down\n",
    "    \n",
    "    Returns:\n",
    "        middle_index : int\n",
    "            Middle index of the team in the parent schedule\n",
    "        next_middle_down_round : bool\n",
    "            Boolean to check if the next middle index should be rounded down\n",
    "    \"\"\"\n",
    "    if len(parent[team]) % 2 == 0:\n",
    "            middle_index = len(parent[team]) // 2\n",
    "            next_middle_down_round = middle_down_round\n",
    "    else:\n",
    "        if middle_down_round:\n",
    "            middle_index = len(parent[team]) // 2             \n",
    "            next_middle_down_round = False\n",
    "        else: \n",
    "            middle_index = (len(parent[team]) // 2) + 1\n",
    "            next_middle_down_round = True\n",
    "    \n",
    "    return middle_index, next_middle_down_round\n"
   ],
   "outputs": [],
   "execution_count": 13
  },
  {
   "cell_type": "code",
   "metadata": {
    "ExecuteTime": {
     "end_time": "2024-05-22T13:06:30.728761Z",
     "start_time": "2024-05-22T13:06:30.714824Z"
    }
   },
   "source": [
    "def crossover(parent_1, parent_2):\n",
    "    \"\"\" Perform a crossover operation on two parents\n",
    "    \n",
    "    Parameters:\n",
    "        parent_1 : dict\n",
    "            Dictionary with the first parent schedule\n",
    "        parent_2 : dict\n",
    "            Dictionary with the second parent schedule\n",
    "    \n",
    "    Returns:\n",
    "        child1 : dict\n",
    "            Dictionary with the first child schedule\n",
    "        child2 : dict\n",
    "            Dictionary with the second child schedule\n",
    "    \"\"\"\n",
    "    \n",
    "    child1 = {key: [] for key in parent_1}\n",
    "    child2 = {key: [] for key in parent_2} \n",
    "    cross_side = random.choice([\"Left\", \"Right\"]) # Right means you keep the right side of p1 and switch the right side of p2\n",
    "       \n",
    "    p1_middle_down_round = True\n",
    "    p2_middle_down_round = True\n",
    "    \n",
    "    for team in parent_1:\n",
    "        \n",
    "        p1_middle, p1_middle_down_round = find_center(parent_1, team, p1_middle_down_round)\n",
    "        p2_middle, p2_middle_down_round = find_center(parent_2, team, p2_middle_down_round)\n",
    "\n",
    "        \n",
    "        if cross_side == \"Left\":\n",
    "            sub_schedule_p1 = parent_1[team][:p1_middle]\n",
    "            sub_schedule_p2 = parent_2[team][:p2_middle]\n",
    "            \n",
    "            child1[team].extend(sub_schedule_p2)\n",
    "            child1[team].extend(parent_1[team][p1_middle:])\n",
    "            \n",
    "            child2[team].extend(sub_schedule_p1)\n",
    "            child2[team].extend(parent_2[team][p2_middle:])\n",
    "        \n",
    "        if cross_side == \"Right\":\n",
    "            sub_schedule_p1 = parent_1[team][p1_middle:]\n",
    "            sub_schedule_p2 = parent_2[team][p2_middle:]\n",
    "            \n",
    "            child1[team].extend(parent_1[team][:p1_middle])\n",
    "            child1[team].extend(sub_schedule_p2)\n",
    "            \n",
    "            child2[team].extend(parent_2[team][:p2_middle])\n",
    "            child2[team].extend(sub_schedule_p1)\n",
    "    \n",
    "    \n",
    "    child1 = double_fixer(child1, parent_1)\n",
    "    child2 = double_fixer(child2, parent_2)\n",
    "    \n",
    "    return child1, child2\n"
   ],
   "outputs": [],
   "execution_count": 14
  },
  {
   "cell_type": "code",
   "metadata": {
    "ExecuteTime": {
     "end_time": "2024-05-22T13:06:30.738356Z",
     "start_time": "2024-05-22T13:06:30.728761Z"
    }
   },
   "source": [
    "def print_parent_formatted(parent, name):\n",
    "    \"\"\" Print a parent schedule in a formatted way\n",
    "    \n",
    "    Parameters:\n",
    "        parent : dict\n",
    "            Dictionary with the parent schedule\n",
    "        name : str\n",
    "            Name of the parent\n",
    "    \"\"\"\n",
    "    \n",
    "    formatted = ',\\n  '.join(f\"'{key}': {value}\" for key, value in parent.items())\n",
    "    print(f\"{name} = {{\\n  {formatted}\\n}}\")"
   ],
   "outputs": [],
   "execution_count": 15
  },
  {
   "cell_type": "code",
   "metadata": {
    "ExecuteTime": {
     "end_time": "2024-05-22T13:06:30.749178Z",
     "start_time": "2024-05-22T13:06:30.738356Z"
    }
   },
   "source": [
    "# CROSSOVER EXAMPLE: displays the intput and output of the crossover function\n",
    "print_parent_formatted(parent_1, \"parent_1\")\n",
    "print_parent_formatted(parent_2, \"parent_2\")\n",
    "\n",
    "child1, child2 = crossover(parent_1, parent_2)\n",
    "\n",
    "print_parent_formatted(child1, \"child1: \")\n",
    "print_parent_formatted(child2, \"child2: \")\n",
    "\n",
    "print(sum(len(value) for value in child1.values()))\n",
    "print(sum(len(value) for value in child2.values()))\n"
   ],
   "outputs": [
    {
     "name": "stdout",
     "output_type": "stream",
     "text": [
      "parent_1 = {\n",
      "  'T1': [41, 34, 61, 82, 49],\n",
      "  'T2': [77, 31, 56],\n",
      "  'T3': [42, 37, 81, 20],\n",
      "  'T4': [68, 35, 66, 52, 24, 76, 100, 58]\n",
      "}\n",
      "parent_2 = {\n",
      "  'T1': [49, 56, 68, 24, 34],\n",
      "  'T2': [76, 100, 31, 58, 20, 61, 42, 77],\n",
      "  'T3': [66, 81, 52, 41],\n",
      "  'T4': [35, 82, 37]\n",
      "}\n",
      "child1:  = {\n",
      "  'T1': [49, 56, 61, 82, 68],\n",
      "  'T2': [76, 100, 31, 58, 37],\n",
      "  'T3': [66, 81, 42, 20],\n",
      "  'T4': [35, 52, 24, 77, 34, 41]\n",
      "}\n",
      "child2:  = {\n",
      "  'T1': [41, 34, 68, 24, 81],\n",
      "  'T2': [77, 31, 20, 61, 42, 100],\n",
      "  'T3': [58, 37, 52, 56],\n",
      "  'T4': [82, 35, 66, 76, 49]\n",
      "}\n",
      "20\n",
      "20\n"
     ]
    }
   ],
   "execution_count": 16
  },
  {
   "cell_type": "markdown",
   "metadata": {},
   "source": [
    "# Mutation"
   ]
  },
  {
   "cell_type": "code",
   "metadata": {
    "ExecuteTime": {
     "end_time": "2024-05-22T13:06:30.760084Z",
     "start_time": "2024-05-22T13:06:30.749178Z"
    }
   },
   "source": [
    "def random_chooser(schedule):\n",
    "    \"\"\" Chooses a random engine in the schema, and returns its index and the team it is in\n",
    "    \n",
    "    Parameters:\n",
    "        schedule : dict\n",
    "            Dictionary with the child schedule\n",
    "            \n",
    "    Returns:\n",
    "        index : int\n",
    "            Index of the engine in the team\n",
    "        team : str\n",
    "            Team name\n",
    "    \"\"\"\n",
    "    total_length = 0\n",
    "    team_lengths = {}\n",
    "    for team in schedule:\n",
    "        length = len(schedule[team])\n",
    "        team_lengths[team] = length\n",
    "        total_length = total_length + length\n",
    "    \n",
    "    index_team = \"\"\n",
    "    index = random.randrange(total_length)\n",
    "    for team in team_lengths:\n",
    "        if index - team_lengths[team] >= 0:\n",
    "            index = index - team_lengths[team]\n",
    "        else:\n",
    "            index_team = team\n",
    "            break\n",
    "            \n",
    "    return [index, index_team]"
   ],
   "outputs": [],
   "execution_count": 17
  },
  {
   "cell_type": "code",
   "metadata": {
    "ExecuteTime": {
     "end_time": "2024-05-22T13:06:30.769513Z",
     "start_time": "2024-05-22T13:06:30.760084Z"
    }
   },
   "source": [
    "# Potential mutation that is not used in the final algorithm because of its lack of diversion\n",
    "def swap_mutation(child):\n",
    "    \"\"\" Perform a swap mutation on a child\n",
    "    \n",
    "    Parameters:\n",
    "        child : dict\n",
    "            Dictionary with the child schedule\n",
    "    \n",
    "    Returns:\n",
    "        new_child : dict\n",
    "            Dictionary with the mutated child schedule\n",
    "    \"\"\"\n",
    "    engine1  = random_chooser(child)\n",
    "    engine2 = random_chooser(child)\n",
    "    print(engine1)\n",
    "    print(engine2)\n",
    "    \n",
    "    new_child = copy.deepcopy(child)\n",
    "    \n",
    "    new_child[engine1[1]][engine1[0]] = child[engine2[1]][engine2[0]]\n",
    "    new_child[engine2[1]][engine2[0]] = child[engine1[1]][engine1[0]]\n",
    "    \n",
    "    return new_child"
   ],
   "outputs": [],
   "execution_count": 18
  },
  {
   "cell_type": "code",
   "metadata": {
    "ExecuteTime": {
     "end_time": "2024-05-22T13:06:30.776595Z",
     "start_time": "2024-05-22T13:06:30.769513Z"
    }
   },
   "source": [
    "print(child1)\n",
    "new_swap_child = swap_mutation(child1)\n",
    "print(new_swap_child)"
   ],
   "outputs": [
    {
     "name": "stdout",
     "output_type": "stream",
     "text": [
      "{'T1': [49, 56, 61, 82, 68], 'T2': [76, 100, 31, 58, 37], 'T3': [66, 81, 42, 20], 'T4': [35, 52, 24, 77, 34, 41]}\n",
      "[4, 'T2']\n",
      "[2, 'T3']\n",
      "{'T1': [49, 56, 61, 82, 68], 'T2': [76, 100, 31, 58, 42], 'T3': [66, 81, 37, 20], 'T4': [35, 52, 24, 77, 34, 41]}\n"
     ]
    }
   ],
   "execution_count": 19
  },
  {
   "cell_type": "code",
   "metadata": {
    "ExecuteTime": {
     "end_time": "2024-05-22T13:06:30.785362Z",
     "start_time": "2024-05-22T13:06:30.776595Z"
    }
   },
   "source": [
    "def move_mutation(child):\n",
    "    \"\"\" Perform a move mutation on a child\n",
    "    \n",
    "    Parameters:\n",
    "        child : dict\n",
    "            Dictionary with the child schedule\n",
    "    \n",
    "    Returns:\n",
    "        mutated_child : dict\n",
    "            Dictionary with the mutated child schedule\n",
    "    \"\"\"\n",
    "    possible_teams = [\"T1\", \"T2\", \"T3\", \"T4\"]\n",
    "    to_remove = random_chooser(child)\n",
    "    mutated_child = copy.deepcopy(child)\n",
    "    \n",
    "    engine = mutated_child[to_remove[1]].pop(to_remove[0])\n",
    "    team_index = random.randrange(4)\n",
    "    team = possible_teams[team_index]        \n",
    "    length_team = len(mutated_child[team])\n",
    "    if length_team == 0:\n",
    "        mutated_child[team].append(engine)\n",
    "        return mutated_child\n",
    "    \n",
    "    index = random.randrange(length_team)\n",
    "    mutated_child[team].insert(index, engine)\n",
    "    return mutated_child\n"
   ],
   "outputs": [],
   "execution_count": 20
  },
  {
   "cell_type": "code",
   "metadata": {
    "ExecuteTime": {
     "end_time": "2024-05-22T13:06:30.793239Z",
     "start_time": "2024-05-22T13:06:30.785362Z"
    }
   },
   "source": [
    "print(child1)\n",
    "new_additive_child = move_mutation(child1)\n",
    "print(new_additive_child)"
   ],
   "outputs": [
    {
     "name": "stdout",
     "output_type": "stream",
     "text": [
      "{'T1': [49, 56, 61, 82, 68], 'T2': [76, 100, 31, 58, 37], 'T3': [66, 81, 42, 20], 'T4': [35, 52, 24, 77, 34, 41]}\n",
      "{'T1': [49, 56, 61, 82, 68], 'T2': [76, 100, 31, 58, 37], 'T3': [66, 42, 20], 'T4': [35, 52, 24, 77, 81, 34, 41]}\n"
     ]
    }
   ],
   "execution_count": 21
  },
  {
   "cell_type": "markdown",
   "metadata": {},
   "source": [
    "# Genetic Algorithm"
   ]
  },
  {
   "cell_type": "code",
   "metadata": {
    "ExecuteTime": {
     "end_time": "2024-05-22T13:06:30.801709Z",
     "start_time": "2024-05-22T13:06:30.793239Z"
    }
   },
   "source": [
    "def formatter(schedule, engine_RUL):\n",
    "    \"\"\" Format the schedule information\n",
    "    \n",
    "    Parameters:\n",
    "        schedule : dict\n",
    "            Dictionary with the schedule\n",
    "        engine_RUL : dict\n",
    "            Dictionary with the RUL of each engine\n",
    "\n",
    "    \n",
    "    Returns:\n",
    "        df : DataFrame\n",
    "            DataFrame with the formatted schedule information\n",
    "    \"\"\"\n",
    "    fix_dates = engine_fix_date(schedule)  # dictionary with engine as key and the day it will be fixed as value\n",
    "    finish_dates = engine_finish_date(fix_dates, schedule)  # dictionary with engine as key and the day it will be finished as value\n",
    "    \n",
    "    # Initialize a list to store formatted schedule information\n",
    "    formatted_schedule = []\n",
    "    \n",
    "    all_engines = list(range(1, 101))\n",
    "    # List of all the engines (ordered)\n",
    "    engine_list = list(engine_RUL.keys())\n",
    "    engine_list.sort()\n",
    "    \n",
    "    total_penalty_cost = 0\n",
    "    \n",
    "    for engine in all_engines:\n",
    "        if engine in engine_list:\n",
    "            # Determine which team will fix the engine\n",
    "            team = None\n",
    "            for t in schedule:\n",
    "                if engine in schedule[t]:\n",
    "                    team = t\n",
    "                    break\n",
    "                    \n",
    "            if team == \"T1\" or team == \"T3\":\n",
    "                team_type = 'TypeA'\n",
    "            else:\n",
    "                team_type = 'TypeB'\n",
    "            \n",
    "            # Calculate penalty cost incurred\n",
    "            penalty_cost = calc_engine_loss(engine, engine_RUL, finish_dates)\n",
    "            \n",
    "            # Add the penalty cost to the total penalty cost\n",
    "            total_penalty_cost += penalty_cost\n",
    "            \n",
    "            # Add the formatted information for the engine to the list\n",
    "            formatted_schedule.append([\n",
    "                engine, team_type, team, fix_dates[engine], finish_dates[engine], penalty_cost, total_penalty_cost\n",
    "            ])\n",
    "        \n",
    "        # Create a DataFrame for the formatted schedule\n",
    "        df = pd.DataFrame(formatted_schedule, columns=[\n",
    "            \"Engine\", \"Type\", \"Team\", \"Fix Date\", \"Finish Date\", \"Penalty Cost\", \"Total Penalty Cost\"\n",
    "        ])\n",
    "    \n",
    "    return df\n"
   ],
   "outputs": [],
   "execution_count": 22
  },
  {
   "cell_type": "code",
   "metadata": {
    "ExecuteTime": {
     "end_time": "2024-05-22T13:06:30.809754Z",
     "start_time": "2024-05-22T13:06:30.801709Z"
    }
   },
   "source": [
    "def formatter_all_100(schedule, engine_RUL):\n",
    "    \"\"\" Format the schedule information where all 100 engines are present in output, even if not all are scheduled to be fixed.\n",
    "    \n",
    "    Parameters:\n",
    "        schedule : dict\n",
    "            Dictionary with the schedule\n",
    "        engine_RUL : dict\n",
    "            Dictionary with the RUL of each engine\n",
    "    \n",
    "    Returns:\n",
    "        df : DataFrame\n",
    "            DataFrame with the formatted schedule information\n",
    "    \"\"\"\n",
    "    fix_dates = engine_fix_date(schedule)  # dictionary with engine as key and the day it will be fixed as value\n",
    "    finish_dates = engine_finish_date(fix_dates, schedule)  # dictionary with engine as key and the day it will be finished as value\n",
    "    \n",
    "    # Initialize a list to store formatted schedule information\n",
    "    formatted_schedule = []\n",
    "    \n",
    "    all_engines = list(range(1, 101))  # List of all the engines (1 to 100)\n",
    "    \n",
    "    total_penalty_cost = 0\n",
    "    \n",
    "    for engine in all_engines:\n",
    "        if engine in engine_RUL:\n",
    "            # Calculate the loss for the engine\n",
    "            penalty_cost = calc_engine_loss(engine, engine_RUL, fix_dates)\n",
    "            \n",
    "            # Determine which team will fix the engine\n",
    "            team = None\n",
    "            for t in schedule:\n",
    "                if engine in schedule[t]:\n",
    "                    team = t\n",
    "                    break\n",
    "            \n",
    "            if team == \"T1\" or team == \"T3\":\n",
    "                team_type = 'TypeA'\n",
    "            else:\n",
    "                team_type = 'TypeB'\n",
    "            \n",
    "            # Add the penalty cost to the total penalty cost\n",
    "            total_penalty_cost += penalty_cost\n",
    "            \n",
    "            # Add the formatted information for the engine to the list\n",
    "            formatted_schedule.append([\n",
    "                engine, team_type, team, fix_dates[engine], finish_dates[engine], penalty_cost, total_penalty_cost\n",
    "            ])\n",
    "        else:\n",
    "            # Add placeholder information for engines that were not maintained\n",
    "            formatted_schedule.append([\n",
    "                engine, None, None, None, None, 0, total_penalty_cost\n",
    "            ])\n",
    "    \n",
    "    # Create a DataFrame for the formatted schedule\n",
    "    df = pd.DataFrame(formatted_schedule, columns=[\n",
    "        \"Engine\", \"Type\", \"Team\", \"Fix Date\", \"Finish Date\", \"Penalty Cost\", \"Total Penalty Cost\"\n",
    "    ])\n",
    "    \n",
    "    # Set the 'Engine' column as the index\n",
    "    df.set_index(\"Engine\", inplace=True)\n",
    "    \n",
    "    return df"
   ],
   "outputs": [],
   "execution_count": 23
  },
  {
   "cell_type": "code",
   "metadata": {
    "ExecuteTime": {
     "end_time": "2024-05-22T13:06:30.823593Z",
     "start_time": "2024-05-22T13:06:30.809754Z"
    }
   },
   "source": [
    "def selection_func(population, fitness, num_parents):\n",
    "    \"\"\" Select parents for the next generation\n",
    "    \n",
    "    Parameters:\n",
    "        population : list\n",
    "            List of schedules\n",
    "        fitness : list\n",
    "            List of fitness values of the schedules\n",
    "        num_parents : int\n",
    "            Number of parents to select\n",
    "    \n",
    "    Returns:\n",
    "        selected_parents : list\n",
    "            List of selected parents\n",
    "    \"\"\"\n",
    "    selected_parents = rank_selection(population, fitness, num_parents)\n",
    "    return selected_parents\n",
    "\n",
    "def crossover_func(parents, crossover_probability):\n",
    "    \"\"\" Perform crossover on the selected parents applying the probability\n",
    "    \n",
    "    Parameters:\n",
    "        parents : list\n",
    "            List of selected parents\n",
    "        crossover_probability : float\n",
    "            Probability of crossover\n",
    "    \n",
    "    Returns:\n",
    "        offspring : list\n",
    "            List of offspring\n",
    "    \"\"\"\n",
    "    offspring = []\n",
    "    # Go through every 2 parents\n",
    "    for index in range(0, len(parents), 2):\n",
    "        # Check if index + 1 is possible, for uneven numer of population\n",
    "        if index + 1 < len(parents):\n",
    "            if random.random() < crossover_probability:\n",
    "                child1, child2 = crossover(parents[index], parents[index+1])\n",
    "            else:\n",
    "                child1, child2 = parents[index], parents[index+1]\n",
    "            offspring.append(child1)\n",
    "            offspring.append(child2)\n",
    "        else:\n",
    "            offspring.append(random.choice(parents))\n",
    "            \n",
    "    return offspring\n",
    "            \n",
    "def mutation_func(offspring, mutation_probability):\n",
    "    \"\"\" Perform mutation on the offspring applying the probability\n",
    "    \n",
    "    Parameters:\n",
    "        offspring : list\n",
    "            List of offspring\n",
    "        mutation_probability : float\n",
    "            Probability of mutation\n",
    "    \n",
    "    Returns:\n",
    "        new_offspring : list\n",
    "            List of mutated offspring\n",
    "    \"\"\"\n",
    "    new_offspring = []\n",
    "    for child in offspring:\n",
    "        if random.random() < mutation_probability:\n",
    "            new_child = move_mutation(child)\n",
    "        else:\n",
    "            new_child = child\n",
    "        new_offspring.append(new_child)\n",
    "    return new_offspring\n",
    "\n",
    "\n",
    "def get_elite(population, fitness ,num_elites):\n",
    "    \"\"\" Get the elite schedules from the population\n",
    "    \n",
    "    Parameters:\n",
    "        population : list\n",
    "            List of schedules\n",
    "        fitness : list\n",
    "            List of fitness values of the schedules\n",
    "        num_elites : int\n",
    "            Number of elite schedules to select\n",
    "    \n",
    "    Returns:\n",
    "        elite : list\n",
    "            List of elite schedules\n",
    "    \"\"\"\n",
    "    elite = []\n",
    "    for i in range(num_elites):\n",
    "        index = fitness.index(max(fitness))\n",
    "        elite_one = population.pop(index)\n",
    "        elite.append(elite_one)\n",
    "        fitness.pop(index)\n",
    "    \n",
    "    return elite   \n",
    "\n",
    "def termination_criterion(start_time=None, max_time=None, current_generation=None, max_generations=None, stop_at_optimal=None, best_loss=None):\n",
    "    \"\"\"\n",
    "    Check if the termination criteria are met.\n",
    "\n",
    "    Parameters:\n",
    "        start_time : float\n",
    "            The start time of the algorithm.\n",
    "        max_time : float\n",
    "            Maximum time in seconds the algorithm is allowed to run.\n",
    "        current_generation : int\n",
    "            The current generation number.\n",
    "        max_generations : int\n",
    "            Maximum number of generations the algorithm is allowed to run.\n",
    "        stop_at_optimal : bool\n",
    "            If True, the algorithm stops when the optimal solution is found.    \n",
    "        best_loss : float\n",
    "            Loss of the population found so far.\n",
    "    \n",
    "    Returns:\n",
    "        bool\n",
    "            True if the termination criteria are met, False otherwise.\n",
    "    \"\"\"\n",
    "    if max_time is not None:\n",
    "        elapsed_time = t.time() - start_time\n",
    "        if elapsed_time >= max_time:\n",
    "            return True\n",
    "\n",
    "    if max_generations is not None:\n",
    "        if current_generation >= max_generations:\n",
    "            return True\n",
    "    \n",
    "    if stop_at_optimal is not None:\n",
    "        if best_loss == 0:\n",
    "            return True\n",
    "    return False  \n",
    "\n",
    "def get_engine_max_RUL(engine_RUL_full):\n",
    "    engine_max_RUL = 0\n",
    "    for engine in engine_RUL_full.keys():\n",
    "        if engine_RUL_full[engine] > engine_max_RUL:\n",
    "            engine_max_RUL = engine_RUL_full[engine]\n",
    "    return engine_max_RUL\n",
    "\n",
    "def GA_run(initial_population_size, crossover_prob, mutation_prob, engine_RUL_full, nr_elite=0, length_schedule=None, time_limit=600, \n",
    "           num_generations=None, stop_at_optimal=True):\n",
    "    \"\"\" Run the Genetic Algorithm\n",
    "    \n",
    "    Parameters:\n",
    "\n",
    "        initial_population_size : int\n",
    "            Size of the initial population\n",
    "        crossover_prob : float\n",
    "            Probability of crossover\n",
    "        mutation_prob : float\n",
    "            Probability of mutation\n",
    "        engine_RUL_full : dict\n",
    "            Dictionary with the RUL of each engine\n",
    "        nr_elite : int\n",
    "            Number of elite schedules to keep, default is 0\n",
    "        length_schedule : int\n",
    "            Maximum length of the schedule, if not entered will default to a length where the largest RUL is the length\n",
    "        time_limit : int\n",
    "            Maximum time in seconds the algorithm is allowed to run, if not entered will run for 10 minutes by default\n",
    "        num_generations : int\n",
    "            Maximum number of generations the algorithm is allowed to run, it is optional, and time serves as the main termination criterion\n",
    "        stop_at_optimal : bool\n",
    "            If True, the algorithm stops when the optimal solution is found, default is True\n",
    "    \n",
    "    Returns:\n",
    "        best_schedule : dict\n",
    "            Best schedule found by the algorithm\n",
    "        best_loss : float\n",
    "            Loss of the best schedule\n",
    "        formatted_best_schedule : DataFrame\n",
    "            Formatted DataFrame of the best schedule\n",
    "    \"\"\"\n",
    "    start_time = t.time()\n",
    "    \n",
    "    # If the length of the schedule is not given, set it to the highest RUL from the engine RUL data\n",
    "    if length_schedule is None:\n",
    "        length_schedule = get_engine_max_RUL(engine_RUL_full)\n",
    "    \n",
    "    # Filter the engines that have a RUL less than the length of the schedule\n",
    "    engine_RUL = {key: value for key, value in engine_RUL_full.items() if value <= length_schedule}\n",
    "    \n",
    "    # Initialize the population\n",
    "    population = [random_init(engine_RUL) for _ in range(initial_population_size)]\n",
    "    num_parents = len(population)-nr_elite\n",
    "    \n",
    "    best_loss_list = []\n",
    "    current_iteration = 1\n",
    "    stopping_criterion_met = False\n",
    "    while stopping_criterion_met is False:\n",
    "        # Perform the genetic algorithm steps\n",
    "        fitness = fitness_pop_calc(population, engine_RUL, length_schedule)\n",
    "        selected_parents = selection_func(population, fitness, num_parents)\n",
    "        elite = get_elite(population, fitness, nr_elite)\n",
    "        elite_loss = loss_function(elite[0], engine_RUL, length_schedule)\n",
    "        \n",
    "        offspring = crossover_func(selected_parents, crossover_prob)\n",
    "        mutated_offspring = mutation_func(offspring, mutation_prob)\n",
    "        mutated_offspring.extend(elite)\n",
    "        population = mutated_offspring\n",
    "        \n",
    "        # Get the best loss of every generation and append it to the list\n",
    "        fitness_new_pop = fitness_pop_calc(population, engine_RUL, length_schedule)\n",
    "        best_index = fitness_new_pop.index(max(fitness_new_pop))\n",
    "        best_schedule = population[best_index]\n",
    "        best_loss = loss_function(best_schedule, engine_RUL, length_schedule)\n",
    "        best_loss_list.append(best_loss)\n",
    "        \n",
    "        # Check if the stopping criterion is met\n",
    "        stopping_criterion_met = termination_criterion(start_time=start_time, max_time=time_limit, current_generation=current_iteration, max_generations=num_generations, stop_at_optimal=stop_at_optimal, best_loss=elite_loss)\n",
    "        \n",
    "        current_iteration += 1\n",
    "\n",
    "    # Format the final best schedule\n",
    "    formatted_best_schedule = formatter_all_100(best_schedule, engine_RUL)\n",
    "    return best_loss_list, formatted_best_schedule\n",
    "    "
   ],
   "outputs": [],
   "execution_count": 24
  },
  {
   "cell_type": "markdown",
   "metadata": {},
   "source": [
    "# 2.2 Running the genetic algorithm with our own predictions"
   ]
  },
  {
   "cell_type": "code",
   "metadata": {
    "ExecuteTime": {
     "end_time": "2024-05-22T13:06:30.856223Z",
     "start_time": "2024-05-22T13:06:30.823593Z"
    }
   },
   "source": [
    "# 2.2.1 Running the genetic algorithm with our own predictions, with a time limit of 5 minutes, as our algorithm is quite quick to find the optimal solution and by no mean needs 5 minutes, we also included the stop at optimal solution criteria\n",
    "\n",
    "num_generations = None\n",
    "crossover_prob = 0.9\n",
    "mutation_prob = 0.05\n",
    "initial_population_size = 100\n",
    "elitism = 1\n",
    "length_schedule = 30\n",
    "time_limit = 300\n",
    "engine_RUL = engine_RUL_own_predictions\n",
    "stop_at_optimal = True\n",
    "\n",
    "solution_221_complete = GA_run(initial_population_size, crossover_prob,  mutation_prob, engine_RUL, elitism,  length_schedule, time_limit, num_generations, stop_at_optimal)\n",
    "\n",
    "solution_221 = solution_221_complete[1]\n",
    "print(solution_221)"
   ],
   "outputs": [
    {
     "name": "stdout",
     "output_type": "stream",
     "text": [
      "         Type  Team  Fix Date  Finish Date  Penalty Cost  Total Penalty Cost\n",
      "Engine                                                                      \n",
      "1        None  None       NaN          NaN             0                   0\n",
      "2        None  None       NaN          NaN             0                   0\n",
      "3        None  None       NaN          NaN             0                   0\n",
      "4        None  None       NaN          NaN             0                   0\n",
      "5        None  None       NaN          NaN             0                   0\n",
      "...       ...   ...       ...          ...           ...                 ...\n",
      "96       None  None       NaN          NaN             0                   0\n",
      "97       None  None       NaN          NaN             0                   0\n",
      "98       None  None       NaN          NaN             0                   0\n",
      "99       None  None       NaN          NaN             0                   0\n",
      "100     TypeB    T2       9.0         18.0             0                   0\n",
      "\n",
      "[100 rows x 6 columns]\n"
     ]
    }
   ],
   "execution_count": 25
  },
  {
   "cell_type": "markdown",
   "metadata": {},
   "source": []
  },
  {
   "cell_type": "code",
   "metadata": {
    "ExecuteTime": {
     "end_time": "2024-05-22T13:06:30.878104Z",
     "start_time": "2024-05-22T13:06:30.856223Z"
    }
   },
   "source": [
    "# 2.2.2\n",
    "\n",
    "# Set the maximum number of rows to display\n",
    "pd.set_option('display.max_rows', 100)  # Change 100 to the desired number of rows\n",
    "\n",
    "# Set the maximum number of columns to display\n",
    "pd.set_option('display.max_columns', 20)  # Change 20 to the desired number of columns\n",
    "\n",
    "# Set the maximum width of columns\n",
    "pd.set_option('display.max_colwidth', 100)  # Change 100 to the desired width in characters\n",
    "\n",
    "print(solution_221)\n",
    "# Export the DataFrame to a CSV file\n",
    "solution_221.to_csv('solution_221.csv', index=False)"
   ],
   "outputs": [
    {
     "name": "stdout",
     "output_type": "stream",
     "text": [
      "         Type  Team  Fix Date  Finish Date  Penalty Cost  Total Penalty Cost\n",
      "Engine                                                                      \n",
      "1        None  None       NaN          NaN             0                   0\n",
      "2        None  None       NaN          NaN             0                   0\n",
      "3        None  None       NaN          NaN             0                   0\n",
      "4        None  None       NaN          NaN             0                   0\n",
      "5        None  None       NaN          NaN             0                   0\n",
      "6        None  None       NaN          NaN             0                   0\n",
      "7        None  None       NaN          NaN             0                   0\n",
      "8        None  None       NaN          NaN             0                   0\n",
      "9        None  None       NaN          NaN             0                   0\n",
      "10       None  None       NaN          NaN             0                   0\n",
      "11       None  None       NaN          NaN             0                   0\n",
      "12       None  None       NaN          NaN             0                   0\n",
      "13       None  None       NaN          NaN             0                   0\n",
      "14       None  None       NaN          NaN             0                   0\n",
      "15       None  None       NaN          NaN             0                   0\n",
      "16       None  None       NaN          NaN             0                   0\n",
      "17       None  None       NaN          NaN             0                   0\n",
      "18       None  None       NaN          NaN             0                   0\n",
      "19       None  None       NaN          NaN             0                   0\n",
      "20      TypeB    T4      10.0         15.0             0                   0\n",
      "21       None  None       NaN          NaN             0                   0\n",
      "22       None  None       NaN          NaN             0                   0\n",
      "23       None  None       NaN          NaN             0                   0\n",
      "24      TypeA    T1       5.0          8.0             0                   0\n",
      "25       None  None       NaN          NaN             0                   0\n",
      "26       None  None       NaN          NaN             0                   0\n",
      "27       None  None       NaN          NaN             0                   0\n",
      "28       None  None       NaN          NaN             0                   0\n",
      "29       None  None       NaN          NaN             0                   0\n",
      "30       None  None       NaN          NaN             0                   0\n",
      "31      TypeA    T1      12.0         15.0             0                   0\n",
      "32       None  None       NaN          NaN             0                   0\n",
      "33       None  None       NaN          NaN             0                   0\n",
      "34      TypeB    T4       5.0         10.0             0                   0\n",
      "35      TypeB    T4       0.0          5.0             0                   0\n",
      "36       None  None       NaN          NaN             0                   0\n",
      "37      TypeB    T2      23.0         28.0             0                   0\n",
      "38       None  None       NaN          NaN             0                   0\n",
      "39       None  None       NaN          NaN             0                   0\n",
      "40       None  None       NaN          NaN             0                   0\n",
      "41      TypeB    T4      15.0         20.0             0                   0\n",
      "42      TypeA    T1       2.0          5.0             0                   0\n",
      "43       None  None       NaN          NaN             0                   0\n",
      "44       None  None       NaN          NaN             0                   0\n",
      "45       None  None       NaN          NaN             0                   0\n",
      "46       None  None       NaN          NaN             0                   0\n",
      "47       None  None       NaN          NaN             0                   0\n",
      "48       None  None       NaN          NaN             0                   0\n",
      "49      TypeA    T3      12.0         15.0             0                   0\n",
      "50       None  None       NaN          NaN             0                   0\n",
      "51       None  None       NaN          NaN             0                   0\n",
      "52      TypeB    T2      18.0         23.0             0                   0\n",
      "53       None  None       NaN          NaN             0                   0\n",
      "54       None  None       NaN          NaN             0                   0\n",
      "55       None  None       NaN          NaN             0                   0\n",
      "56      TypeA    T3       2.0          4.0             0                   0\n",
      "57       None  None       NaN          NaN             0                   0\n",
      "58      TypeA    T3      15.0         17.0             0                   0\n",
      "59       None  None       NaN          NaN             0                   0\n",
      "60       None  None       NaN          NaN             0                   0\n",
      "61      TypeA    T1      10.0         12.0             0                   0\n",
      "62       None  None       NaN          NaN             0                   0\n",
      "63       None  None       NaN          NaN             0                   0\n",
      "64       None  None       NaN          NaN             0                   0\n",
      "65       None  None       NaN          NaN             0                   0\n",
      "66      TypeA    T3      17.0         19.0             0                   0\n",
      "67       None  None       NaN          NaN             0                   0\n",
      "68      TypeA    T3       0.0          2.0             0                   0\n",
      "69       None  None       NaN          NaN             0                   0\n",
      "70       None  None       NaN          NaN             0                   0\n",
      "71       None  None       NaN          NaN             0                   0\n",
      "72       None  None       NaN          NaN             0                   0\n",
      "73       None  None       NaN          NaN             0                   0\n",
      "74       None  None       NaN          NaN             0                   0\n",
      "75       None  None       NaN          NaN             0                   0\n",
      "76      TypeA    T1       0.0          2.0             0                   0\n",
      "77      TypeA    T1       8.0         10.0             0                   0\n",
      "78       None  None       NaN          NaN             0                   0\n",
      "79       None  None       NaN          NaN             0                   0\n",
      "80       None  None       NaN          NaN             0                   0\n",
      "81      TypeB    T2       0.0          9.0             0                   0\n",
      "82      TypeA    T3       4.0         12.0             0                   0\n",
      "83       None  None       NaN          NaN             0                   0\n",
      "84       None  None       NaN          NaN             0                   0\n",
      "85       None  None       NaN          NaN             0                   0\n",
      "86       None  None       NaN          NaN             0                   0\n",
      "87       None  None       NaN          NaN             0                   0\n",
      "88       None  None       NaN          NaN             0                   0\n",
      "89       None  None       NaN          NaN             0                   0\n",
      "90       None  None       NaN          NaN             0                   0\n",
      "91       None  None       NaN          NaN             0                   0\n",
      "92       None  None       NaN          NaN             0                   0\n",
      "93       None  None       NaN          NaN             0                   0\n",
      "94       None  None       NaN          NaN             0                   0\n",
      "95       None  None       NaN          NaN             0                   0\n",
      "96       None  None       NaN          NaN             0                   0\n",
      "97       None  None       NaN          NaN             0                   0\n",
      "98       None  None       NaN          NaN             0                   0\n",
      "99       None  None       NaN          NaN             0                   0\n",
      "100     TypeB    T2       9.0         18.0             0                   0\n"
     ]
    }
   ],
   "execution_count": 26
  },
  {
   "cell_type": "code",
   "metadata": {
    "ExecuteTime": {
     "end_time": "2024-05-22T13:06:32.450197Z",
     "start_time": "2024-05-22T13:06:30.879612Z"
    }
   },
   "source": [
    "from matplotlib import pyplot as plt\n",
    "\n",
    "# 2.2.3 Running the genetic algorithm with our own predictions 30 times for at most 5 minutes\n",
    "\n",
    "num_generations = None\n",
    "crossover_prob = 0.9\n",
    "mutation_prob = 0.05\n",
    "initial_population_size = 100\n",
    "elitism = 1\n",
    "length_schedule = 30\n",
    "time_limit = 300\n",
    "engine_RUL = engine_RUL_own_predictions\n",
    "stop_at_optimal = True\n",
    "\n",
    "num_runs = 30\n",
    "losses = []\n",
    "\n",
    "for i in range(num_runs):\n",
    "    best_loss_list, _ = GA_run(initial_population_size, crossover_prob,  mutation_prob, engine_RUL, elitism,  length_schedule, time_limit, num_generations, stop_at_optimal)\n",
    "    losses.append(best_loss_list)\n",
    "\n",
    "longest_generation = max(len(loss) for loss in losses)\n",
    "\n",
    "# Fill up the shorter lists (due to less generations) with zeros untill all lists are the same length\n",
    "for loss in losses:\n",
    "    while len(loss) < longest_generation:\n",
    "        loss.append(0)\n",
    "\n",
    "# Calculate the average loss for each generation\n",
    "average_losses = np.mean(losses, axis=0)\n",
    "\n",
    "# Plot the average loss for each generation with a logarithmic scale\n",
    "plt.figure(facecolor='white')\n",
    "plt.plot(average_losses)\n",
    "plt.xlabel(\"Generation\")\n",
    "plt.ylabel(\"Average Loss\")\n",
    "plt.title(\"Average of Best Losses for Each Generation\")\n",
    "\n",
    "# Save the plot before showing it\n",
    "plt.savefig(\"average_loss_plot_2.2.3.jpg\", format='jpg', bbox_inches='tight', facecolor='white', edgecolor='white')\n",
    "\n",
    "# Display the plot\n",
    "plt.show()\n",
    "\n"
   ],
   "outputs": [
    {
     "data": {
      "text/plain": [
       "<Figure size 640x480 with 1 Axes>"
      ],
      "image/png": "[encoded data removed]"
     },
     "metadata": {},
     "output_type": "display_data"
    }
   ],
   "execution_count": 27
  },
  {
   "cell_type": "code",
   "metadata": {
    "ExecuteTime": {
     "end_time": "2024-05-22T13:06:32.457697Z",
     "start_time": "2024-05-22T13:06:32.450197Z"
    }
   },
   "source": [
    "# 2.2.4 we will discuss the findings in the report"
   ],
   "outputs": [],
   "execution_count": 28
  },
  {
   "cell_type": "markdown",
   "metadata": {},
   "source": [
    "# 2.3 Running the genetic algorithm with the predictions of the consultancy company"
   ]
  },
  {
   "cell_type": "code",
   "metadata": {
    "ExecuteTime": {
     "end_time": "2024-05-22T13:06:38.073830Z",
     "start_time": "2024-05-22T13:06:32.457697Z"
    }
   },
   "source": [
    "# 2.3.1 Running the genetic algorithm with the predictions of the consultancy company\n",
    "\n",
    "num_generations = None\n",
    "crossover_prob = 0.9\n",
    "mutation_prob = 0.05\n",
    "initial_population_size = 100\n",
    "elitism = 1\n",
    "length_schedule = 30\n",
    "time_limit = 300\n",
    "engine_RUL = engine_RUL_full_consultancy\n",
    "stop_at_optimal = True\n",
    "\n",
    "num_runs = 30\n",
    "losses = []\n",
    "\n",
    "for i in range(num_runs):\n",
    "    best_loss_list, _ = GA_run(initial_population_size, crossover_prob,  mutation_prob, engine_RUL, elitism,  length_schedule, time_limit, num_generations, stop_at_optimal)\n",
    "    losses.append(best_loss_list)\n",
    "    \n",
    "longest_generation = max(len(loss) for loss in losses)\n",
    "\n",
    "# Fill up the shorter lists (due to less generations) with zeros untill all lists are the same length\n",
    "for loss in losses:\n",
    "    while len(loss) < longest_generation:\n",
    "        loss.append(0)\n",
    "\n",
    "# Calculate the average loss for each generation\n",
    "average_losses = np.mean(losses, axis=0)\n",
    "\n",
    "# Plot the average loss for each generation with a logarithmic scale\n",
    "plt.figure(facecolor='white')\n",
    "plt.plot(average_losses)\n",
    "plt.xlabel(\"Generation\")\n",
    "plt.ylabel(\"Average Loss\")\n",
    "plt.title(\"Average of Best Losses for Each Generation\")\n",
    "plt.yscale('log')  # Set y-axis to logarithmic scale\n",
    "\n",
    "# Save the plot before showing it\n",
    "plt.savefig(\"average_loss_plot_2.3.1.jpg\", format='jpg', bbox_inches='tight', facecolor='white', edgecolor='white')\n",
    "\n",
    "# Display the plot\n",
    "plt.show()"
   ],
   "outputs": [
    {
     "data": {
      "text/plain": [
       "<Figure size 640x480 with 1 Axes>"
      ],
      "image/png": "[encoded data removed]"
     },
     "metadata": {},
     "output_type": "display_data"
    }
   ],
   "execution_count": 29
  },
  {
   "cell_type": "code",
   "metadata": {
    "ExecuteTime": {
     "end_time": "2024-05-22T13:06:38.078787Z",
     "start_time": "2024-05-22T13:06:38.074840Z"
    }
   },
   "source": [
    "# 2.3.2 we will discuss the findings in the report"
   ],
   "outputs": [],
   "execution_count": 30
  }
 ],
 "metadata": {
  "kernelspec": {
   "display_name": ".venv",
   "language": "python",
   "name": "python3"
  },
  "language_info": {
   "codemirror_mode": {
    "name": "ipython",
    "version": 3
   },
   "file_extension": ".py",
   "mimetype": "text/x-python",
   "name": "python",
   "nbconvert_exporter": "python",
   "pygments_lexer": "ipython3",
   "version": "3.9.5"
  }
 },
 "nbformat": 4,
 "nbformat_minor": 2
}
