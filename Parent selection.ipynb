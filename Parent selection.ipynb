{
 "cells": [
  {
   "cell_type": "code",
   "execution_count": null,
   "id": "initial_id",
   "metadata": {
    "collapsed": true
   },
   "outputs": [],
   "source": [
    "import pandas as pd\n",
    "import numpy as np\n",
    "import pygad\n",
    "import random\n",
    "import copy"
   ]
  },
  {
   "metadata": {},
   "cell_type": "code",
   "outputs": [],
   "execution_count": null,
   "source": [
    "import csv\n",
    "\n",
    "# Initialize an empty dictionary\n",
    "enginge_RUL = {}\n",
    "\n",
    "with open('RUL_consultancy_predictions_A3-2.csv', newline='') as csvfile:\n",
    "    # Create a CSV reader object with semicolon as delimiter\n",
    "    reader = csv.reader(csvfile, delimiter=';')\n",
    "    # Skip the header row\n",
    "    next(reader)\n",
    "    # Loop over each row in the CSV\n",
    "    for row in reader:\n",
    "        # Check if row has exactly 2 columns\n",
    "        if len(row) == 2:\n",
    "            enginge_RUL[int(row[1])] = int(row[0])"
   ],
   "id": "e5cf0db854fa83d2"
  },
  {
   "metadata": {},
   "cell_type": "code",
   "outputs": [],
   "execution_count": null,
   "source": "engine_RUL_30 = {key: value for key, value in enginge_RUL.items() if value <= 30}",
   "id": "d8acd7aaa21d509b"
  },
  {
   "metadata": {},
   "cell_type": "code",
   "outputs": [],
   "execution_count": null,
   "source": [
    "Team_A_time = {key: 4 for key in range(1, 21)}\n",
    "Team_A_time.update({key: 3 for key in range(21, 56)})\n",
    "Team_A_time.update({key: 2 for key in range(56, 81)})\n",
    "Team_A_time.update({key: 8 for key in range(81, 101)})\n",
    "\n",
    "Team_B_time = {j : Team_A_time[j] + 1 for j in range(1, 26)}\n",
    "Team_B_time.update({j : Team_A_time[j] + 2 for j in range(26, 71)})\n",
    "Team_B_time.update({j : Team_A_time[j] + 1 for j in range(71, 101)})"
   ],
   "id": "1461e1c3f0f8646e"
  },
  {
   "metadata": {},
   "cell_type": "code",
   "outputs": [],
   "execution_count": null,
   "source": [
    "T1_time = Team_A_time\n",
    "T2_time = Team_B_time\n",
    "T3_time = Team_A_time\n",
    "T4_time = Team_B_time"
   ],
   "id": "e60ed0accab04902"
  },
  {
   "metadata": {},
   "cell_type": "markdown",
   "source": "# Random INIT",
   "id": "e3a041ff597d2e31"
  },
  {
   "metadata": {},
   "cell_type": "code",
   "outputs": [],
   "execution_count": null,
   "source": [
    "def calculate_team_work_time(team, engines):\n",
    "    if team in [\"T1\", \"T3\"]:\n",
    "        engine_times = Team_A_time\n",
    "    else:\n",
    "        engine_times = Team_B_time\n",
    "    \n",
    "    time = 0\n",
    "    \n",
    "    for engine in engines:\n",
    "        time += engine_times[engine]\n",
    "    \n",
    "    return time\n",
    "    \n",
    "\n",
    "def random_init(engines_RUL):\n",
    "    schedule = {\"T1\":[], \"T2\":[], \"T3\":[], \"T4\":[]}\n",
    "    \n",
    "    possible_engines = list(engines_RUL.keys())\n",
    "    possible_teams = [\"T1\", \"T2\", \"T3\", \"T4\"]\n",
    "    \n",
    "    iterations = 0 \n",
    "    \n",
    "    while possible_engines and iterations < 500:\n",
    "        index = random.randrange(4)\n",
    "        team = possible_teams[index]\n",
    "        \n",
    "        index = random.randrange(len(possible_engines))\n",
    "        selected_engine = possible_engines[index]\n",
    "        \n",
    "        schedule[team].append(selected_engine)\n",
    "        \n",
    "        possible_engines.remove(selected_engine)\n",
    "        \n",
    "        iterations += 1\n",
    "\n",
    "    return schedule"
   ],
   "id": "a7a160e54e0de940"
  },
  {
   "metadata": {},
   "cell_type": "markdown",
   "source": "# Parent Selection",
   "id": "e45221607ec87193"
  },
  {
   "metadata": {},
   "cell_type": "code",
   "outputs": [],
   "execution_count": null,
   "source": [
    "# TO DO SELECT ONE DROM PYGAD UTILS\n",
    "# https://pygad.readthedocs.io/en/latest/pygad.html#parent-selection-methods\n"
   ],
   "id": "8f12e14217a42298"
  }
 ],
 "metadata": {
  "kernelspec": {
   "display_name": "Python 3",
   "language": "python",
   "name": "python3"
  },
  "language_info": {
   "codemirror_mode": {
    "name": "ipython",
    "version": 2
   },
   "file_extension": ".py",
   "mimetype": "text/x-python",
   "name": "python",
   "nbconvert_exporter": "python",
   "pygments_lexer": "ipython2",
   "version": "2.7.6"
  }
 },
 "nbformat": 4,
 "nbformat_minor": 5
}
