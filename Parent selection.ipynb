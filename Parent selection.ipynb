{
 "cells": [
  {
   "cell_type": "code",
   "id": "initial_id",
   "metadata": {
    "collapsed": true,
    "ExecuteTime": {
     "end_time": "2024-05-14T11:16:45.265012Z",
     "start_time": "2024-05-14T11:16:45.251919Z"
    }
   },
   "source": [
    "import pandas as pd\n",
    "import numpy as np\n",
    "import pygad\n",
    "import random\n",
    "import copy"
   ],
   "outputs": [],
   "execution_count": 26
  },
  {
   "metadata": {
    "ExecuteTime": {
     "end_time": "2024-05-14T11:16:45.466232Z",
     "start_time": "2024-05-14T11:16:45.446714Z"
    }
   },
   "cell_type": "code",
   "source": [
    "import csv\n",
    "\n",
    "# Initialize an empty dictionary\n",
    "enginge_RUL = {}\n",
    "\n",
    "with open('RUL_consultancy_predictions_A3-2.csv', newline='') as csvfile:\n",
    "    # Create a CSV reader object with semicolon as delimiter\n",
    "    reader = csv.reader(csvfile, delimiter=';')\n",
    "    # Skip the header row\n",
    "    next(reader)\n",
    "    # Loop over each row in the CSV\n",
    "    for row in reader:\n",
    "        # Check if row has exactly 2 columns\n",
    "        if len(row) == 2:\n",
    "            enginge_RUL[int(row[1])] = int(row[0])"
   ],
   "id": "e5cf0db854fa83d2",
   "outputs": [],
   "execution_count": 27
  },
  {
   "metadata": {
    "ExecuteTime": {
     "end_time": "2024-05-14T11:16:45.613291Z",
     "start_time": "2024-05-14T11:16:45.599282Z"
    }
   },
   "cell_type": "code",
   "source": "engine_RUL_30 = {key: value for key, value in enginge_RUL.items() if value <= 30}",
   "id": "d8acd7aaa21d509b",
   "outputs": [],
   "execution_count": 28
  },
  {
   "metadata": {
    "ExecuteTime": {
     "end_time": "2024-05-14T11:16:45.774412Z",
     "start_time": "2024-05-14T11:16:45.764750Z"
    }
   },
   "cell_type": "code",
   "source": [
    "Team_A_time = {key: 4 for key in range(1, 21)}\n",
    "Team_A_time.update({key: 3 for key in range(21, 56)})\n",
    "Team_A_time.update({key: 2 for key in range(56, 81)})\n",
    "Team_A_time.update({key: 8 for key in range(81, 101)})\n",
    "\n",
    "Team_B_time = {j : Team_A_time[j] + 1 for j in range(1, 26)}\n",
    "Team_B_time.update({j : Team_A_time[j] + 2 for j in range(26, 71)})\n",
    "Team_B_time.update({j : Team_A_time[j] + 1 for j in range(71, 101)})"
   ],
   "id": "1461e1c3f0f8646e",
   "outputs": [],
   "execution_count": 29
  },
  {
   "metadata": {
    "ExecuteTime": {
     "end_time": "2024-05-14T11:16:45.946372Z",
     "start_time": "2024-05-14T11:16:45.936934Z"
    }
   },
   "cell_type": "code",
   "source": [
    "T1_time = Team_A_time\n",
    "T2_time = Team_B_time\n",
    "T3_time = Team_A_time\n",
    "T4_time = Team_B_time"
   ],
   "id": "e60ed0accab04902",
   "outputs": [],
   "execution_count": 30
  },
  {
   "metadata": {},
   "cell_type": "markdown",
   "source": "# Random INIT",
   "id": "e3a041ff597d2e31"
  },
  {
   "metadata": {
    "ExecuteTime": {
     "end_time": "2024-05-14T11:16:46.695670Z",
     "start_time": "2024-05-14T11:16:46.689372Z"
    }
   },
   "cell_type": "code",
   "source": [
    "def calculate_team_work_time(team, engines):\n",
    "    \"\"\" Calculate the time it takes for a team to fix a list of engines\n",
    "    \n",
    "    Parameters:\n",
    "        team : str\n",
    "            Team name\n",
    "        engines : list\n",
    "            List of engines to fix\n",
    "    \n",
    "    Returns:\n",
    "        time : int\n",
    "            Time it takes for the team to fix the engines\n",
    "    \"\"\"\n",
    "    if team in [\"T1\", \"T3\"]:\n",
    "        engine_times = Team_A_time\n",
    "    else:\n",
    "        engine_times = Team_B_time\n",
    "    \n",
    "    time = 0\n",
    "    \n",
    "    for engine in engines:\n",
    "        time += engine_times[engine]\n",
    "    \n",
    "    return time\n",
    "    \n",
    "\n",
    "def random_init(engines_RUL):\n",
    "    \"\"\" Randomly initialize a schedule\n",
    "    \n",
    "    Parameters:\n",
    "        engines_RUL : dict\n",
    "            Dictionary with the RUL of each engine\n",
    "    \n",
    "    Returns:\n",
    "        schedule : dict\n",
    "            Dictionary with the schedule\n",
    "    \"\"\"\n",
    "    schedule = {\"T1\":[], \"T2\":[], \"T3\":[], \"T4\":[]}\n",
    "    \n",
    "    possible_engines = list(engines_RUL.keys())\n",
    "    possible_teams = [\"T1\", \"T2\", \"T3\", \"T4\"]\n",
    "    \n",
    "    iterations = 0 \n",
    "    \n",
    "    while possible_engines and iterations < 500:\n",
    "        index = random.randrange(4)\n",
    "        team = possible_teams[index]\n",
    "        \n",
    "        index = random.randrange(len(possible_engines))\n",
    "        selected_engine = possible_engines[index]\n",
    "        \n",
    "        schedule[team].append(selected_engine)\n",
    "        \n",
    "        possible_engines.remove(selected_engine)\n",
    "        \n",
    "        iterations += 1\n",
    "\n",
    "    return schedule"
   ],
   "id": "a7a160e54e0de940",
   "outputs": [],
   "execution_count": 31
  },
  {
   "metadata": {},
   "cell_type": "markdown",
   "source": "# Fitness",
   "id": "dafb935bb0b0f839"
  },
  {
   "metadata": {
    "ExecuteTime": {
     "end_time": "2024-05-14T11:39:33.831898Z",
     "start_time": "2024-05-14T11:39:33.820581Z"
    }
   },
   "cell_type": "code",
   "source": [
    "def engine_fix_date(schedule):\n",
    "    \"\"\" Calculate when each engine will be fixed\n",
    "    \n",
    "    Parameters:\n",
    "        schedule : dict\n",
    "            Dictionary with the schedule\n",
    "    \n",
    "    Returns:\n",
    "        engine_fix : dict\n",
    "            Dictionary with the fix date of each engine\n",
    "    \"\"\"\n",
    "    engine_fix = {}\n",
    "    for team in schedule:\n",
    "        days = 0\n",
    "        if team == \"T1\" or team == \"T3\":\n",
    "            time_table = Team_A_time\n",
    "        else:\n",
    "            time_table = Team_B_time\n",
    "            \n",
    "        for engine in schedule[team]:\n",
    "            engine_fix[engine] = days\n",
    "            days = days + time_table[engine]\n",
    "              \n",
    "    return engine_fix\n",
    "\n",
    "\n",
    "initial_schedule = random_init(engine_RUL_30)\n",
    "\n",
    "engine_cost = {key: 4 for key in range(1, 21)}\n",
    "engine_cost.update({key: 3 for key in range(21, 31)})\n",
    "engine_cost.update({key: 2 for key in range(31, 46)})\n",
    "engine_cost.update({key: 5 for key in range(46, 81)})\n",
    "engine_cost.update({key: 6 for key in range(81, 101)})\n",
    "print(engine_cost)\n",
    "\n",
    "def loss_function(schedule, engine_RUL, engine_cost):\n",
    "    \"\"\" Calculate the loss of the schedule\n",
    "    \n",
    "    Parameters:\n",
    "        schedule : dict\n",
    "            Dictionary with the schedule\n",
    "        engine_RUL : dict\n",
    "            Dictionary of engine RUL values\n",
    "        engine_cost : dict\n",
    "            Dictionary of engine costs\n",
    "    \n",
    "    Returns:\n",
    "        loss : float\n",
    "            Loss of the schedule\n",
    "    \"\"\"\n",
    "    \n",
    "    loss = 0\n",
    "    fix_dates = engine_fix_date(schedule)\n",
    "    for team in schedule:\n",
    "        for engine in schedule[team]:\n",
    "\n",
    "            days_late = fix_dates[engine] - engine_RUL[engine]\n",
    "            engine_loss = 0\n",
    "            if days_late > 0:\n",
    "                cost = engine_cost[engine]\n",
    "    \n",
    "                for i in range(days_late):\n",
    "                    day_loss = cost * (i ** 2)\n",
    "                    if day_loss > 250:\n",
    "                        day_loss = 250\n",
    "                    engine_loss += day_loss\n",
    "            loss += engine_loss\n",
    "        \n",
    "    return loss  \n",
    "\n",
    "loss_schedule = loss_function(initial_schedule, engine_RUL_30, engine_cost)\n",
    "print(loss_schedule)"
   ],
   "id": "ad5580d689732d68",
   "outputs": [
    {
     "name": "stdout",
     "output_type": "stream",
     "text": [
      "{1: 4, 2: 4, 3: 4, 4: 4, 5: 4, 6: 4, 7: 4, 8: 4, 9: 4, 10: 4, 11: 4, 12: 4, 13: 4, 14: 4, 15: 4, 16: 4, 17: 4, 18: 4, 19: 4, 20: 4, 21: 3, 22: 3, 23: 3, 24: 3, 25: 3, 26: 3, 27: 3, 28: 3, 29: 3, 30: 3, 31: 2, 32: 2, 33: 2, 34: 2, 35: 2, 36: 2, 37: 2, 38: 2, 39: 2, 40: 2, 41: 2, 42: 2, 43: 2, 44: 2, 45: 2, 46: 5, 47: 5, 48: 5, 49: 5, 50: 5, 51: 5, 52: 5, 53: 5, 54: 5, 55: 5, 56: 5, 57: 5, 58: 5, 59: 5, 60: 5, 61: 5, 62: 5, 63: 5, 64: 5, 65: 5, 66: 5, 67: 5, 68: 5, 69: 5, 70: 5, 71: 5, 72: 5, 73: 5, 74: 5, 75: 5, 76: 5, 77: 5, 78: 5, 79: 5, 80: 5, 81: 6, 82: 6, 83: 6, 84: 6, 85: 6, 86: 6, 87: 6, 88: 6, 89: 6, 90: 6, 91: 6, 92: 6, 93: 6, 94: 6, 95: 6, 96: 6, 97: 6, 98: 6, 99: 6, 100: 6}\n",
      "20394\n"
     ]
    }
   ],
   "execution_count": 43
  },
  {
   "metadata": {
    "ExecuteTime": {
     "end_time": "2024-05-14T11:39:34.652813Z",
     "start_time": "2024-05-14T11:39:34.638055Z"
    }
   },
   "cell_type": "code",
   "source": [
    "# Calculates the fitness of all the population and returns list of fitness values, index of pop=that pops fitness index\n",
    "def fitness_pop_calc(population, engine_RUL, engine_cost):\n",
    "    \"\"\" Calculate the fitness of the population\n",
    "    \n",
    "    Parameters:\n",
    "        population : list\n",
    "            List of schedules\n",
    "        engine_RUL : dict\n",
    "            Dictionary of engine RUL values\n",
    "        engine_cost : dict\n",
    "            Dictionary of engine costs\n",
    "    \n",
    "    Returns:\n",
    "        fitness : list\n",
    "            List of fitness value of each schedule in the population\n",
    "    \"\"\"\n",
    "    fitness = []\n",
    "    for i in range(len(population)):\n",
    "        loss_schedule = loss_function(population[i], engine_RUL, engine_cost)\n",
    "        fitness.append(1 / (1 + loss_schedule))\n",
    "    return fitness"
   ],
   "id": "dace9cc5ae93267a",
   "outputs": [],
   "execution_count": 44
  },
  {
   "metadata": {},
   "cell_type": "markdown",
   "source": "# Parent Selection",
   "id": "e45221607ec87193"
  },
  {
   "metadata": {
    "ExecuteTime": {
     "end_time": "2024-05-14T11:39:35.867823Z",
     "start_time": "2024-05-14T11:39:35.860086Z"
    }
   },
   "cell_type": "code",
   "source": [
    "# TO DO SELECT ONE DROM PYGAD UTILS\n",
    "# https://pygad.readthedocs.io/en/latest/pygad.html#parent-selection-methods\n",
    "\n",
    "def rank_selection(population, fitness, num_parents):\n",
    "    \"\"\"\n",
    "    Rank selection method to select parents for the next generation.\n",
    "    \n",
    "    Parameters:\n",
    "        population : list\n",
    "            The population of the current generation.\n",
    "        fitness : list\n",
    "            The fitness values of the solutions in the population.\n",
    "            The largest fitness value is the best performing solution.\n",
    "        num_parents : int\n",
    "            The number of parents to select.\n",
    "    \n",
    "    Returns:\n",
    "        parents : list\n",
    "            The selected parents.\n",
    "    \"\"\"\n",
    "    # Get the indices of the population sorted by fitness in ascending order\n",
    "    sorted_indices = np.argsort(fitness)[::-1]\n",
    "    \n",
    "    # Rank the population based on sorted indices\n",
    "    ranked_population = [population[i] for i in sorted_indices]\n",
    "    \n",
    "    # Calculate the selection probabilities\n",
    "    selection_probs = np.linspace(1, 0, len(population))\n",
    "    \n",
    "    # Select parents based on the selection probabilities\n",
    "    parents_indices = np.random.choice(len(population), num_parents, p=selection_probs/selection_probs.sum(), replace=False)\n",
    "    \n",
    "    # Get the parents using the selected indices\n",
    "    parents = [ranked_population[i] for i in parents_indices]\n",
    "    \n",
    "    return parents"
   ],
   "id": "8f12e14217a42298",
   "outputs": [],
   "execution_count": 45
  },
  {
   "metadata": {
    "ExecuteTime": {
     "end_time": "2024-05-14T11:41:21.435937Z",
     "start_time": "2024-05-14T11:41:21.412891Z"
    }
   },
   "cell_type": "code",
   "source": [
    "# Test the rank selection method\n",
    "population = [random_init(engine_RUL_30) for _ in range(4)]\n",
    "fitness = fitness_pop_calc(population, engine_RUL_30, engine_cost)\n",
    "parents = rank_selection(population, fitness, 2)\n",
    "\n",
    "print(\"Population: \")\n",
    "print(population)\n",
    "print(\"Fitness: \")\n",
    "print(fitness)\n",
    "print(\"Parents: \")\n",
    "print(parents)\n"
   ],
   "id": "4e9841a7470852fd",
   "outputs": [
    {
     "name": "stdout",
     "output_type": "stream",
     "text": [
      "Population: \n",
      "[{'T1': [35, 34, 66, 77, 24, 61, 92, 90], 'T2': [100, 20, 64, 40, 41, 82, 37, 36], 'T3': [31, 76, 91, 42, 68, 49], 'T4': [81, 56]}, {'T1': [42, 20, 61], 'T2': [49, 31, 90, 36, 91, 40], 'T3': [66, 37, 64, 68, 92, 81], 'T4': [76, 82, 35, 77, 34, 56, 100, 24, 41]}, {'T1': [37, 64, 76, 56, 61, 42, 31], 'T2': [34, 49, 40, 41, 100, 24, 68, 35], 'T3': [90, 66, 81], 'T4': [36, 20, 92, 91, 82, 77]}, {'T1': [77, 36, 61, 81, 92], 'T2': [35, 91, 31, 34, 42], 'T3': [64, 40, 90, 56, 100, 20, 37, 24], 'T4': [68, 66, 41, 49, 76, 82]}]\n",
      "Fitness: \n",
      "[0.00013044612575006522, 0.00013574046423238766, 7.511454968827462e-05, 0.00013795006207752792]\n",
      "Parents: \n",
      "[{'T1': [77, 36, 61, 81, 92], 'T2': [35, 91, 31, 34, 42], 'T3': [64, 40, 90, 56, 100, 20, 37, 24], 'T4': [68, 66, 41, 49, 76, 82]}, {'T1': [35, 34, 66, 77, 24, 61, 92, 90], 'T2': [100, 20, 64, 40, 41, 82, 37, 36], 'T3': [31, 76, 91, 42, 68, 49], 'T4': [81, 56]}]\n"
     ]
    }
   ],
   "execution_count": 48
  },
  {
   "metadata": {},
   "cell_type": "code",
   "outputs": [],
   "execution_count": null,
   "source": "",
   "id": "6d802c643571b076"
  }
 ],
 "metadata": {
  "kernelspec": {
   "display_name": "Python 3",
   "language": "python",
   "name": "python3"
  },
  "language_info": {
   "codemirror_mode": {
    "name": "ipython",
    "version": 2
   },
   "file_extension": ".py",
   "mimetype": "text/x-python",
   "name": "python",
   "nbconvert_exporter": "python",
   "pygments_lexer": "ipython2",
   "version": "2.7.6"
  }
 },
 "nbformat": 4,
 "nbformat_minor": 5
}
